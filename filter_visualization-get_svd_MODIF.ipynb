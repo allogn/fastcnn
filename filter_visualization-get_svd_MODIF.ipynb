{
 "metadata": {
  "description": "Extracting features and visualizing trained filters with an example image, viewed layer-by-layer.",
  "example_name": "Filter visualization",
  "include_in_docs": true,
  "name": "",
  "priority": 2
 },
 "nbformat": 3,
 "nbformat_minor": 0,
 "worksheets": [
  {
   "cells": [
    {
     "cell_type": "code",
     "collapsed": false,
     "input": [
      "import numpy as np\n",
      "import matplotlib.pyplot as plt\n",
      "%matplotlib inline\n",
      "\n",
      "# Make sure that caffe is on the python path:\n",
      "caffe_root = '/media/alvis/Data/Term1/networksconv/caffe/'  # this file is expected to be in {caffe_root}/examples\n",
      "import sys\n",
      "sys.path.insert(0, caffe_root + 'python')\n",
      "\n",
      "import caffe\n",
      "\n",
      "plt.rcParams['figure.figsize'] = (10, 10)\n",
      "plt.rcParams['image.interpolation'] = 'nearest'\n",
      "plt.rcParams['image.cmap'] = 'gray'"
     ],
     "language": "python",
     "metadata": {},
     "outputs": [],
     "prompt_number": 2
    },
    {
     "cell_type": "code",
     "collapsed": false,
     "input": [
      "net = caffe.Classifier(caffe_root + 'models/bvlc_reference_caffenet/deploy.prototxt',\n",
      "                       caffe_root + 'models/bvlc_reference_caffenet/bvlc_reference_caffenet.caffemodel')\n",
      "net.set_phase_test()\n",
      "net.set_mode_cpu()\n",
      "# input preprocessing: 'data' is the name of the input blob == net.inputs[0]\n",
      "net.set_mean('data', np.load(caffe_root + 'python/caffe/imagenet/ilsvrc_2012_mean.npy'))  # ImageNet mean\n",
      "net.set_raw_scale('data', 255)  # the reference model operates on images in [0,255] range instead of [0,1]\n",
      "net.set_channel_swap('data', (2,1,0))  # the reference model has channels in BGR order instead of RGB"
     ],
     "language": "python",
     "metadata": {},
     "outputs": [],
     "prompt_number": 3
    },
    {
     "cell_type": "code",
     "collapsed": false,
     "input": [
      "from os import walk\n",
      "mypath = caffe_root + 'imagenet_small'\n",
      "f = []\n",
      "for (dirpath, dirnames, filenames) in walk(mypath):\n",
      "    f.extend(dirnames)\n",
      "    break\n",
      "\n",
      "imagenet_labels_filename = caffe_root + 'data/ilsvrc12/synset_words.txt'\n",
      "try:\n",
      "    labels = np.loadtxt(imagenet_labels_filename, str, delimiter='\\t')\n",
      "except:\n",
      "    !../data/ilsvrc12/get_ilsvrc_aux.sh\n",
      "    labels = np.loadtxt(imagenet_labels_filename, str, delimiter='\\t')\n",
      "a = 0\n",
      "result = np.zeros((2,1))\n",
      "result2 = np.zeros((5,1))\n",
      "allpics = 0\n",
      "first = 5\n",
      "for onedir in f:\n",
      "    if a > 1:\n",
      "        break\n",
      "    a = a + 1\n",
      "    files = []\n",
      "    mypath = caffe_root + 'imagenet_small/' + onedir\n",
      "    for (dirpath, dirnames, filenames) in walk(mypath):\n",
      "        if len(filenames):\n",
      "            for onefile in filenames:\n",
      "                if (onefile.find('jpgtags') == -1 and onefile.find('fuse') == -1):\n",
      "                    full = mypath + '/' + onefile\n",
      "                    print full\n",
      "                    scores = net.predict([caffe.io.load_image(full)])\n",
      "                    top_k = net.blobs['prob'].data[4].flatten().argsort()[-1:-1 - first:-1]\n",
      "                    f = open(full + 'tags.in',\"r\")\n",
      "                    tags = labels[top_k]\n",
      "                    tags_orig = f.readlines()\n",
      "                    check1 = 0\n",
      "                    check2 = 0\n",
      "                    for i in xrange(first):\n",
      "                        tags_orig[i] = tags_orig[i][0:-1]\n",
      "                        if tags[i].find(onedir) > -1:\n",
      "                            check1 = 1                            \n",
      "                        if tags_orig[i].find(onedir) > -1:\n",
      "                            check2 = 1\n",
      "                    check3 = 0\n",
      "                    for i in xrange(first):     \n",
      "                        if tags_orig[i].find(tags[i]) > -1:\n",
      "                            result2[i] = result2[i] + 1\n",
      "                    if check1 == 1:\n",
      "                        result[0] = result[0]+1\n",
      "                    if check2 == 1:\n",
      "                        result[1] = result[1]+1\n",
      "                    allpics = allpics+1"
     ],
     "language": "python",
     "metadata": {},
     "outputs": [
      {
       "ename": "IndexError",
       "evalue": "list index out of range",
       "output_type": "pyerr",
       "traceback": [
        "\u001b[0;31m---------------------------------------------------------------------------\u001b[0m\n\u001b[0;31mIndexError\u001b[0m                                Traceback (most recent call last)",
        "\u001b[0;32m<ipython-input-4-ab1f1aef3dde>\u001b[0m in \u001b[0;36m<module>\u001b[0;34m()\u001b[0m\n\u001b[1;32m     37\u001b[0m                     \u001b[0mcheck2\u001b[0m \u001b[0;34m=\u001b[0m \u001b[0;36m0\u001b[0m\u001b[0;34m\u001b[0m\u001b[0m\n\u001b[1;32m     38\u001b[0m                     \u001b[0;32mfor\u001b[0m \u001b[0mi\u001b[0m \u001b[0;32min\u001b[0m \u001b[0mxrange\u001b[0m\u001b[0;34m(\u001b[0m\u001b[0mfirst\u001b[0m\u001b[0;34m)\u001b[0m\u001b[0;34m:\u001b[0m\u001b[0;34m\u001b[0m\u001b[0m\n\u001b[0;32m---> 39\u001b[0;31m                         \u001b[0mtags_orig\u001b[0m\u001b[0;34m[\u001b[0m\u001b[0mi\u001b[0m\u001b[0;34m]\u001b[0m \u001b[0;34m=\u001b[0m \u001b[0mtags_orig\u001b[0m\u001b[0;34m[\u001b[0m\u001b[0mi\u001b[0m\u001b[0;34m]\u001b[0m\u001b[0;34m[\u001b[0m\u001b[0;36m0\u001b[0m\u001b[0;34m:\u001b[0m\u001b[0;34m-\u001b[0m\u001b[0;36m1\u001b[0m\u001b[0;34m]\u001b[0m\u001b[0;34m\u001b[0m\u001b[0m\n\u001b[0m\u001b[1;32m     40\u001b[0m                         \u001b[0;32mif\u001b[0m \u001b[0mtags\u001b[0m\u001b[0;34m[\u001b[0m\u001b[0mi\u001b[0m\u001b[0;34m]\u001b[0m\u001b[0;34m.\u001b[0m\u001b[0mfind\u001b[0m\u001b[0;34m(\u001b[0m\u001b[0monedir\u001b[0m\u001b[0;34m)\u001b[0m \u001b[0;34m>\u001b[0m \u001b[0;34m-\u001b[0m\u001b[0;36m1\u001b[0m\u001b[0;34m:\u001b[0m\u001b[0;34m\u001b[0m\u001b[0m\n\u001b[1;32m     41\u001b[0m                             \u001b[0mcheck1\u001b[0m \u001b[0;34m=\u001b[0m \u001b[0;36m1\u001b[0m\u001b[0;34m\u001b[0m\u001b[0m\n",
        "\u001b[0;31mIndexError\u001b[0m: list index out of range"
       ]
      },
      {
       "output_type": "stream",
       "stream": "stdout",
       "text": [
        "/media/alvis/Data/Term1/networksconv/caffe/imagenet_small/n02443484/126.jpg\n"
       ]
      }
     ],
     "prompt_number": 4
    },
    {
     "cell_type": "code",
     "collapsed": false,
     "input": [
      "print result"
     ],
     "language": "python",
     "metadata": {},
     "outputs": [
      {
       "output_type": "stream",
       "stream": "stdout",
       "text": [
        "[[ 9.]\n",
        " [ 9.]]\n"
       ]
      }
     ],
     "prompt_number": 86
    },
    {
     "cell_type": "code",
     "collapsed": false,
     "input": [
      "allpics"
     ],
     "language": "python",
     "metadata": {},
     "outputs": [
      {
       "metadata": {},
       "output_type": "pyout",
       "prompt_number": 87,
       "text": [
        "9"
       ]
      }
     ],
     "prompt_number": 87
    },
    {
     "cell_type": "code",
     "collapsed": false,
     "input": [
      "print result2"
     ],
     "language": "python",
     "metadata": {},
     "outputs": [
      {
       "output_type": "stream",
       "stream": "stdout",
       "text": [
        "[[ 9.]\n",
        " [ 9.]\n",
        " [ 9.]\n",
        " [ 9.]\n",
        " [ 9.]]\n"
       ]
      }
     ],
     "prompt_number": 88
    },
    {
     "cell_type": "code",
     "collapsed": false,
     "input": [
      "plt.bar(xrange(1,6),result2/allpics)"
     ],
     "language": "python",
     "metadata": {},
     "outputs": [
      {
       "metadata": {},
       "output_type": "pyout",
       "prompt_number": 60,
       "text": [
        "<Container object of 5 artists>"
       ]
      },
      {
       "metadata": {},
       "output_type": "display_data",
       "png": "[encoded data removed]",
       "text": [
        "<matplotlib.figure.Figure at 0x7f031d37fc50>"
       ]
      }
     ],
     "prompt_number": 60
    },
    {
     "cell_type": "code",
     "collapsed": false,
     "input": [],
     "language": "python",
     "metadata": {},
     "outputs": []
    }
   ],
   "metadata": {}
  }
 ]
}