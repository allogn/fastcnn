{
 "metadata": {
  "description": "Extracting features and visualizing trained filters with an example image, viewed layer-by-layer.",
  "example_name": "Filter visualization",
  "include_in_docs": true,
  "name": "",
  "priority": 2
 },
 "nbformat": 3,
 "nbformat_minor": 0,
 "worksheets": [
  {
   "cells": [
    {
     "cell_type": "code",
     "collapsed": false,
     "input": [
      "import numpy as np\n",
      "import matplotlib.pyplot as plt\n",
      "%matplotlib inline\n",
      "\n",
      "# Make sure that caffe is on the python path:\n",
      "caffe_root = '/media/alvis/Data/Term1/networksconv/caffe/'  # this file is expected to be in {caffe_root}/examples\n",
      "import sys\n",
      "sys.path.insert(0, caffe_root + 'python')\n",
      "\n",
      "import caffe\n",
      "\n",
      "plt.rcParams['figure.figsize'] = (10, 10)\n",
      "plt.rcParams['image.interpolation'] = 'nearest'\n",
      "plt.rcParams['image.cmap'] = 'gray'"
     ],
     "language": "python",
     "metadata": {},
     "outputs": [],
     "prompt_number": 1
    },
    {
     "cell_type": "code",
     "collapsed": false,
     "input": [
      "net = caffe.Classifier(caffe_root + 'models/bvlc_reference_caffenet/deploy.prototxt',\n",
      "                       caffe_root + 'models/bvlc_reference_caffenet/bvlc_reference_caffenet.caffemodel')\n",
      "net.set_phase_test()\n",
      "net.set_mode_cpu()\n",
      "# input preprocessing: 'data' is the name of the input blob == net.inputs[0]\n",
      "net.set_mean('data', np.load(caffe_root + 'python/caffe/imagenet/ilsvrc_2012_mean.npy'))  # ImageNet mean\n",
      "net.set_raw_scale('data', 255)  # the reference model operates on images in [0,255] range instead of [0,1]\n",
      "net.set_channel_swap('data', (2,1,0))  # the reference model has channels in BGR order instead of RGB"
     ],
     "language": "python",
     "metadata": {},
     "outputs": [],
     "prompt_number": 2
    },
    {
     "cell_type": "code",
     "collapsed": false,
     "input": [
      "from os import walk\n",
      "mypath = caffe_root + 'imagenet_small'\n",
      "f = []\n",
      "for (dirpath, dirnames, filenames) in walk(mypath):\n",
      "    f.extend(dirnames)\n",
      "    break\n",
      "\n",
      "imagenet_labels_filename = caffe_root + 'data/ilsvrc12/synset_words.txt'\n",
      "try:\n",
      "    labels = np.loadtxt(imagenet_labels_filename, str, delimiter='\\t')\n",
      "except:\n",
      "    !../data/ilsvrc12/get_ilsvrc_aux.sh\n",
      "    labels = np.loadtxt(imagenet_labels_filename, str, delimiter='\\t')\n",
      "allpics = 0\n",
      "\n",
      "dirnum = 0\n",
      "a = 0\n",
      "\n",
      "result = 0\n",
      "for onedir in f:\n",
      "    files = []\n",
      "    mypath = caffe_root + 'imagenet_small/' + onedir\n",
      "    for (dirpath, dirnames, filenames) in walk(mypath):\n",
      "        a = 0\n",
      "        if len(filenames):\n",
      "            for onefile in filenames:\n",
      "                if a < 1:\n",
      "                    if (onefile.find('jpgtags') == -1 and onefile.find('fuse') == -1):\n",
      "                        full = mypath + '/' + onefile\n",
      "                        scores = net.predict([caffe.io.load_image(full)])\n",
      "                        top_k = net.blobs['prob'].data[4].flatten().argsort()[-1:-6:-1]\n",
      "                        tags = labels[top_k]\n",
      "                        check1 = 0\n",
      "                        for j in xrange(5):\n",
      "                            if tags[j].find(onedir) > -1:\n",
      "                                check1 = 1  \n",
      "                        result = result + check1\n",
      "                        allpics = allpics + 1\n",
      "                        a = a+1\n",
      "        dirnum = dirnum + 1\n",
      "        print dirnum\n",
      "        print mypath"
     ],
     "language": "python",
     "metadata": {},
     "outputs": [
      {
       "output_type": "stream",
       "stream": "stdout",
       "text": [
        "1\n",
        "/media/alvis/Data/Term1/networksconv/caffe/imagenet_small/n02443484\n",
        "2"
       ]
      },
      {
       "output_type": "stream",
       "stream": "stdout",
       "text": [
        "\n",
        "/media/alvis/Data/Term1/networksconv/caffe/imagenet_small/n01440764\n",
        "3"
       ]
      },
      {
       "output_type": "stream",
       "stream": "stdout",
       "text": [
        "\n",
        "/media/alvis/Data/Term1/networksconv/caffe/imagenet_small/n01443537\n",
        "4"
       ]
      },
      {
       "output_type": "stream",
       "stream": "stdout",
       "text": [
        "\n",
        "/media/alvis/Data/Term1/networksconv/caffe/imagenet_small/n01484850\n",
        "5"
       ]
      },
      {
       "output_type": "stream",
       "stream": "stdout",
       "text": [
        "\n",
        "/media/alvis/Data/Term1/networksconv/caffe/imagenet_small/n01491361\n",
        "6"
       ]
      },
      {
       "output_type": "stream",
       "stream": "stdout",
       "text": [
        "\n",
        "/media/alvis/Data/Term1/networksconv/caffe/imagenet_small/n01494475\n",
        "7"
       ]
      },
      {
       "output_type": "stream",
       "stream": "stdout",
       "text": [
        "\n",
        "/media/alvis/Data/Term1/networksconv/caffe/imagenet_small/n01496331\n",
        "8"
       ]
      },
      {
       "output_type": "stream",
       "stream": "stdout",
       "text": [
        "\n",
        "/media/alvis/Data/Term1/networksconv/caffe/imagenet_small/n01498041\n",
        "9"
       ]
      },
      {
       "output_type": "stream",
       "stream": "stdout",
       "text": [
        "\n",
        "/media/alvis/Data/Term1/networksconv/caffe/imagenet_small/n01514668\n",
        "10"
       ]
      },
      {
       "output_type": "stream",
       "stream": "stdout",
       "text": [
        "\n",
        "/media/alvis/Data/Term1/networksconv/caffe/imagenet_small/n01514859\n",
        "11"
       ]
      },
      {
       "output_type": "stream",
       "stream": "stdout",
       "text": [
        "\n",
        "/media/alvis/Data/Term1/networksconv/caffe/imagenet_small/n01518878\n",
        "12"
       ]
      },
      {
       "output_type": "stream",
       "stream": "stdout",
       "text": [
        "\n",
        "/media/alvis/Data/Term1/networksconv/caffe/imagenet_small/n01530575\n",
        "13"
       ]
      },
      {
       "output_type": "stream",
       "stream": "stdout",
       "text": [
        "\n",
        "/media/alvis/Data/Term1/networksconv/caffe/imagenet_small/n01531178\n",
        "14"
       ]
      },
      {
       "output_type": "stream",
       "stream": "stdout",
       "text": [
        "\n",
        "/media/alvis/Data/Term1/networksconv/caffe/imagenet_small/n01532829\n",
        "15"
       ]
      },
      {
       "output_type": "stream",
       "stream": "stdout",
       "text": [
        "\n",
        "/media/alvis/Data/Term1/networksconv/caffe/imagenet_small/n01534433\n",
        "16"
       ]
      },
      {
       "output_type": "stream",
       "stream": "stdout",
       "text": [
        "\n",
        "/media/alvis/Data/Term1/networksconv/caffe/imagenet_small/n01537544\n",
        "17"
       ]
      },
      {
       "output_type": "stream",
       "stream": "stdout",
       "text": [
        "\n",
        "/media/alvis/Data/Term1/networksconv/caffe/imagenet_small/n01558993\n",
        "18"
       ]
      },
      {
       "output_type": "stream",
       "stream": "stdout",
       "text": [
        "\n",
        "/media/alvis/Data/Term1/networksconv/caffe/imagenet_small/n01560419\n",
        "19"
       ]
      },
      {
       "output_type": "stream",
       "stream": "stdout",
       "text": [
        "\n",
        "/media/alvis/Data/Term1/networksconv/caffe/imagenet_small/n01580077\n",
        "20"
       ]
      },
      {
       "output_type": "stream",
       "stream": "stdout",
       "text": [
        "\n",
        "/media/alvis/Data/Term1/networksconv/caffe/imagenet_small/n01582220\n",
        "21"
       ]
      },
      {
       "output_type": "stream",
       "stream": "stdout",
       "text": [
        "\n",
        "/media/alvis/Data/Term1/networksconv/caffe/imagenet_small/n01601694\n",
        "22"
       ]
      },
      {
       "output_type": "stream",
       "stream": "stdout",
       "text": [
        "\n",
        "/media/alvis/Data/Term1/networksconv/caffe/imagenet_small/n01608432\n",
        "23"
       ]
      },
      {
       "output_type": "stream",
       "stream": "stdout",
       "text": [
        "\n",
        "/media/alvis/Data/Term1/networksconv/caffe/imagenet_small/n01614925\n",
        "24"
       ]
      },
      {
       "output_type": "stream",
       "stream": "stdout",
       "text": [
        "\n",
        "/media/alvis/Data/Term1/networksconv/caffe/imagenet_small/n01616318\n",
        "25"
       ]
      },
      {
       "output_type": "stream",
       "stream": "stdout",
       "text": [
        "\n",
        "/media/alvis/Data/Term1/networksconv/caffe/imagenet_small/n01622779\n",
        "26"
       ]
      },
      {
       "output_type": "stream",
       "stream": "stdout",
       "text": [
        "\n",
        "/media/alvis/Data/Term1/networksconv/caffe/imagenet_small/n01629819\n",
        "27"
       ]
      },
      {
       "output_type": "stream",
       "stream": "stdout",
       "text": [
        "\n",
        "/media/alvis/Data/Term1/networksconv/caffe/imagenet_small/n01630670\n",
        "28"
       ]
      },
      {
       "output_type": "stream",
       "stream": "stdout",
       "text": [
        "\n",
        "/media/alvis/Data/Term1/networksconv/caffe/imagenet_small/n01631663\n",
        "29"
       ]
      },
      {
       "output_type": "stream",
       "stream": "stdout",
       "text": [
        "\n",
        "/media/alvis/Data/Term1/networksconv/caffe/imagenet_small/n01632458\n",
        "30"
       ]
      },
      {
       "output_type": "stream",
       "stream": "stdout",
       "text": [
        "\n",
        "/media/alvis/Data/Term1/networksconv/caffe/imagenet_small/n01632777\n",
        "31"
       ]
      },
      {
       "output_type": "stream",
       "stream": "stdout",
       "text": [
        "\n",
        "/media/alvis/Data/Term1/networksconv/caffe/imagenet_small/n01641577\n",
        "32"
       ]
      },
      {
       "output_type": "stream",
       "stream": "stdout",
       "text": [
        "\n",
        "/media/alvis/Data/Term1/networksconv/caffe/imagenet_small/n01644373\n",
        "33"
       ]
      },
      {
       "output_type": "stream",
       "stream": "stdout",
       "text": [
        "\n",
        "/media/alvis/Data/Term1/networksconv/caffe/imagenet_small/n01644900\n",
        "34"
       ]
      },
      {
       "output_type": "stream",
       "stream": "stdout",
       "text": [
        "\n",
        "/media/alvis/Data/Term1/networksconv/caffe/imagenet_small/n01664065\n",
        "35"
       ]
      },
      {
       "output_type": "stream",
       "stream": "stdout",
       "text": [
        "\n",
        "/media/alvis/Data/Term1/networksconv/caffe/imagenet_small/n01665541\n",
        "36"
       ]
      },
      {
       "output_type": "stream",
       "stream": "stdout",
       "text": [
        "\n",
        "/media/alvis/Data/Term1/networksconv/caffe/imagenet_small/n01667114\n",
        "37"
       ]
      },
      {
       "output_type": "stream",
       "stream": "stdout",
       "text": [
        "\n",
        "/media/alvis/Data/Term1/networksconv/caffe/imagenet_small/n01667778\n",
        "38"
       ]
      },
      {
       "output_type": "stream",
       "stream": "stdout",
       "text": [
        "\n",
        "/media/alvis/Data/Term1/networksconv/caffe/imagenet_small/n01669191\n",
        "39"
       ]
      },
      {
       "output_type": "stream",
       "stream": "stdout",
       "text": [
        "\n",
        "/media/alvis/Data/Term1/networksconv/caffe/imagenet_small/n01675722\n",
        "40"
       ]
      },
      {
       "output_type": "stream",
       "stream": "stdout",
       "text": [
        "\n",
        "/media/alvis/Data/Term1/networksconv/caffe/imagenet_small/n01682714\n",
        "41"
       ]
      },
      {
       "output_type": "stream",
       "stream": "stdout",
       "text": [
        "\n",
        "/media/alvis/Data/Term1/networksconv/caffe/imagenet_small/n01685808\n",
        "42"
       ]
      },
      {
       "output_type": "stream",
       "stream": "stdout",
       "text": [
        "\n",
        "/media/alvis/Data/Term1/networksconv/caffe/imagenet_small/n01687978\n",
        "43"
       ]
      },
      {
       "output_type": "stream",
       "stream": "stdout",
       "text": [
        "\n",
        "/media/alvis/Data/Term1/networksconv/caffe/imagenet_small/n01688243\n",
        "44"
       ]
      },
      {
       "output_type": "stream",
       "stream": "stdout",
       "text": [
        "\n",
        "/media/alvis/Data/Term1/networksconv/caffe/imagenet_small/n01689811\n",
        "45"
       ]
      },
      {
       "output_type": "stream",
       "stream": "stdout",
       "text": [
        "\n",
        "/media/alvis/Data/Term1/networksconv/caffe/imagenet_small/n01692333\n",
        "46"
       ]
      },
      {
       "output_type": "stream",
       "stream": "stdout",
       "text": [
        "\n",
        "/media/alvis/Data/Term1/networksconv/caffe/imagenet_small/n01693334\n",
        "47"
       ]
      },
      {
       "output_type": "stream",
       "stream": "stdout",
       "text": [
        "\n",
        "/media/alvis/Data/Term1/networksconv/caffe/imagenet_small/n01694178\n",
        "48"
       ]
      },
      {
       "output_type": "stream",
       "stream": "stdout",
       "text": [
        "\n",
        "/media/alvis/Data/Term1/networksconv/caffe/imagenet_small/n01695060\n",
        "49"
       ]
      },
      {
       "output_type": "stream",
       "stream": "stdout",
       "text": [
        "\n",
        "/media/alvis/Data/Term1/networksconv/caffe/imagenet_small/n01697457\n",
        "50"
       ]
      },
      {
       "output_type": "stream",
       "stream": "stdout",
       "text": [
        "\n",
        "/media/alvis/Data/Term1/networksconv/caffe/imagenet_small/n01698640\n",
        "51"
       ]
      },
      {
       "output_type": "stream",
       "stream": "stdout",
       "text": [
        "\n",
        "/media/alvis/Data/Term1/networksconv/caffe/imagenet_small/n01704323\n",
        "52"
       ]
      },
      {
       "output_type": "stream",
       "stream": "stdout",
       "text": [
        "\n",
        "/media/alvis/Data/Term1/networksconv/caffe/imagenet_small/n01728572\n",
        "53"
       ]
      },
      {
       "output_type": "stream",
       "stream": "stdout",
       "text": [
        "\n",
        "/media/alvis/Data/Term1/networksconv/caffe/imagenet_small/n01728920\n",
        "54"
       ]
      },
      {
       "output_type": "stream",
       "stream": "stdout",
       "text": [
        "\n",
        "/media/alvis/Data/Term1/networksconv/caffe/imagenet_small/n01729322\n",
        "55"
       ]
      },
      {
       "output_type": "stream",
       "stream": "stdout",
       "text": [
        "\n",
        "/media/alvis/Data/Term1/networksconv/caffe/imagenet_small/n01729977\n",
        "56"
       ]
      },
      {
       "output_type": "stream",
       "stream": "stdout",
       "text": [
        "\n",
        "/media/alvis/Data/Term1/networksconv/caffe/imagenet_small/n01734418\n",
        "57"
       ]
      },
      {
       "output_type": "stream",
       "stream": "stdout",
       "text": [
        "\n",
        "/media/alvis/Data/Term1/networksconv/caffe/imagenet_small/n01735189\n",
        "58"
       ]
      },
      {
       "output_type": "stream",
       "stream": "stdout",
       "text": [
        "\n",
        "/media/alvis/Data/Term1/networksconv/caffe/imagenet_small/n01737021\n",
        "59"
       ]
      },
      {
       "output_type": "stream",
       "stream": "stdout",
       "text": [
        "\n",
        "/media/alvis/Data/Term1/networksconv/caffe/imagenet_small/n01740131\n",
        "60"
       ]
      },
      {
       "output_type": "stream",
       "stream": "stdout",
       "text": [
        "\n",
        "/media/alvis/Data/Term1/networksconv/caffe/imagenet_small/n01742172\n",
        "61"
       ]
      },
      {
       "output_type": "stream",
       "stream": "stdout",
       "text": [
        "\n",
        "/media/alvis/Data/Term1/networksconv/caffe/imagenet_small/n01744401\n",
        "62"
       ]
      },
      {
       "output_type": "stream",
       "stream": "stdout",
       "text": [
        "\n",
        "/media/alvis/Data/Term1/networksconv/caffe/imagenet_small/n01748264\n",
        "63"
       ]
      },
      {
       "output_type": "stream",
       "stream": "stdout",
       "text": [
        "\n",
        "/media/alvis/Data/Term1/networksconv/caffe/imagenet_small/n01749939\n",
        "64"
       ]
      },
      {
       "output_type": "stream",
       "stream": "stdout",
       "text": [
        "\n",
        "/media/alvis/Data/Term1/networksconv/caffe/imagenet_small/n01751748\n",
        "65"
       ]
      },
      {
       "output_type": "stream",
       "stream": "stdout",
       "text": [
        "\n",
        "/media/alvis/Data/Term1/networksconv/caffe/imagenet_small/n01753488\n",
        "66"
       ]
      },
      {
       "output_type": "stream",
       "stream": "stdout",
       "text": [
        "\n",
        "/media/alvis/Data/Term1/networksconv/caffe/imagenet_small/n01755581\n",
        "67"
       ]
      },
      {
       "output_type": "stream",
       "stream": "stdout",
       "text": [
        "\n",
        "/media/alvis/Data/Term1/networksconv/caffe/imagenet_small/n01756291\n",
        "68"
       ]
      },
      {
       "output_type": "stream",
       "stream": "stdout",
       "text": [
        "\n",
        "/media/alvis/Data/Term1/networksconv/caffe/imagenet_small/n01768244\n",
        "69"
       ]
      },
      {
       "output_type": "stream",
       "stream": "stdout",
       "text": [
        "\n",
        "/media/alvis/Data/Term1/networksconv/caffe/imagenet_small/n01770081\n",
        "70"
       ]
      },
      {
       "output_type": "stream",
       "stream": "stdout",
       "text": [
        "\n",
        "/media/alvis/Data/Term1/networksconv/caffe/imagenet_small/n01770393\n",
        "71"
       ]
      },
      {
       "output_type": "stream",
       "stream": "stdout",
       "text": [
        "\n",
        "/media/alvis/Data/Term1/networksconv/caffe/imagenet_small/n01773157\n",
        "72"
       ]
      },
      {
       "output_type": "stream",
       "stream": "stdout",
       "text": [
        "\n",
        "/media/alvis/Data/Term1/networksconv/caffe/imagenet_small/n01773549\n",
        "73"
       ]
      },
      {
       "output_type": "stream",
       "stream": "stdout",
       "text": [
        "\n",
        "/media/alvis/Data/Term1/networksconv/caffe/imagenet_small/n01773797\n",
        "74"
       ]
      },
      {
       "output_type": "stream",
       "stream": "stdout",
       "text": [
        "\n",
        "/media/alvis/Data/Term1/networksconv/caffe/imagenet_small/n01774384\n",
        "75"
       ]
      },
      {
       "output_type": "stream",
       "stream": "stdout",
       "text": [
        "\n",
        "/media/alvis/Data/Term1/networksconv/caffe/imagenet_small/n01774750\n",
        "76"
       ]
      },
      {
       "output_type": "stream",
       "stream": "stdout",
       "text": [
        "\n",
        "/media/alvis/Data/Term1/networksconv/caffe/imagenet_small/n01775062\n",
        "77"
       ]
      },
      {
       "output_type": "stream",
       "stream": "stdout",
       "text": [
        "\n",
        "/media/alvis/Data/Term1/networksconv/caffe/imagenet_small/n01776313\n",
        "78"
       ]
      },
      {
       "output_type": "stream",
       "stream": "stdout",
       "text": [
        "\n",
        "/media/alvis/Data/Term1/networksconv/caffe/imagenet_small/n01795545\n",
        "79"
       ]
      },
      {
       "output_type": "stream",
       "stream": "stdout",
       "text": [
        "\n",
        "/media/alvis/Data/Term1/networksconv/caffe/imagenet_small/n01796340\n",
        "80"
       ]
      },
      {
       "output_type": "stream",
       "stream": "stdout",
       "text": [
        "\n",
        "/media/alvis/Data/Term1/networksconv/caffe/imagenet_small/n01797886\n",
        "81"
       ]
      },
      {
       "output_type": "stream",
       "stream": "stdout",
       "text": [
        "\n",
        "/media/alvis/Data/Term1/networksconv/caffe/imagenet_small/n01798484\n",
        "82"
       ]
      },
      {
       "output_type": "stream",
       "stream": "stdout",
       "text": [
        "\n",
        "/media/alvis/Data/Term1/networksconv/caffe/imagenet_small/n01806143\n",
        "83"
       ]
      },
      {
       "output_type": "stream",
       "stream": "stdout",
       "text": [
        "\n",
        "/media/alvis/Data/Term1/networksconv/caffe/imagenet_small/n01806567\n",
        "84"
       ]
      },
      {
       "output_type": "stream",
       "stream": "stdout",
       "text": [
        "\n",
        "/media/alvis/Data/Term1/networksconv/caffe/imagenet_small/n01807496\n",
        "85"
       ]
      },
      {
       "output_type": "stream",
       "stream": "stdout",
       "text": [
        "\n",
        "/media/alvis/Data/Term1/networksconv/caffe/imagenet_small/n01817953\n",
        "86"
       ]
      },
      {
       "output_type": "stream",
       "stream": "stdout",
       "text": [
        "\n",
        "/media/alvis/Data/Term1/networksconv/caffe/imagenet_small/n01818515\n",
        "87"
       ]
      },
      {
       "output_type": "stream",
       "stream": "stdout",
       "text": [
        "\n",
        "/media/alvis/Data/Term1/networksconv/caffe/imagenet_small/n01819313\n",
        "88"
       ]
      },
      {
       "output_type": "stream",
       "stream": "stdout",
       "text": [
        "\n",
        "/media/alvis/Data/Term1/networksconv/caffe/imagenet_small/n01820546\n",
        "89"
       ]
      },
      {
       "output_type": "stream",
       "stream": "stdout",
       "text": [
        "\n",
        "/media/alvis/Data/Term1/networksconv/caffe/imagenet_small/n01824575\n",
        "90"
       ]
      },
      {
       "output_type": "stream",
       "stream": "stdout",
       "text": [
        "\n",
        "/media/alvis/Data/Term1/networksconv/caffe/imagenet_small/n01828970\n",
        "91"
       ]
      },
      {
       "output_type": "stream",
       "stream": "stdout",
       "text": [
        "\n",
        "/media/alvis/Data/Term1/networksconv/caffe/imagenet_small/n01829413\n",
        "92"
       ]
      },
      {
       "output_type": "stream",
       "stream": "stdout",
       "text": [
        "\n",
        "/media/alvis/Data/Term1/networksconv/caffe/imagenet_small/n01833805\n",
        "93"
       ]
      },
      {
       "output_type": "stream",
       "stream": "stdout",
       "text": [
        "\n",
        "/media/alvis/Data/Term1/networksconv/caffe/imagenet_small/n01843065\n",
        "94"
       ]
      },
      {
       "output_type": "stream",
       "stream": "stdout",
       "text": [
        "\n",
        "/media/alvis/Data/Term1/networksconv/caffe/imagenet_small/n01843383\n",
        "95"
       ]
      },
      {
       "output_type": "stream",
       "stream": "stdout",
       "text": [
        "\n",
        "/media/alvis/Data/Term1/networksconv/caffe/imagenet_small/n01847000\n",
        "96"
       ]
      },
      {
       "output_type": "stream",
       "stream": "stdout",
       "text": [
        "\n",
        "/media/alvis/Data/Term1/networksconv/caffe/imagenet_small/n01855032\n",
        "97"
       ]
      },
      {
       "output_type": "stream",
       "stream": "stdout",
       "text": [
        "\n",
        "/media/alvis/Data/Term1/networksconv/caffe/imagenet_small/n01592084\n",
        "98"
       ]
      },
      {
       "output_type": "stream",
       "stream": "stdout",
       "text": [
        "\n",
        "/media/alvis/Data/Term1/networksconv/caffe/imagenet_small/n01677366\n",
        "99"
       ]
      },
      {
       "output_type": "stream",
       "stream": "stdout",
       "text": [
        "\n",
        "/media/alvis/Data/Term1/networksconv/caffe/imagenet_small/n01739381\n",
        "100"
       ]
      },
      {
       "output_type": "stream",
       "stream": "stdout",
       "text": [
        "\n",
        "/media/alvis/Data/Term1/networksconv/caffe/imagenet_small/n01784675\n",
        "101"
       ]
      },
      {
       "output_type": "stream",
       "stream": "stdout",
       "text": [
        "\n",
        "/media/alvis/Data/Term1/networksconv/caffe/imagenet_small/n01855672\n",
        "102"
       ]
      },
      {
       "output_type": "stream",
       "stream": "stdout",
       "text": [
        "\n",
        "/media/alvis/Data/Term1/networksconv/caffe/imagenet_small/n01978455\n",
        "103"
       ]
      },
      {
       "output_type": "stream",
       "stream": "stdout",
       "text": [
        "\n",
        "/media/alvis/Data/Term1/networksconv/caffe/imagenet_small/n02025239\n",
        "104"
       ]
      },
      {
       "output_type": "stream",
       "stream": "stdout",
       "text": [
        "\n",
        "/media/alvis/Data/Term1/networksconv/caffe/imagenet_small/n02087394\n",
        "105"
       ]
      },
      {
       "output_type": "stream",
       "stream": "stdout",
       "text": [
        "\n",
        "/media/alvis/Data/Term1/networksconv/caffe/imagenet_small/n02093256\n",
        "106"
       ]
      },
      {
       "output_type": "stream",
       "stream": "stdout",
       "text": [
        "\n",
        "/media/alvis/Data/Term1/networksconv/caffe/imagenet_small/n02097298\n",
        "107"
       ]
      },
      {
       "output_type": "stream",
       "stream": "stdout",
       "text": [
        "\n",
        "/media/alvis/Data/Term1/networksconv/caffe/imagenet_small/n02102318\n",
        "108"
       ]
      },
      {
       "output_type": "stream",
       "stream": "stdout",
       "text": [
        "\n",
        "/media/alvis/Data/Term1/networksconv/caffe/imagenet_small/n02107683\n",
        "109"
       ]
      },
      {
       "output_type": "stream",
       "stream": "stdout",
       "text": [
        "\n",
        "/media/alvis/Data/Term1/networksconv/caffe/imagenet_small/n02112018\n",
        "110"
       ]
      },
      {
       "output_type": "stream",
       "stream": "stdout",
       "text": [
        "\n",
        "/media/alvis/Data/Term1/networksconv/caffe/imagenet_small/n02120079\n",
        "111"
       ]
      },
      {
       "output_type": "stream",
       "stream": "stdout",
       "text": [
        "\n",
        "/media/alvis/Data/Term1/networksconv/caffe/imagenet_small/n02138441\n",
        "112"
       ]
      },
      {
       "output_type": "stream",
       "stream": "stdout",
       "text": [
        "\n",
        "/media/alvis/Data/Term1/networksconv/caffe/imagenet_small/n02268443\n",
        "113"
       ]
      },
      {
       "output_type": "stream",
       "stream": "stdout",
       "text": [
        "\n",
        "/media/alvis/Data/Term1/networksconv/caffe/imagenet_small/n02389026\n",
        "114"
       ]
      },
      {
       "output_type": "stream",
       "stream": "stdout",
       "text": [
        "\n",
        "/media/alvis/Data/Term1/networksconv/caffe/imagenet_small/n01860187\n",
        "115"
       ]
      },
      {
       "output_type": "stream",
       "stream": "stdout",
       "text": [
        "\n",
        "/media/alvis/Data/Term1/networksconv/caffe/imagenet_small/n01871265\n",
        "116"
       ]
      },
      {
       "output_type": "stream",
       "stream": "stdout",
       "text": [
        "\n",
        "/media/alvis/Data/Term1/networksconv/caffe/imagenet_small/n01872401\n",
        "117"
       ]
      },
      {
       "output_type": "stream",
       "stream": "stdout",
       "text": [
        "\n",
        "/media/alvis/Data/Term1/networksconv/caffe/imagenet_small/n01873310\n",
        "118"
       ]
      },
      {
       "output_type": "stream",
       "stream": "stdout",
       "text": [
        "\n",
        "/media/alvis/Data/Term1/networksconv/caffe/imagenet_small/n01882714\n",
        "119"
       ]
      },
      {
       "output_type": "stream",
       "stream": "stdout",
       "text": [
        "\n",
        "/media/alvis/Data/Term1/networksconv/caffe/imagenet_small/n01883070\n",
        "120"
       ]
      },
      {
       "output_type": "stream",
       "stream": "stdout",
       "text": [
        "\n",
        "/media/alvis/Data/Term1/networksconv/caffe/imagenet_small/n01910747\n",
        "121"
       ]
      },
      {
       "output_type": "stream",
       "stream": "stdout",
       "text": [
        "\n",
        "/media/alvis/Data/Term1/networksconv/caffe/imagenet_small/n01914609\n",
        "122"
       ]
      },
      {
       "output_type": "stream",
       "stream": "stdout",
       "text": [
        "\n",
        "/media/alvis/Data/Term1/networksconv/caffe/imagenet_small/n01917289\n",
        "123"
       ]
      },
      {
       "output_type": "stream",
       "stream": "stdout",
       "text": [
        "\n",
        "/media/alvis/Data/Term1/networksconv/caffe/imagenet_small/n01924916\n",
        "124"
       ]
      },
      {
       "output_type": "stream",
       "stream": "stdout",
       "text": [
        "\n",
        "/media/alvis/Data/Term1/networksconv/caffe/imagenet_small/n01930112\n",
        "125"
       ]
      },
      {
       "output_type": "stream",
       "stream": "stdout",
       "text": [
        "\n",
        "/media/alvis/Data/Term1/networksconv/caffe/imagenet_small/n01943899\n",
        "126"
       ]
      },
      {
       "output_type": "stream",
       "stream": "stdout",
       "text": [
        "\n",
        "/media/alvis/Data/Term1/networksconv/caffe/imagenet_small/n01944390\n",
        "127"
       ]
      },
      {
       "output_type": "stream",
       "stream": "stdout",
       "text": [
        "\n",
        "/media/alvis/Data/Term1/networksconv/caffe/imagenet_small/n01945685\n",
        "128"
       ]
      },
      {
       "output_type": "stream",
       "stream": "stdout",
       "text": [
        "\n",
        "/media/alvis/Data/Term1/networksconv/caffe/imagenet_small/n01950731\n",
        "129"
       ]
      },
      {
       "output_type": "stream",
       "stream": "stdout",
       "text": [
        "\n",
        "/media/alvis/Data/Term1/networksconv/caffe/imagenet_small/n01955084\n",
        "130"
       ]
      },
      {
       "output_type": "stream",
       "stream": "stdout",
       "text": [
        "\n",
        "/media/alvis/Data/Term1/networksconv/caffe/imagenet_small/n01968897\n",
        "131"
       ]
      },
      {
       "output_type": "stream",
       "stream": "stdout",
       "text": [
        "\n",
        "/media/alvis/Data/Term1/networksconv/caffe/imagenet_small/n01978287\n",
        "132"
       ]
      },
      {
       "output_type": "stream",
       "stream": "stdout",
       "text": [
        "\n",
        "/media/alvis/Data/Term1/networksconv/caffe/imagenet_small/n01980166\n",
        "133"
       ]
      },
      {
       "output_type": "stream",
       "stream": "stdout",
       "text": [
        "\n",
        "/media/alvis/Data/Term1/networksconv/caffe/imagenet_small/n01981276\n",
        "134"
       ]
      },
      {
       "output_type": "stream",
       "stream": "stdout",
       "text": [
        "\n",
        "/media/alvis/Data/Term1/networksconv/caffe/imagenet_small/n01983481\n",
        "135"
       ]
      },
      {
       "output_type": "stream",
       "stream": "stdout",
       "text": [
        "\n",
        "/media/alvis/Data/Term1/networksconv/caffe/imagenet_small/n01984695\n",
        "136"
       ]
      },
      {
       "output_type": "stream",
       "stream": "stdout",
       "text": [
        "\n",
        "/media/alvis/Data/Term1/networksconv/caffe/imagenet_small/n01985128\n",
        "137"
       ]
      },
      {
       "output_type": "stream",
       "stream": "stdout",
       "text": [
        "\n",
        "/media/alvis/Data/Term1/networksconv/caffe/imagenet_small/n01986214\n",
        "138"
       ]
      },
      {
       "output_type": "stream",
       "stream": "stdout",
       "text": [
        "\n",
        "/media/alvis/Data/Term1/networksconv/caffe/imagenet_small/n01990800\n",
        "139"
       ]
      },
      {
       "output_type": "stream",
       "stream": "stdout",
       "text": [
        "\n",
        "/media/alvis/Data/Term1/networksconv/caffe/imagenet_small/n02002556\n",
        "140"
       ]
      },
      {
       "output_type": "stream",
       "stream": "stdout",
       "text": [
        "\n",
        "/media/alvis/Data/Term1/networksconv/caffe/imagenet_small/n02002724\n",
        "141"
       ]
      },
      {
       "output_type": "stream",
       "stream": "stdout",
       "text": [
        "\n",
        "/media/alvis/Data/Term1/networksconv/caffe/imagenet_small/n02006656\n",
        "142"
       ]
      },
      {
       "output_type": "stream",
       "stream": "stdout",
       "text": [
        "\n",
        "/media/alvis/Data/Term1/networksconv/caffe/imagenet_small/n02007558\n",
        "143"
       ]
      },
      {
       "output_type": "stream",
       "stream": "stdout",
       "text": [
        "\n",
        "/media/alvis/Data/Term1/networksconv/caffe/imagenet_small/n02009229\n",
        "144"
       ]
      },
      {
       "output_type": "stream",
       "stream": "stdout",
       "text": [
        "\n",
        "/media/alvis/Data/Term1/networksconv/caffe/imagenet_small/n02009912\n",
        "145"
       ]
      },
      {
       "output_type": "stream",
       "stream": "stdout",
       "text": [
        "\n",
        "/media/alvis/Data/Term1/networksconv/caffe/imagenet_small/n02011460\n",
        "146"
       ]
      },
      {
       "output_type": "stream",
       "stream": "stdout",
       "text": [
        "\n",
        "/media/alvis/Data/Term1/networksconv/caffe/imagenet_small/n02012849\n",
        "147"
       ]
      },
      {
       "output_type": "stream",
       "stream": "stdout",
       "text": [
        "\n",
        "/media/alvis/Data/Term1/networksconv/caffe/imagenet_small/n02013706\n",
        "148"
       ]
      },
      {
       "output_type": "stream",
       "stream": "stdout",
       "text": [
        "\n",
        "/media/alvis/Data/Term1/networksconv/caffe/imagenet_small/n02017213\n",
        "149"
       ]
      },
      {
       "output_type": "stream",
       "stream": "stdout",
       "text": [
        "\n",
        "/media/alvis/Data/Term1/networksconv/caffe/imagenet_small/n02018207\n",
        "150"
       ]
      },
      {
       "output_type": "stream",
       "stream": "stdout",
       "text": [
        "\n",
        "/media/alvis/Data/Term1/networksconv/caffe/imagenet_small/n02018795\n",
        "151"
       ]
      },
      {
       "output_type": "stream",
       "stream": "stdout",
       "text": [
        "\n",
        "/media/alvis/Data/Term1/networksconv/caffe/imagenet_small/n02027492\n",
        "152"
       ]
      },
      {
       "output_type": "stream",
       "stream": "stdout",
       "text": [
        "\n",
        "/media/alvis/Data/Term1/networksconv/caffe/imagenet_small/n02028035\n",
        "153"
       ]
      },
      {
       "output_type": "stream",
       "stream": "stdout",
       "text": [
        "\n",
        "/media/alvis/Data/Term1/networksconv/caffe/imagenet_small/n02033041\n",
        "154"
       ]
      },
      {
       "output_type": "stream",
       "stream": "stdout",
       "text": [
        "\n",
        "/media/alvis/Data/Term1/networksconv/caffe/imagenet_small/n02037110\n",
        "155"
       ]
      },
      {
       "output_type": "stream",
       "stream": "stdout",
       "text": [
        "\n",
        "/media/alvis/Data/Term1/networksconv/caffe/imagenet_small/n02051845\n",
        "156"
       ]
      },
      {
       "output_type": "stream",
       "stream": "stdout",
       "text": [
        "\n",
        "/media/alvis/Data/Term1/networksconv/caffe/imagenet_small/n02056570\n",
        "157"
       ]
      },
      {
       "output_type": "stream",
       "stream": "stdout",
       "text": [
        "\n",
        "/media/alvis/Data/Term1/networksconv/caffe/imagenet_small/n02058221\n",
        "158"
       ]
      },
      {
       "output_type": "stream",
       "stream": "stdout",
       "text": [
        "\n",
        "/media/alvis/Data/Term1/networksconv/caffe/imagenet_small/n02066245\n",
        "159"
       ]
      },
      {
       "output_type": "stream",
       "stream": "stdout",
       "text": [
        "\n",
        "/media/alvis/Data/Term1/networksconv/caffe/imagenet_small/n02071294\n",
        "160"
       ]
      },
      {
       "output_type": "stream",
       "stream": "stdout",
       "text": [
        "\n",
        "/media/alvis/Data/Term1/networksconv/caffe/imagenet_small/n02074367\n",
        "161"
       ]
      },
      {
       "output_type": "stream",
       "stream": "stdout",
       "text": [
        "\n",
        "/media/alvis/Data/Term1/networksconv/caffe/imagenet_small/n02077923\n",
        "162"
       ]
      },
      {
       "output_type": "stream",
       "stream": "stdout",
       "text": [
        "\n",
        "/media/alvis/Data/Term1/networksconv/caffe/imagenet_small/n02085620\n",
        "163"
       ]
      },
      {
       "output_type": "stream",
       "stream": "stdout",
       "text": [
        "\n",
        "/media/alvis/Data/Term1/networksconv/caffe/imagenet_small/n02085782\n",
        "164"
       ]
      },
      {
       "output_type": "stream",
       "stream": "stdout",
       "text": [
        "\n",
        "/media/alvis/Data/Term1/networksconv/caffe/imagenet_small/n02085936\n",
        "165"
       ]
      },
      {
       "output_type": "stream",
       "stream": "stdout",
       "text": [
        "\n",
        "/media/alvis/Data/Term1/networksconv/caffe/imagenet_small/n02086079\n",
        "166"
       ]
      },
      {
       "output_type": "stream",
       "stream": "stdout",
       "text": [
        "\n",
        "/media/alvis/Data/Term1/networksconv/caffe/imagenet_small/n02086240\n",
        "167"
       ]
      },
      {
       "output_type": "stream",
       "stream": "stdout",
       "text": [
        "\n",
        "/media/alvis/Data/Term1/networksconv/caffe/imagenet_small/n02086646\n",
        "168"
       ]
      },
      {
       "output_type": "stream",
       "stream": "stdout",
       "text": [
        "\n",
        "/media/alvis/Data/Term1/networksconv/caffe/imagenet_small/n02086910\n",
        "169"
       ]
      },
      {
       "output_type": "stream",
       "stream": "stdout",
       "text": [
        "\n",
        "/media/alvis/Data/Term1/networksconv/caffe/imagenet_small/n02087046\n",
        "170"
       ]
      },
      {
       "output_type": "stream",
       "stream": "stdout",
       "text": [
        "\n",
        "/media/alvis/Data/Term1/networksconv/caffe/imagenet_small/n02088094\n",
        "171"
       ]
      },
      {
       "output_type": "stream",
       "stream": "stdout",
       "text": [
        "\n",
        "/media/alvis/Data/Term1/networksconv/caffe/imagenet_small/n02088238\n",
        "172"
       ]
      },
      {
       "output_type": "stream",
       "stream": "stdout",
       "text": [
        "\n",
        "/media/alvis/Data/Term1/networksconv/caffe/imagenet_small/n02088364\n",
        "173"
       ]
      },
      {
       "output_type": "stream",
       "stream": "stdout",
       "text": [
        "\n",
        "/media/alvis/Data/Term1/networksconv/caffe/imagenet_small/n02088466\n",
        "174"
       ]
      },
      {
       "output_type": "stream",
       "stream": "stdout",
       "text": [
        "\n",
        "/media/alvis/Data/Term1/networksconv/caffe/imagenet_small/n02088632\n",
        "175"
       ]
      },
      {
       "output_type": "stream",
       "stream": "stdout",
       "text": [
        "\n",
        "/media/alvis/Data/Term1/networksconv/caffe/imagenet_small/n02089078\n",
        "176"
       ]
      },
      {
       "output_type": "stream",
       "stream": "stdout",
       "text": [
        "\n",
        "/media/alvis/Data/Term1/networksconv/caffe/imagenet_small/n02089867\n",
        "177"
       ]
      },
      {
       "output_type": "stream",
       "stream": "stdout",
       "text": [
        "\n",
        "/media/alvis/Data/Term1/networksconv/caffe/imagenet_small/n02089973\n",
        "178"
       ]
      },
      {
       "output_type": "stream",
       "stream": "stdout",
       "text": [
        "\n",
        "/media/alvis/Data/Term1/networksconv/caffe/imagenet_small/n02090379\n",
        "179"
       ]
      },
      {
       "output_type": "stream",
       "stream": "stdout",
       "text": [
        "\n",
        "/media/alvis/Data/Term1/networksconv/caffe/imagenet_small/n02090622\n",
        "180"
       ]
      },
      {
       "output_type": "stream",
       "stream": "stdout",
       "text": [
        "\n",
        "/media/alvis/Data/Term1/networksconv/caffe/imagenet_small/n02090721\n",
        "181"
       ]
      },
      {
       "output_type": "stream",
       "stream": "stdout",
       "text": [
        "\n",
        "/media/alvis/Data/Term1/networksconv/caffe/imagenet_small/n02091032\n",
        "182"
       ]
      },
      {
       "output_type": "stream",
       "stream": "stdout",
       "text": [
        "\n",
        "/media/alvis/Data/Term1/networksconv/caffe/imagenet_small/n02091134\n",
        "183"
       ]
      },
      {
       "output_type": "stream",
       "stream": "stdout",
       "text": [
        "\n",
        "/media/alvis/Data/Term1/networksconv/caffe/imagenet_small/n02091244\n",
        "184"
       ]
      },
      {
       "output_type": "stream",
       "stream": "stdout",
       "text": [
        "\n",
        "/media/alvis/Data/Term1/networksconv/caffe/imagenet_small/n02091467\n",
        "185"
       ]
      },
      {
       "output_type": "stream",
       "stream": "stdout",
       "text": [
        "\n",
        "/media/alvis/Data/Term1/networksconv/caffe/imagenet_small/n02091635\n",
        "186"
       ]
      },
      {
       "output_type": "stream",
       "stream": "stdout",
       "text": [
        "\n",
        "/media/alvis/Data/Term1/networksconv/caffe/imagenet_small/n02091831\n",
        "187"
       ]
      },
      {
       "output_type": "stream",
       "stream": "stdout",
       "text": [
        "\n",
        "/media/alvis/Data/Term1/networksconv/caffe/imagenet_small/n02092002\n",
        "188"
       ]
      },
      {
       "output_type": "stream",
       "stream": "stdout",
       "text": [
        "\n",
        "/media/alvis/Data/Term1/networksconv/caffe/imagenet_small/n02092339\n",
        "189"
       ]
      },
      {
       "output_type": "stream",
       "stream": "stdout",
       "text": [
        "\n",
        "/media/alvis/Data/Term1/networksconv/caffe/imagenet_small/n02093428\n",
        "190"
       ]
      },
      {
       "output_type": "stream",
       "stream": "stdout",
       "text": [
        "\n",
        "/media/alvis/Data/Term1/networksconv/caffe/imagenet_small/n02093647\n",
        "191"
       ]
      },
      {
       "output_type": "stream",
       "stream": "stdout",
       "text": [
        "\n",
        "/media/alvis/Data/Term1/networksconv/caffe/imagenet_small/n02093754\n",
        "192"
       ]
      },
      {
       "output_type": "stream",
       "stream": "stdout",
       "text": [
        "\n",
        "/media/alvis/Data/Term1/networksconv/caffe/imagenet_small/n02093859\n",
        "193"
       ]
      },
      {
       "output_type": "stream",
       "stream": "stdout",
       "text": [
        "\n",
        "/media/alvis/Data/Term1/networksconv/caffe/imagenet_small/n02093991\n",
        "194"
       ]
      },
      {
       "output_type": "stream",
       "stream": "stdout",
       "text": [
        "\n",
        "/media/alvis/Data/Term1/networksconv/caffe/imagenet_small/n02094114\n",
        "195"
       ]
      },
      {
       "output_type": "stream",
       "stream": "stdout",
       "text": [
        "\n",
        "/media/alvis/Data/Term1/networksconv/caffe/imagenet_small/n02094258\n",
        "196"
       ]
      },
      {
       "output_type": "stream",
       "stream": "stdout",
       "text": [
        "\n",
        "/media/alvis/Data/Term1/networksconv/caffe/imagenet_small/n02094433\n",
        "197"
       ]
      },
      {
       "output_type": "stream",
       "stream": "stdout",
       "text": [
        "\n",
        "/media/alvis/Data/Term1/networksconv/caffe/imagenet_small/n02095314\n",
        "198"
       ]
      },
      {
       "output_type": "stream",
       "stream": "stdout",
       "text": [
        "\n",
        "/media/alvis/Data/Term1/networksconv/caffe/imagenet_small/n02095570\n",
        "199"
       ]
      },
      {
       "output_type": "stream",
       "stream": "stdout",
       "text": [
        "\n",
        "/media/alvis/Data/Term1/networksconv/caffe/imagenet_small/n02095889\n",
        "200"
       ]
      },
      {
       "output_type": "stream",
       "stream": "stdout",
       "text": [
        "\n",
        "/media/alvis/Data/Term1/networksconv/caffe/imagenet_small/n02096051\n",
        "201"
       ]
      },
      {
       "output_type": "stream",
       "stream": "stdout",
       "text": [
        "\n",
        "/media/alvis/Data/Term1/networksconv/caffe/imagenet_small/n02096177\n",
        "202"
       ]
      },
      {
       "output_type": "stream",
       "stream": "stdout",
       "text": [
        "\n",
        "/media/alvis/Data/Term1/networksconv/caffe/imagenet_small/n02096294\n",
        "203"
       ]
      },
      {
       "output_type": "stream",
       "stream": "stdout",
       "text": [
        "\n",
        "/media/alvis/Data/Term1/networksconv/caffe/imagenet_small/n02096437\n",
        "204"
       ]
      },
      {
       "output_type": "stream",
       "stream": "stdout",
       "text": [
        "\n",
        "/media/alvis/Data/Term1/networksconv/caffe/imagenet_small/n02096585\n",
        "205"
       ]
      },
      {
       "output_type": "stream",
       "stream": "stdout",
       "text": [
        "\n",
        "/media/alvis/Data/Term1/networksconv/caffe/imagenet_small/n02097047\n",
        "206"
       ]
      },
      {
       "output_type": "stream",
       "stream": "stdout",
       "text": [
        "\n",
        "/media/alvis/Data/Term1/networksconv/caffe/imagenet_small/n02097130\n",
        "207"
       ]
      },
      {
       "output_type": "stream",
       "stream": "stdout",
       "text": [
        "\n",
        "/media/alvis/Data/Term1/networksconv/caffe/imagenet_small/n02097209\n",
        "208"
       ]
      },
      {
       "output_type": "stream",
       "stream": "stdout",
       "text": [
        "\n",
        "/media/alvis/Data/Term1/networksconv/caffe/imagenet_small/n02097474\n",
        "209"
       ]
      },
      {
       "output_type": "stream",
       "stream": "stdout",
       "text": [
        "\n",
        "/media/alvis/Data/Term1/networksconv/caffe/imagenet_small/n02097658\n",
        "210"
       ]
      },
      {
       "output_type": "stream",
       "stream": "stdout",
       "text": [
        "\n",
        "/media/alvis/Data/Term1/networksconv/caffe/imagenet_small/n02098105\n",
        "211"
       ]
      },
      {
       "output_type": "stream",
       "stream": "stdout",
       "text": [
        "\n",
        "/media/alvis/Data/Term1/networksconv/caffe/imagenet_small/n02098286\n",
        "212"
       ]
      },
      {
       "output_type": "stream",
       "stream": "stdout",
       "text": [
        "\n",
        "/media/alvis/Data/Term1/networksconv/caffe/imagenet_small/n02098413\n",
        "213"
       ]
      },
      {
       "output_type": "stream",
       "stream": "stdout",
       "text": [
        "\n",
        "/media/alvis/Data/Term1/networksconv/caffe/imagenet_small/n02099267\n",
        "214"
       ]
      },
      {
       "output_type": "stream",
       "stream": "stdout",
       "text": [
        "\n",
        "/media/alvis/Data/Term1/networksconv/caffe/imagenet_small/n02099429\n",
        "215"
       ]
      },
      {
       "output_type": "stream",
       "stream": "stdout",
       "text": [
        "\n",
        "/media/alvis/Data/Term1/networksconv/caffe/imagenet_small/n02099601\n",
        "216"
       ]
      },
      {
       "output_type": "stream",
       "stream": "stdout",
       "text": [
        "\n",
        "/media/alvis/Data/Term1/networksconv/caffe/imagenet_small/n02099712\n",
        "217"
       ]
      },
      {
       "output_type": "stream",
       "stream": "stdout",
       "text": [
        "\n",
        "/media/alvis/Data/Term1/networksconv/caffe/imagenet_small/n02099849\n",
        "218"
       ]
      },
      {
       "output_type": "stream",
       "stream": "stdout",
       "text": [
        "\n",
        "/media/alvis/Data/Term1/networksconv/caffe/imagenet_small/n02100236\n",
        "219"
       ]
      },
      {
       "output_type": "stream",
       "stream": "stdout",
       "text": [
        "\n",
        "/media/alvis/Data/Term1/networksconv/caffe/imagenet_small/n02100583\n",
        "220"
       ]
      },
      {
       "output_type": "stream",
       "stream": "stdout",
       "text": [
        "\n",
        "/media/alvis/Data/Term1/networksconv/caffe/imagenet_small/n02100735\n",
        "221"
       ]
      },
      {
       "output_type": "stream",
       "stream": "stdout",
       "text": [
        "\n",
        "/media/alvis/Data/Term1/networksconv/caffe/imagenet_small/n02100877\n",
        "222"
       ]
      },
      {
       "output_type": "stream",
       "stream": "stdout",
       "text": [
        "\n",
        "/media/alvis/Data/Term1/networksconv/caffe/imagenet_small/n02101006\n",
        "223"
       ]
      },
      {
       "output_type": "stream",
       "stream": "stdout",
       "text": [
        "\n",
        "/media/alvis/Data/Term1/networksconv/caffe/imagenet_small/n02101388\n",
        "224"
       ]
      },
      {
       "output_type": "stream",
       "stream": "stdout",
       "text": [
        "\n",
        "/media/alvis/Data/Term1/networksconv/caffe/imagenet_small/n02101556\n",
        "225"
       ]
      },
      {
       "output_type": "stream",
       "stream": "stdout",
       "text": [
        "\n",
        "/media/alvis/Data/Term1/networksconv/caffe/imagenet_small/n02102040\n",
        "226"
       ]
      },
      {
       "output_type": "stream",
       "stream": "stdout",
       "text": [
        "\n",
        "/media/alvis/Data/Term1/networksconv/caffe/imagenet_small/n02102177\n",
        "227"
       ]
      },
      {
       "output_type": "stream",
       "stream": "stdout",
       "text": [
        "\n",
        "/media/alvis/Data/Term1/networksconv/caffe/imagenet_small/n02102480\n",
        "228"
       ]
      },
      {
       "output_type": "stream",
       "stream": "stdout",
       "text": [
        "\n",
        "/media/alvis/Data/Term1/networksconv/caffe/imagenet_small/n02102973\n",
        "229"
       ]
      },
      {
       "output_type": "stream",
       "stream": "stdout",
       "text": [
        "\n",
        "/media/alvis/Data/Term1/networksconv/caffe/imagenet_small/n02104029\n",
        "230"
       ]
      },
      {
       "output_type": "stream",
       "stream": "stdout",
       "text": [
        "\n",
        "/media/alvis/Data/Term1/networksconv/caffe/imagenet_small/n02104365\n",
        "231"
       ]
      },
      {
       "output_type": "stream",
       "stream": "stdout",
       "text": [
        "\n",
        "/media/alvis/Data/Term1/networksconv/caffe/imagenet_small/n02105056\n",
        "232"
       ]
      },
      {
       "output_type": "stream",
       "stream": "stdout",
       "text": [
        "\n",
        "/media/alvis/Data/Term1/networksconv/caffe/imagenet_small/n02105162\n",
        "233"
       ]
      },
      {
       "output_type": "stream",
       "stream": "stdout",
       "text": [
        "\n",
        "/media/alvis/Data/Term1/networksconv/caffe/imagenet_small/n02105251\n",
        "234"
       ]
      },
      {
       "output_type": "stream",
       "stream": "stdout",
       "text": [
        "\n",
        "/media/alvis/Data/Term1/networksconv/caffe/imagenet_small/n02105412\n",
        "235"
       ]
      },
      {
       "output_type": "stream",
       "stream": "stdout",
       "text": [
        "\n",
        "/media/alvis/Data/Term1/networksconv/caffe/imagenet_small/n02105505\n",
        "236"
       ]
      },
      {
       "output_type": "stream",
       "stream": "stdout",
       "text": [
        "\n",
        "/media/alvis/Data/Term1/networksconv/caffe/imagenet_small/n02105641\n",
        "237"
       ]
      },
      {
       "output_type": "stream",
       "stream": "stdout",
       "text": [
        "\n",
        "/media/alvis/Data/Term1/networksconv/caffe/imagenet_small/n02105855\n",
        "238"
       ]
      },
      {
       "output_type": "stream",
       "stream": "stdout",
       "text": [
        "\n",
        "/media/alvis/Data/Term1/networksconv/caffe/imagenet_small/n02106030\n",
        "239"
       ]
      },
      {
       "output_type": "stream",
       "stream": "stdout",
       "text": [
        "\n",
        "/media/alvis/Data/Term1/networksconv/caffe/imagenet_small/n02106166\n",
        "240"
       ]
      },
      {
       "output_type": "stream",
       "stream": "stdout",
       "text": [
        "\n",
        "/media/alvis/Data/Term1/networksconv/caffe/imagenet_small/n02106382\n",
        "241"
       ]
      },
      {
       "output_type": "stream",
       "stream": "stdout",
       "text": [
        "\n",
        "/media/alvis/Data/Term1/networksconv/caffe/imagenet_small/n02106550\n",
        "242"
       ]
      },
      {
       "output_type": "stream",
       "stream": "stdout",
       "text": [
        "\n",
        "/media/alvis/Data/Term1/networksconv/caffe/imagenet_small/n02106662\n",
        "243"
       ]
      },
      {
       "output_type": "stream",
       "stream": "stdout",
       "text": [
        "\n",
        "/media/alvis/Data/Term1/networksconv/caffe/imagenet_small/n02107142\n",
        "244"
       ]
      },
      {
       "output_type": "stream",
       "stream": "stdout",
       "text": [
        "\n",
        "/media/alvis/Data/Term1/networksconv/caffe/imagenet_small/n02107312\n",
        "245"
       ]
      },
      {
       "output_type": "stream",
       "stream": "stdout",
       "text": [
        "\n",
        "/media/alvis/Data/Term1/networksconv/caffe/imagenet_small/n02107574\n",
        "246"
       ]
      },
      {
       "output_type": "stream",
       "stream": "stdout",
       "text": [
        "\n",
        "/media/alvis/Data/Term1/networksconv/caffe/imagenet_small/n02107908\n",
        "247"
       ]
      },
      {
       "output_type": "stream",
       "stream": "stdout",
       "text": [
        "\n",
        "/media/alvis/Data/Term1/networksconv/caffe/imagenet_small/n02108000\n",
        "248"
       ]
      },
      {
       "output_type": "stream",
       "stream": "stdout",
       "text": [
        "\n",
        "/media/alvis/Data/Term1/networksconv/caffe/imagenet_small/n02108089\n",
        "249"
       ]
      },
      {
       "output_type": "stream",
       "stream": "stdout",
       "text": [
        "\n",
        "/media/alvis/Data/Term1/networksconv/caffe/imagenet_small/n02108422\n",
        "250"
       ]
      },
      {
       "output_type": "stream",
       "stream": "stdout",
       "text": [
        "\n",
        "/media/alvis/Data/Term1/networksconv/caffe/imagenet_small/n02108551\n",
        "251"
       ]
      },
      {
       "output_type": "stream",
       "stream": "stdout",
       "text": [
        "\n",
        "/media/alvis/Data/Term1/networksconv/caffe/imagenet_small/n02108915\n",
        "252"
       ]
      },
      {
       "output_type": "stream",
       "stream": "stdout",
       "text": [
        "\n",
        "/media/alvis/Data/Term1/networksconv/caffe/imagenet_small/n02109047\n",
        "253"
       ]
      },
      {
       "output_type": "stream",
       "stream": "stdout",
       "text": [
        "\n",
        "/media/alvis/Data/Term1/networksconv/caffe/imagenet_small/n02109525\n",
        "254"
       ]
      },
      {
       "output_type": "stream",
       "stream": "stdout",
       "text": [
        "\n",
        "/media/alvis/Data/Term1/networksconv/caffe/imagenet_small/n02109961\n",
        "255"
       ]
      },
      {
       "output_type": "stream",
       "stream": "stdout",
       "text": [
        "\n",
        "/media/alvis/Data/Term1/networksconv/caffe/imagenet_small/n02110063\n",
        "256"
       ]
      },
      {
       "output_type": "stream",
       "stream": "stdout",
       "text": [
        "\n",
        "/media/alvis/Data/Term1/networksconv/caffe/imagenet_small/n02110185\n",
        "257"
       ]
      },
      {
       "output_type": "stream",
       "stream": "stdout",
       "text": [
        "\n",
        "/media/alvis/Data/Term1/networksconv/caffe/imagenet_small/n02110341\n",
        "258"
       ]
      },
      {
       "output_type": "stream",
       "stream": "stdout",
       "text": [
        "\n",
        "/media/alvis/Data/Term1/networksconv/caffe/imagenet_small/n02110627\n",
        "259"
       ]
      },
      {
       "output_type": "stream",
       "stream": "stdout",
       "text": [
        "\n",
        "/media/alvis/Data/Term1/networksconv/caffe/imagenet_small/n02110806\n",
        "260"
       ]
      },
      {
       "output_type": "stream",
       "stream": "stdout",
       "text": [
        "\n",
        "/media/alvis/Data/Term1/networksconv/caffe/imagenet_small/n02110958\n",
        "261"
       ]
      },
      {
       "output_type": "stream",
       "stream": "stdout",
       "text": [
        "\n",
        "/media/alvis/Data/Term1/networksconv/caffe/imagenet_small/n02111129\n",
        "262"
       ]
      },
      {
       "output_type": "stream",
       "stream": "stdout",
       "text": [
        "\n",
        "/media/alvis/Data/Term1/networksconv/caffe/imagenet_small/n02111277\n",
        "263"
       ]
      },
      {
       "output_type": "stream",
       "stream": "stdout",
       "text": [
        "\n",
        "/media/alvis/Data/Term1/networksconv/caffe/imagenet_small/n02111500\n",
        "264"
       ]
      },
      {
       "output_type": "stream",
       "stream": "stdout",
       "text": [
        "\n",
        "/media/alvis/Data/Term1/networksconv/caffe/imagenet_small/n02111889\n",
        "265"
       ]
      },
      {
       "output_type": "stream",
       "stream": "stdout",
       "text": [
        "\n",
        "/media/alvis/Data/Term1/networksconv/caffe/imagenet_small/n02112137\n",
        "266"
       ]
      },
      {
       "output_type": "stream",
       "stream": "stdout",
       "text": [
        "\n",
        "/media/alvis/Data/Term1/networksconv/caffe/imagenet_small/n02112350\n",
        "267"
       ]
      },
      {
       "output_type": "stream",
       "stream": "stdout",
       "text": [
        "\n",
        "/media/alvis/Data/Term1/networksconv/caffe/imagenet_small/n02112706\n",
        "268"
       ]
      },
      {
       "output_type": "stream",
       "stream": "stdout",
       "text": [
        "\n",
        "/media/alvis/Data/Term1/networksconv/caffe/imagenet_small/n02113023\n",
        "269"
       ]
      },
      {
       "output_type": "stream",
       "stream": "stdout",
       "text": [
        "\n",
        "/media/alvis/Data/Term1/networksconv/caffe/imagenet_small/n02113186\n",
        "270"
       ]
      },
      {
       "output_type": "stream",
       "stream": "stdout",
       "text": [
        "\n",
        "/media/alvis/Data/Term1/networksconv/caffe/imagenet_small/n02113624\n",
        "271"
       ]
      },
      {
       "output_type": "stream",
       "stream": "stdout",
       "text": [
        "\n",
        "/media/alvis/Data/Term1/networksconv/caffe/imagenet_small/n02113712\n",
        "272"
       ]
      },
      {
       "output_type": "stream",
       "stream": "stdout",
       "text": [
        "\n",
        "/media/alvis/Data/Term1/networksconv/caffe/imagenet_small/n02113799\n",
        "273"
       ]
      },
      {
       "output_type": "stream",
       "stream": "stdout",
       "text": [
        "\n",
        "/media/alvis/Data/Term1/networksconv/caffe/imagenet_small/n02113978\n",
        "274"
       ]
      },
      {
       "output_type": "stream",
       "stream": "stdout",
       "text": [
        "\n",
        "/media/alvis/Data/Term1/networksconv/caffe/imagenet_small/n02114367\n",
        "275"
       ]
      },
      {
       "output_type": "stream",
       "stream": "stdout",
       "text": [
        "\n",
        "/media/alvis/Data/Term1/networksconv/caffe/imagenet_small/n02114548\n",
        "276"
       ]
      },
      {
       "output_type": "stream",
       "stream": "stdout",
       "text": [
        "\n",
        "/media/alvis/Data/Term1/networksconv/caffe/imagenet_small/n02114712\n",
        "277"
       ]
      },
      {
       "output_type": "stream",
       "stream": "stdout",
       "text": [
        "\n",
        "/media/alvis/Data/Term1/networksconv/caffe/imagenet_small/n02114855\n",
        "278"
       ]
      },
      {
       "output_type": "stream",
       "stream": "stdout",
       "text": [
        "\n",
        "/media/alvis/Data/Term1/networksconv/caffe/imagenet_small/n02115641\n",
        "279"
       ]
      },
      {
       "output_type": "stream",
       "stream": "stdout",
       "text": [
        "\n",
        "/media/alvis/Data/Term1/networksconv/caffe/imagenet_small/n02115913\n",
        "280"
       ]
      },
      {
       "output_type": "stream",
       "stream": "stdout",
       "text": [
        "\n",
        "/media/alvis/Data/Term1/networksconv/caffe/imagenet_small/n02116738\n",
        "281"
       ]
      },
      {
       "output_type": "stream",
       "stream": "stdout",
       "text": [
        "\n",
        "/media/alvis/Data/Term1/networksconv/caffe/imagenet_small/n02117135\n",
        "282"
       ]
      },
      {
       "output_type": "stream",
       "stream": "stdout",
       "text": [
        "\n",
        "/media/alvis/Data/Term1/networksconv/caffe/imagenet_small/n02119022\n",
        "283"
       ]
      },
      {
       "output_type": "stream",
       "stream": "stdout",
       "text": [
        "\n",
        "/media/alvis/Data/Term1/networksconv/caffe/imagenet_small/n02119789\n",
        "284"
       ]
      },
      {
       "output_type": "stream",
       "stream": "stdout",
       "text": [
        "\n",
        "/media/alvis/Data/Term1/networksconv/caffe/imagenet_small/n02120505\n",
        "285"
       ]
      },
      {
       "output_type": "stream",
       "stream": "stdout",
       "text": [
        "\n",
        "/media/alvis/Data/Term1/networksconv/caffe/imagenet_small/n02123045\n",
        "286"
       ]
      },
      {
       "output_type": "stream",
       "stream": "stdout",
       "text": [
        "\n",
        "/media/alvis/Data/Term1/networksconv/caffe/imagenet_small/n02123159\n",
        "287"
       ]
      },
      {
       "output_type": "stream",
       "stream": "stdout",
       "text": [
        "\n",
        "/media/alvis/Data/Term1/networksconv/caffe/imagenet_small/n02123394\n",
        "288"
       ]
      },
      {
       "output_type": "stream",
       "stream": "stdout",
       "text": [
        "\n",
        "/media/alvis/Data/Term1/networksconv/caffe/imagenet_small/n02123597\n",
        "289"
       ]
      },
      {
       "output_type": "stream",
       "stream": "stdout",
       "text": [
        "\n",
        "/media/alvis/Data/Term1/networksconv/caffe/imagenet_small/n02124075\n",
        "290"
       ]
      },
      {
       "output_type": "stream",
       "stream": "stdout",
       "text": [
        "\n",
        "/media/alvis/Data/Term1/networksconv/caffe/imagenet_small/n02125311\n",
        "291"
       ]
      },
      {
       "output_type": "stream",
       "stream": "stdout",
       "text": [
        "\n",
        "/media/alvis/Data/Term1/networksconv/caffe/imagenet_small/n02127052\n",
        "292"
       ]
      },
      {
       "output_type": "stream",
       "stream": "stdout",
       "text": [
        "\n",
        "/media/alvis/Data/Term1/networksconv/caffe/imagenet_small/n02128385\n",
        "293"
       ]
      },
      {
       "output_type": "stream",
       "stream": "stdout",
       "text": [
        "\n",
        "/media/alvis/Data/Term1/networksconv/caffe/imagenet_small/n02128757\n",
        "294"
       ]
      },
      {
       "output_type": "stream",
       "stream": "stdout",
       "text": [
        "\n",
        "/media/alvis/Data/Term1/networksconv/caffe/imagenet_small/n02128925\n",
        "295"
       ]
      },
      {
       "output_type": "stream",
       "stream": "stdout",
       "text": [
        "\n",
        "/media/alvis/Data/Term1/networksconv/caffe/imagenet_small/n02129165\n",
        "296"
       ]
      },
      {
       "output_type": "stream",
       "stream": "stdout",
       "text": [
        "\n",
        "/media/alvis/Data/Term1/networksconv/caffe/imagenet_small/n02129604\n",
        "297"
       ]
      },
      {
       "output_type": "stream",
       "stream": "stdout",
       "text": [
        "\n",
        "/media/alvis/Data/Term1/networksconv/caffe/imagenet_small/n02130308\n",
        "298"
       ]
      },
      {
       "output_type": "stream",
       "stream": "stdout",
       "text": [
        "\n",
        "/media/alvis/Data/Term1/networksconv/caffe/imagenet_small/n02132136\n",
        "299"
       ]
      },
      {
       "output_type": "stream",
       "stream": "stdout",
       "text": [
        "\n",
        "/media/alvis/Data/Term1/networksconv/caffe/imagenet_small/n02133161\n",
        "300"
       ]
      },
      {
       "output_type": "stream",
       "stream": "stdout",
       "text": [
        "\n",
        "/media/alvis/Data/Term1/networksconv/caffe/imagenet_small/n02134084\n",
        "301"
       ]
      },
      {
       "output_type": "stream",
       "stream": "stdout",
       "text": [
        "\n",
        "/media/alvis/Data/Term1/networksconv/caffe/imagenet_small/n02134418\n",
        "302"
       ]
      },
      {
       "output_type": "stream",
       "stream": "stdout",
       "text": [
        "\n",
        "/media/alvis/Data/Term1/networksconv/caffe/imagenet_small/n02137549\n",
        "303"
       ]
      },
      {
       "output_type": "stream",
       "stream": "stdout",
       "text": [
        "\n",
        "/media/alvis/Data/Term1/networksconv/caffe/imagenet_small/n02165105\n",
        "304"
       ]
      },
      {
       "output_type": "stream",
       "stream": "stdout",
       "text": [
        "\n",
        "/media/alvis/Data/Term1/networksconv/caffe/imagenet_small/n02165456\n",
        "305"
       ]
      },
      {
       "output_type": "stream",
       "stream": "stdout",
       "text": [
        "\n",
        "/media/alvis/Data/Term1/networksconv/caffe/imagenet_small/n02167151\n",
        "306"
       ]
      },
      {
       "output_type": "stream",
       "stream": "stdout",
       "text": [
        "\n",
        "/media/alvis/Data/Term1/networksconv/caffe/imagenet_small/n02168699\n",
        "307"
       ]
      },
      {
       "output_type": "stream",
       "stream": "stdout",
       "text": [
        "\n",
        "/media/alvis/Data/Term1/networksconv/caffe/imagenet_small/n02169497\n",
        "308"
       ]
      },
      {
       "output_type": "stream",
       "stream": "stdout",
       "text": [
        "\n",
        "/media/alvis/Data/Term1/networksconv/caffe/imagenet_small/n02172182\n",
        "309"
       ]
      },
      {
       "output_type": "stream",
       "stream": "stdout",
       "text": [
        "\n",
        "/media/alvis/Data/Term1/networksconv/caffe/imagenet_small/n02174001\n",
        "310"
       ]
      },
      {
       "output_type": "stream",
       "stream": "stdout",
       "text": [
        "\n",
        "/media/alvis/Data/Term1/networksconv/caffe/imagenet_small/n02177972\n",
        "311"
       ]
      },
      {
       "output_type": "stream",
       "stream": "stdout",
       "text": [
        "\n",
        "/media/alvis/Data/Term1/networksconv/caffe/imagenet_small/n02190166\n",
        "312"
       ]
      },
      {
       "output_type": "stream",
       "stream": "stdout",
       "text": [
        "\n",
        "/media/alvis/Data/Term1/networksconv/caffe/imagenet_small/n02206856\n",
        "313"
       ]
      },
      {
       "output_type": "stream",
       "stream": "stdout",
       "text": [
        "\n",
        "/media/alvis/Data/Term1/networksconv/caffe/imagenet_small/n02219486\n",
        "314"
       ]
      },
      {
       "output_type": "stream",
       "stream": "stdout",
       "text": [
        "\n",
        "/media/alvis/Data/Term1/networksconv/caffe/imagenet_small/n02226429\n",
        "315"
       ]
      },
      {
       "output_type": "stream",
       "stream": "stdout",
       "text": [
        "\n",
        "/media/alvis/Data/Term1/networksconv/caffe/imagenet_small/n02229544\n",
        "316"
       ]
      },
      {
       "output_type": "stream",
       "stream": "stdout",
       "text": [
        "\n",
        "/media/alvis/Data/Term1/networksconv/caffe/imagenet_small/n02231487\n",
        "317"
       ]
      },
      {
       "output_type": "stream",
       "stream": "stdout",
       "text": [
        "\n",
        "/media/alvis/Data/Term1/networksconv/caffe/imagenet_small/n02233338\n",
        "318"
       ]
      },
      {
       "output_type": "stream",
       "stream": "stdout",
       "text": [
        "\n",
        "/media/alvis/Data/Term1/networksconv/caffe/imagenet_small/n02236044\n",
        "319"
       ]
      },
      {
       "output_type": "stream",
       "stream": "stdout",
       "text": [
        "\n",
        "/media/alvis/Data/Term1/networksconv/caffe/imagenet_small/n02256656\n",
        "320"
       ]
      },
      {
       "output_type": "stream",
       "stream": "stdout",
       "text": [
        "\n",
        "/media/alvis/Data/Term1/networksconv/caffe/imagenet_small/n02259212\n",
        "321"
       ]
      },
      {
       "output_type": "stream",
       "stream": "stdout",
       "text": [
        "\n",
        "/media/alvis/Data/Term1/networksconv/caffe/imagenet_small/n02264363\n",
        "322"
       ]
      },
      {
       "output_type": "stream",
       "stream": "stdout",
       "text": [
        "\n",
        "/media/alvis/Data/Term1/networksconv/caffe/imagenet_small/n02268853\n",
        "323"
       ]
      },
      {
       "output_type": "stream",
       "stream": "stdout",
       "text": [
        "\n",
        "/media/alvis/Data/Term1/networksconv/caffe/imagenet_small/n02276258\n",
        "324"
       ]
      },
      {
       "output_type": "stream",
       "stream": "stdout",
       "text": [
        "\n",
        "/media/alvis/Data/Term1/networksconv/caffe/imagenet_small/n02277742\n",
        "325"
       ]
      },
      {
       "output_type": "stream",
       "stream": "stdout",
       "text": [
        "\n",
        "/media/alvis/Data/Term1/networksconv/caffe/imagenet_small/n02279972\n",
        "326"
       ]
      },
      {
       "output_type": "stream",
       "stream": "stdout",
       "text": [
        "\n",
        "/media/alvis/Data/Term1/networksconv/caffe/imagenet_small/n02280649\n",
        "327"
       ]
      },
      {
       "output_type": "stream",
       "stream": "stdout",
       "text": [
        "\n",
        "/media/alvis/Data/Term1/networksconv/caffe/imagenet_small/n02281406\n",
        "328"
       ]
      },
      {
       "output_type": "stream",
       "stream": "stdout",
       "text": [
        "\n",
        "/media/alvis/Data/Term1/networksconv/caffe/imagenet_small/n02281787\n",
        "329"
       ]
      },
      {
       "output_type": "stream",
       "stream": "stdout",
       "text": [
        "\n",
        "/media/alvis/Data/Term1/networksconv/caffe/imagenet_small/n02317335\n",
        "330"
       ]
      },
      {
       "output_type": "stream",
       "stream": "stdout",
       "text": [
        "\n",
        "/media/alvis/Data/Term1/networksconv/caffe/imagenet_small/n02319095\n",
        "331"
       ]
      },
      {
       "output_type": "stream",
       "stream": "stdout",
       "text": [
        "\n",
        "/media/alvis/Data/Term1/networksconv/caffe/imagenet_small/n02321529\n",
        "332"
       ]
      },
      {
       "output_type": "stream",
       "stream": "stdout",
       "text": [
        "\n",
        "/media/alvis/Data/Term1/networksconv/caffe/imagenet_small/n02325366\n",
        "333"
       ]
      },
      {
       "output_type": "stream",
       "stream": "stdout",
       "text": [
        "\n",
        "/media/alvis/Data/Term1/networksconv/caffe/imagenet_small/n02326432\n",
        "334"
       ]
      },
      {
       "output_type": "stream",
       "stream": "stdout",
       "text": [
        "\n",
        "/media/alvis/Data/Term1/networksconv/caffe/imagenet_small/n02328150\n",
        "335"
       ]
      },
      {
       "output_type": "stream",
       "stream": "stdout",
       "text": [
        "\n",
        "/media/alvis/Data/Term1/networksconv/caffe/imagenet_small/n02342885\n",
        "336"
       ]
      },
      {
       "output_type": "stream",
       "stream": "stdout",
       "text": [
        "\n",
        "/media/alvis/Data/Term1/networksconv/caffe/imagenet_small/n02346627\n",
        "337"
       ]
      },
      {
       "output_type": "stream",
       "stream": "stdout",
       "text": [
        "\n",
        "/media/alvis/Data/Term1/networksconv/caffe/imagenet_small/n02356798\n",
        "338"
       ]
      },
      {
       "output_type": "stream",
       "stream": "stdout",
       "text": [
        "\n",
        "/media/alvis/Data/Term1/networksconv/caffe/imagenet_small/n02361337\n",
        "339"
       ]
      },
      {
       "output_type": "stream",
       "stream": "stdout",
       "text": [
        "\n",
        "/media/alvis/Data/Term1/networksconv/caffe/imagenet_small/n02363005\n",
        "340"
       ]
      },
      {
       "output_type": "stream",
       "stream": "stdout",
       "text": [
        "\n",
        "/media/alvis/Data/Term1/networksconv/caffe/imagenet_small/n02364673\n",
        "341"
       ]
      },
      {
       "output_type": "stream",
       "stream": "stdout",
       "text": [
        "\n",
        "/media/alvis/Data/Term1/networksconv/caffe/imagenet_small/n02391049\n",
        "342"
       ]
      },
      {
       "output_type": "stream",
       "stream": "stdout",
       "text": [
        "\n",
        "/media/alvis/Data/Term1/networksconv/caffe/imagenet_small/n02395406\n",
        "343"
       ]
      },
      {
       "output_type": "stream",
       "stream": "stdout",
       "text": [
        "\n",
        "/media/alvis/Data/Term1/networksconv/caffe/imagenet_small/n02396427\n",
        "344"
       ]
      },
      {
       "output_type": "stream",
       "stream": "stdout",
       "text": [
        "\n",
        "/media/alvis/Data/Term1/networksconv/caffe/imagenet_small/n02397096\n",
        "345"
       ]
      },
      {
       "output_type": "stream",
       "stream": "stdout",
       "text": [
        "\n",
        "/media/alvis/Data/Term1/networksconv/caffe/imagenet_small/n02398521\n",
        "346"
       ]
      },
      {
       "output_type": "stream",
       "stream": "stdout",
       "text": [
        "\n",
        "/media/alvis/Data/Term1/networksconv/caffe/imagenet_small/n02403003\n",
        "347"
       ]
      },
      {
       "output_type": "stream",
       "stream": "stdout",
       "text": [
        "\n",
        "/media/alvis/Data/Term1/networksconv/caffe/imagenet_small/n02408429\n",
        "348"
       ]
      },
      {
       "output_type": "stream",
       "stream": "stdout",
       "text": [
        "\n",
        "/media/alvis/Data/Term1/networksconv/caffe/imagenet_small/n02410509\n",
        "349"
       ]
      },
      {
       "output_type": "stream",
       "stream": "stdout",
       "text": [
        "\n",
        "/media/alvis/Data/Term1/networksconv/caffe/imagenet_small/n02412080\n",
        "350"
       ]
      },
      {
       "output_type": "stream",
       "stream": "stdout",
       "text": [
        "\n",
        "/media/alvis/Data/Term1/networksconv/caffe/imagenet_small/n02415577\n",
        "351"
       ]
      },
      {
       "output_type": "stream",
       "stream": "stdout",
       "text": [
        "\n",
        "/media/alvis/Data/Term1/networksconv/caffe/imagenet_small/n02417914\n",
        "352"
       ]
      },
      {
       "output_type": "stream",
       "stream": "stdout",
       "text": [
        "\n",
        "/media/alvis/Data/Term1/networksconv/caffe/imagenet_small/n02422106\n",
        "353"
       ]
      },
      {
       "output_type": "stream",
       "stream": "stdout",
       "text": [
        "\n",
        "/media/alvis/Data/Term1/networksconv/caffe/imagenet_small/n02422699\n",
        "354"
       ]
      },
      {
       "output_type": "stream",
       "stream": "stdout",
       "text": [
        "\n",
        "/media/alvis/Data/Term1/networksconv/caffe/imagenet_small/n02423022\n",
        "355"
       ]
      },
      {
       "output_type": "stream",
       "stream": "stdout",
       "text": [
        "\n",
        "/media/alvis/Data/Term1/networksconv/caffe/imagenet_small/n02437312\n",
        "356"
       ]
      },
      {
       "output_type": "stream",
       "stream": "stdout",
       "text": [
        "\n",
        "/media/alvis/Data/Term1/networksconv/caffe/imagenet_small/n02437616\n",
        "357"
       ]
      },
      {
       "output_type": "stream",
       "stream": "stdout",
       "text": [
        "\n",
        "/media/alvis/Data/Term1/networksconv/caffe/imagenet_small/n02441942\n",
        "358"
       ]
      },
      {
       "output_type": "stream",
       "stream": "stdout",
       "text": [
        "\n",
        "/media/alvis/Data/Term1/networksconv/caffe/imagenet_small/n02442845\n",
        "359"
       ]
      },
      {
       "output_type": "stream",
       "stream": "stdout",
       "text": [
        "\n",
        "/media/alvis/Data/Term1/networksconv/caffe/imagenet_small/n02443114\n",
        "360"
       ]
      },
      {
       "output_type": "stream",
       "stream": "stdout",
       "text": [
        "\n",
        "/media/alvis/Data/Term1/networksconv/caffe/imagenet_small/n02444819\n",
        "361"
       ]
      },
      {
       "output_type": "stream",
       "stream": "stdout",
       "text": [
        "\n",
        "/media/alvis/Data/Term1/networksconv/caffe/imagenet_small/n02445715\n",
        "362"
       ]
      },
      {
       "output_type": "stream",
       "stream": "stdout",
       "text": [
        "\n",
        "/media/alvis/Data/Term1/networksconv/caffe/imagenet_small/n02447366\n",
        "363"
       ]
      },
      {
       "output_type": "stream",
       "stream": "stdout",
       "text": [
        "\n",
        "/media/alvis/Data/Term1/networksconv/caffe/imagenet_small/n02454379\n",
        "364"
       ]
      },
      {
       "output_type": "stream",
       "stream": "stdout",
       "text": [
        "\n",
        "/media/alvis/Data/Term1/networksconv/caffe/imagenet_small/n02457408\n",
        "365"
       ]
      },
      {
       "output_type": "stream",
       "stream": "stdout",
       "text": [
        "\n",
        "/media/alvis/Data/Term1/networksconv/caffe/imagenet_small/n02480495\n",
        "366"
       ]
      },
      {
       "output_type": "stream",
       "stream": "stdout",
       "text": [
        "\n",
        "/media/alvis/Data/Term1/networksconv/caffe/imagenet_small/n02480855\n",
        "367"
       ]
      },
      {
       "output_type": "stream",
       "stream": "stdout",
       "text": [
        "\n",
        "/media/alvis/Data/Term1/networksconv/caffe/imagenet_small/n02481823\n",
        "368"
       ]
      },
      {
       "output_type": "stream",
       "stream": "stdout",
       "text": [
        "\n",
        "/media/alvis/Data/Term1/networksconv/caffe/imagenet_small/n02483362\n",
        "369"
       ]
      },
      {
       "output_type": "stream",
       "stream": "stdout",
       "text": [
        "\n",
        "/media/alvis/Data/Term1/networksconv/caffe/imagenet_small/n02483708\n",
        "370"
       ]
      },
      {
       "output_type": "stream",
       "stream": "stdout",
       "text": [
        "\n",
        "/media/alvis/Data/Term1/networksconv/caffe/imagenet_small/n02484975\n",
        "371"
       ]
      },
      {
       "output_type": "stream",
       "stream": "stdout",
       "text": [
        "\n",
        "/media/alvis/Data/Term1/networksconv/caffe/imagenet_small/n02486261\n",
        "372"
       ]
      },
      {
       "output_type": "stream",
       "stream": "stdout",
       "text": [
        "\n",
        "/media/alvis/Data/Term1/networksconv/caffe/imagenet_small/n02486410\n",
        "373"
       ]
      },
      {
       "output_type": "stream",
       "stream": "stdout",
       "text": [
        "\n",
        "/media/alvis/Data/Term1/networksconv/caffe/imagenet_small/n02487347\n",
        "374"
       ]
      },
      {
       "output_type": "stream",
       "stream": "stdout",
       "text": [
        "\n",
        "/media/alvis/Data/Term1/networksconv/caffe/imagenet_small/n02488291\n",
        "375"
       ]
      },
      {
       "output_type": "stream",
       "stream": "stdout",
       "text": [
        "\n",
        "/media/alvis/Data/Term1/networksconv/caffe/imagenet_small/n02488702\n",
        "376"
       ]
      },
      {
       "output_type": "stream",
       "stream": "stdout",
       "text": [
        "\n",
        "/media/alvis/Data/Term1/networksconv/caffe/imagenet_small/n02489166\n",
        "377"
       ]
      },
      {
       "output_type": "stream",
       "stream": "stdout",
       "text": [
        "\n",
        "/media/alvis/Data/Term1/networksconv/caffe/imagenet_small/n02490219\n",
        "378"
       ]
      },
      {
       "output_type": "stream",
       "stream": "stdout",
       "text": [
        "\n",
        "/media/alvis/Data/Term1/networksconv/caffe/imagenet_small/n02492035\n",
        "379"
       ]
      },
      {
       "output_type": "stream",
       "stream": "stdout",
       "text": [
        "\n",
        "/media/alvis/Data/Term1/networksconv/caffe/imagenet_small/n02493509\n",
        "380"
       ]
      },
      {
       "output_type": "stream",
       "stream": "stdout",
       "text": [
        "\n",
        "/media/alvis/Data/Term1/networksconv/caffe/imagenet_small/n02493793\n",
        "381"
       ]
      },
      {
       "output_type": "stream",
       "stream": "stdout",
       "text": [
        "\n",
        "/media/alvis/Data/Term1/networksconv/caffe/imagenet_small/n02494079\n",
        "382"
       ]
      },
      {
       "output_type": "stream",
       "stream": "stdout",
       "text": [
        "\n",
        "/media/alvis/Data/Term1/networksconv/caffe/imagenet_small/n02497673\n",
        "383"
       ]
      },
      {
       "output_type": "stream",
       "stream": "stdout",
       "text": [
        "\n",
        "/media/alvis/Data/Term1/networksconv/caffe/imagenet_small/n02500267\n",
        "384"
       ]
      },
      {
       "output_type": "stream",
       "stream": "stdout",
       "text": [
        "\n",
        "/media/alvis/Data/Term1/networksconv/caffe/imagenet_small/n02504013\n",
        "385"
       ]
      },
      {
       "output_type": "stream",
       "stream": "stdout",
       "text": [
        "\n",
        "/media/alvis/Data/Term1/networksconv/caffe/imagenet_small/n02504458\n",
        "386"
       ]
      },
      {
       "output_type": "stream",
       "stream": "stdout",
       "text": [
        "\n",
        "/media/alvis/Data/Term1/networksconv/caffe/imagenet_small/n02509815\n",
        "387"
       ]
      },
      {
       "output_type": "stream",
       "stream": "stdout",
       "text": [
        "\n",
        "/media/alvis/Data/Term1/networksconv/caffe/imagenet_small/n02510455\n",
        "388"
       ]
      },
      {
       "output_type": "stream",
       "stream": "stdout",
       "text": [
        "\n",
        "/media/alvis/Data/Term1/networksconv/caffe/imagenet_small/n02514041\n",
        "389"
       ]
      },
      {
       "output_type": "stream",
       "stream": "stdout",
       "text": [
        "\n",
        "/media/alvis/Data/Term1/networksconv/caffe/imagenet_small/n02526121\n",
        "390"
       ]
      },
      {
       "output_type": "stream",
       "stream": "stdout",
       "text": [
        "\n",
        "/media/alvis/Data/Term1/networksconv/caffe/imagenet_small/n02536864\n",
        "391"
       ]
      },
      {
       "output_type": "stream",
       "stream": "stdout",
       "text": [
        "\n",
        "/media/alvis/Data/Term1/networksconv/caffe/imagenet_small/n02606052\n",
        "392"
       ]
      },
      {
       "output_type": "stream",
       "stream": "stdout",
       "text": [
        "\n",
        "/media/alvis/Data/Term1/networksconv/caffe/imagenet_small/n02607072\n",
        "393"
       ]
      },
      {
       "output_type": "stream",
       "stream": "stdout",
       "text": [
        "\n",
        "/media/alvis/Data/Term1/networksconv/caffe/imagenet_small/n02640242\n",
        "394"
       ]
      },
      {
       "output_type": "stream",
       "stream": "stdout",
       "text": [
        "\n",
        "/media/alvis/Data/Term1/networksconv/caffe/imagenet_small/n02641379\n",
        "395"
       ]
      },
      {
       "output_type": "stream",
       "stream": "stdout",
       "text": [
        "\n",
        "/media/alvis/Data/Term1/networksconv/caffe/imagenet_small/n02643566\n",
        "396"
       ]
      },
      {
       "output_type": "stream",
       "stream": "stdout",
       "text": [
        "\n",
        "/media/alvis/Data/Term1/networksconv/caffe/imagenet_small/n02655020\n",
        "397"
       ]
      },
      {
       "output_type": "stream",
       "stream": "stdout",
       "text": [
        "\n",
        "/media/alvis/Data/Term1/networksconv/caffe/imagenet_small/n02666196\n",
        "398"
       ]
      },
      {
       "output_type": "stream",
       "stream": "stdout",
       "text": [
        "\n",
        "/media/alvis/Data/Term1/networksconv/caffe/imagenet_small/n02669723\n",
        "399"
       ]
      },
      {
       "output_type": "stream",
       "stream": "stdout",
       "text": [
        "\n",
        "/media/alvis/Data/Term1/networksconv/caffe/imagenet_small/n02672831\n",
        "400"
       ]
      },
      {
       "output_type": "stream",
       "stream": "stdout",
       "text": [
        "\n",
        "/media/alvis/Data/Term1/networksconv/caffe/imagenet_small/n02676566\n",
        "401"
       ]
      },
      {
       "output_type": "stream",
       "stream": "stdout",
       "text": [
        "\n",
        "/media/alvis/Data/Term1/networksconv/caffe/imagenet_small/n02687172\n",
        "402"
       ]
      },
      {
       "output_type": "stream",
       "stream": "stdout",
       "text": [
        "\n",
        "/media/alvis/Data/Term1/networksconv/caffe/imagenet_small/n02690373\n",
        "403"
       ]
      },
      {
       "output_type": "stream",
       "stream": "stdout",
       "text": [
        "\n",
        "/media/alvis/Data/Term1/networksconv/caffe/imagenet_small/n02692877\n",
        "404"
       ]
      },
      {
       "output_type": "stream",
       "stream": "stdout",
       "text": [
        "\n",
        "/media/alvis/Data/Term1/networksconv/caffe/imagenet_small/n02699494\n",
        "405"
       ]
      },
      {
       "output_type": "stream",
       "stream": "stdout",
       "text": [
        "\n",
        "/media/alvis/Data/Term1/networksconv/caffe/imagenet_small/n02701002\n",
        "406"
       ]
      },
      {
       "output_type": "stream",
       "stream": "stdout",
       "text": [
        "\n",
        "/media/alvis/Data/Term1/networksconv/caffe/imagenet_small/n02704792\n",
        "407"
       ]
      },
      {
       "output_type": "stream",
       "stream": "stdout",
       "text": [
        "\n",
        "/media/alvis/Data/Term1/networksconv/caffe/imagenet_small/n02708093\n",
        "408"
       ]
      },
      {
       "output_type": "stream",
       "stream": "stdout",
       "text": [
        "\n",
        "/media/alvis/Data/Term1/networksconv/caffe/imagenet_small/n02727426\n",
        "409"
       ]
      },
      {
       "output_type": "stream",
       "stream": "stdout",
       "text": [
        "\n",
        "/media/alvis/Data/Term1/networksconv/caffe/imagenet_small/n02730930\n",
        "410"
       ]
      },
      {
       "output_type": "stream",
       "stream": "stdout",
       "text": [
        "\n",
        "/media/alvis/Data/Term1/networksconv/caffe/imagenet_small/n02747177\n",
        "411"
       ]
      },
      {
       "output_type": "stream",
       "stream": "stdout",
       "text": [
        "\n",
        "/media/alvis/Data/Term1/networksconv/caffe/imagenet_small/n02749479\n",
        "412"
       ]
      },
      {
       "output_type": "stream",
       "stream": "stdout",
       "text": [
        "\n",
        "/media/alvis/Data/Term1/networksconv/caffe/imagenet_small/n02769748\n",
        "413"
       ]
      },
      {
       "output_type": "stream",
       "stream": "stdout",
       "text": [
        "\n",
        "/media/alvis/Data/Term1/networksconv/caffe/imagenet_small/n02776631\n",
        "414"
       ]
      },
      {
       "output_type": "stream",
       "stream": "stdout",
       "text": [
        "\n",
        "/media/alvis/Data/Term1/networksconv/caffe/imagenet_small/n02777292\n",
        "415"
       ]
      },
      {
       "output_type": "stream",
       "stream": "stdout",
       "text": [
        "\n",
        "/media/alvis/Data/Term1/networksconv/caffe/imagenet_small/n02782093\n",
        "416"
       ]
      },
      {
       "output_type": "stream",
       "stream": "stdout",
       "text": [
        "\n",
        "/media/alvis/Data/Term1/networksconv/caffe/imagenet_small/n02783161\n",
        "417"
       ]
      },
      {
       "output_type": "stream",
       "stream": "stdout",
       "text": [
        "\n",
        "/media/alvis/Data/Term1/networksconv/caffe/imagenet_small/n02787622\n",
        "418"
       ]
      },
      {
       "output_type": "stream",
       "stream": "stdout",
       "text": [
        "\n",
        "/media/alvis/Data/Term1/networksconv/caffe/imagenet_small/n02788148\n",
        "419"
       ]
      },
      {
       "output_type": "stream",
       "stream": "stdout",
       "text": [
        "\n",
        "/media/alvis/Data/Term1/networksconv/caffe/imagenet_small/n02790996\n",
        "420"
       ]
      },
      {
       "output_type": "stream",
       "stream": "stdout",
       "text": [
        "\n",
        "/media/alvis/Data/Term1/networksconv/caffe/imagenet_small/n02791124\n",
        "421"
       ]
      },
      {
       "output_type": "stream",
       "stream": "stdout",
       "text": [
        "\n",
        "/media/alvis/Data/Term1/networksconv/caffe/imagenet_small/n02791270\n",
        "422"
       ]
      },
      {
       "output_type": "stream",
       "stream": "stdout",
       "text": [
        "\n",
        "/media/alvis/Data/Term1/networksconv/caffe/imagenet_small/n02793495\n",
        "423"
       ]
      },
      {
       "output_type": "stream",
       "stream": "stdout",
       "text": [
        "\n",
        "/media/alvis/Data/Term1/networksconv/caffe/imagenet_small/n02794156\n",
        "424"
       ]
      },
      {
       "output_type": "stream",
       "stream": "stdout",
       "text": [
        "\n",
        "/media/alvis/Data/Term1/networksconv/caffe/imagenet_small/n02795169\n",
        "425"
       ]
      },
      {
       "output_type": "stream",
       "stream": "stdout",
       "text": [
        "\n",
        "/media/alvis/Data/Term1/networksconv/caffe/imagenet_small/n02797295\n",
        "426"
       ]
      },
      {
       "output_type": "stream",
       "stream": "stdout",
       "text": [
        "\n",
        "/media/alvis/Data/Term1/networksconv/caffe/imagenet_small/n02799071\n",
        "427"
       ]
      },
      {
       "output_type": "stream",
       "stream": "stdout",
       "text": [
        "\n",
        "/media/alvis/Data/Term1/networksconv/caffe/imagenet_small/n02802426\n",
        "428"
       ]
      },
      {
       "output_type": "stream",
       "stream": "stdout",
       "text": [
        "\n",
        "/media/alvis/Data/Term1/networksconv/caffe/imagenet_small/n02804414\n",
        "429"
       ]
      },
      {
       "output_type": "stream",
       "stream": "stdout",
       "text": [
        "\n",
        "/media/alvis/Data/Term1/networksconv/caffe/imagenet_small/n02804610\n",
        "430"
       ]
      },
      {
       "output_type": "stream",
       "stream": "stdout",
       "text": [
        "\n",
        "/media/alvis/Data/Term1/networksconv/caffe/imagenet_small/n02807133\n",
        "431"
       ]
      },
      {
       "output_type": "stream",
       "stream": "stdout",
       "text": [
        "\n",
        "/media/alvis/Data/Term1/networksconv/caffe/imagenet_small/n02808304\n",
        "432"
       ]
      },
      {
       "output_type": "stream",
       "stream": "stdout",
       "text": [
        "\n",
        "/media/alvis/Data/Term1/networksconv/caffe/imagenet_small/n02808440\n",
        "433"
       ]
      },
      {
       "output_type": "stream",
       "stream": "stdout",
       "text": [
        "\n",
        "/media/alvis/Data/Term1/networksconv/caffe/imagenet_small/n02814533\n",
        "434"
       ]
      },
      {
       "output_type": "stream",
       "stream": "stdout",
       "text": [
        "\n",
        "/media/alvis/Data/Term1/networksconv/caffe/imagenet_small/n02814860\n",
        "435"
       ]
      },
      {
       "output_type": "stream",
       "stream": "stdout",
       "text": [
        "\n",
        "/media/alvis/Data/Term1/networksconv/caffe/imagenet_small/n02815834\n",
        "436"
       ]
      },
      {
       "output_type": "stream",
       "stream": "stdout",
       "text": [
        "\n",
        "/media/alvis/Data/Term1/networksconv/caffe/imagenet_small/n02823428\n",
        "437"
       ]
      },
      {
       "output_type": "stream",
       "stream": "stdout",
       "text": [
        "\n",
        "/media/alvis/Data/Term1/networksconv/caffe/imagenet_small/n02823750\n",
        "438"
       ]
      },
      {
       "output_type": "stream",
       "stream": "stdout",
       "text": [
        "\n",
        "/media/alvis/Data/Term1/networksconv/caffe/imagenet_small/n02825657\n",
        "439"
       ]
      },
      {
       "output_type": "stream",
       "stream": "stdout",
       "text": [
        "\n",
        "/media/alvis/Data/Term1/networksconv/caffe/imagenet_small/n02834397\n",
        "440"
       ]
      },
      {
       "output_type": "stream",
       "stream": "stdout",
       "text": [
        "\n",
        "/media/alvis/Data/Term1/networksconv/caffe/imagenet_small/n02835271\n",
        "441"
       ]
      },
      {
       "output_type": "stream",
       "stream": "stdout",
       "text": [
        "\n",
        "/media/alvis/Data/Term1/networksconv/caffe/imagenet_small/n02837789\n",
        "442"
       ]
      },
      {
       "output_type": "stream",
       "stream": "stdout",
       "text": [
        "\n",
        "/media/alvis/Data/Term1/networksconv/caffe/imagenet_small/n02840245\n",
        "443"
       ]
      },
      {
       "output_type": "stream",
       "stream": "stdout",
       "text": [
        "\n",
        "/media/alvis/Data/Term1/networksconv/caffe/imagenet_small/n02841315\n",
        "444"
       ]
      },
      {
       "output_type": "stream",
       "stream": "stdout",
       "text": [
        "\n",
        "/media/alvis/Data/Term1/networksconv/caffe/imagenet_small/n02843684\n",
        "445"
       ]
      },
      {
       "output_type": "stream",
       "stream": "stdout",
       "text": [
        "\n",
        "/media/alvis/Data/Term1/networksconv/caffe/imagenet_small/n02859443\n",
        "446"
       ]
      },
      {
       "output_type": "stream",
       "stream": "stdout",
       "text": [
        "\n",
        "/media/alvis/Data/Term1/networksconv/caffe/imagenet_small/n02860847\n",
        "447"
       ]
      },
      {
       "output_type": "stream",
       "stream": "stdout",
       "text": [
        "\n",
        "/media/alvis/Data/Term1/networksconv/caffe/imagenet_small/n02865351\n",
        "448"
       ]
      },
      {
       "output_type": "stream",
       "stream": "stdout",
       "text": [
        "\n",
        "/media/alvis/Data/Term1/networksconv/caffe/imagenet_small/n02869837\n",
        "449"
       ]
      },
      {
       "output_type": "stream",
       "stream": "stdout",
       "text": [
        "\n",
        "/media/alvis/Data/Term1/networksconv/caffe/imagenet_small/n02870880\n",
        "450"
       ]
      },
      {
       "output_type": "stream",
       "stream": "stdout",
       "text": [
        "\n",
        "/media/alvis/Data/Term1/networksconv/caffe/imagenet_small/n02871525\n",
        "451"
       ]
      },
      {
       "output_type": "stream",
       "stream": "stdout",
       "text": [
        "\n",
        "/media/alvis/Data/Term1/networksconv/caffe/imagenet_small/n02877765\n",
        "452"
       ]
      },
      {
       "output_type": "stream",
       "stream": "stdout",
       "text": [
        "\n",
        "/media/alvis/Data/Term1/networksconv/caffe/imagenet_small/n02879718\n",
        "453"
       ]
      },
      {
       "output_type": "stream",
       "stream": "stdout",
       "text": [
        "\n",
        "/media/alvis/Data/Term1/networksconv/caffe/imagenet_small/n02883205\n",
        "454"
       ]
      },
      {
       "output_type": "stream",
       "stream": "stdout",
       "text": [
        "\n",
        "/media/alvis/Data/Term1/networksconv/caffe/imagenet_small/n02892201\n",
        "455"
       ]
      },
      {
       "output_type": "stream",
       "stream": "stdout",
       "text": [
        "\n",
        "/media/alvis/Data/Term1/networksconv/caffe/imagenet_small/n02894605\n",
        "456"
       ]
      },
      {
       "output_type": "stream",
       "stream": "stdout",
       "text": [
        "\n",
        "/media/alvis/Data/Term1/networksconv/caffe/imagenet_small/n02895154\n",
        "457"
       ]
      },
      {
       "output_type": "stream",
       "stream": "stdout",
       "text": [
        "\n",
        "/media/alvis/Data/Term1/networksconv/caffe/imagenet_small/n02906734\n",
        "458"
       ]
      },
      {
       "output_type": "stream",
       "stream": "stdout",
       "text": [
        "\n",
        "/media/alvis/Data/Term1/networksconv/caffe/imagenet_small/n02909870\n",
        "459"
       ]
      },
      {
       "output_type": "stream",
       "stream": "stdout",
       "text": [
        "\n",
        "/media/alvis/Data/Term1/networksconv/caffe/imagenet_small/n02910353\n",
        "460"
       ]
      },
      {
       "output_type": "stream",
       "stream": "stdout",
       "text": [
        "\n",
        "/media/alvis/Data/Term1/networksconv/caffe/imagenet_small/n02916936\n",
        "461"
       ]
      },
      {
       "output_type": "stream",
       "stream": "stdout",
       "text": [
        "\n",
        "/media/alvis/Data/Term1/networksconv/caffe/imagenet_small/n02917067\n",
        "462"
       ]
      },
      {
       "output_type": "stream",
       "stream": "stdout",
       "text": [
        "\n",
        "/media/alvis/Data/Term1/networksconv/caffe/imagenet_small/n02927161\n",
        "463"
       ]
      },
      {
       "output_type": "stream",
       "stream": "stdout",
       "text": [
        "\n",
        "/media/alvis/Data/Term1/networksconv/caffe/imagenet_small/n02930766\n",
        "464"
       ]
      },
      {
       "output_type": "stream",
       "stream": "stdout",
       "text": [
        "\n",
        "/media/alvis/Data/Term1/networksconv/caffe/imagenet_small/n02939185\n",
        "465"
       ]
      },
      {
       "output_type": "stream",
       "stream": "stdout",
       "text": [
        "\n",
        "/media/alvis/Data/Term1/networksconv/caffe/imagenet_small/n02948072\n",
        "466"
       ]
      },
      {
       "output_type": "stream",
       "stream": "stdout",
       "text": [
        "\n",
        "/media/alvis/Data/Term1/networksconv/caffe/imagenet_small/n02950826\n",
        "467"
       ]
      },
      {
       "output_type": "stream",
       "stream": "stdout",
       "text": [
        "\n",
        "/media/alvis/Data/Term1/networksconv/caffe/imagenet_small/n02951358\n",
        "468"
       ]
      },
      {
       "output_type": "stream",
       "stream": "stdout",
       "text": [
        "\n",
        "/media/alvis/Data/Term1/networksconv/caffe/imagenet_small/n02951585\n",
        "469"
       ]
      },
      {
       "output_type": "stream",
       "stream": "stdout",
       "text": [
        "\n",
        "/media/alvis/Data/Term1/networksconv/caffe/imagenet_small/n02963159\n",
        "470"
       ]
      },
      {
       "output_type": "stream",
       "stream": "stdout",
       "text": [
        "\n",
        "/media/alvis/Data/Term1/networksconv/caffe/imagenet_small/n02965783\n",
        "471"
       ]
      },
      {
       "output_type": "stream",
       "stream": "stdout",
       "text": [
        "\n",
        "/media/alvis/Data/Term1/networksconv/caffe/imagenet_small/n02966193\n",
        "472"
       ]
      },
      {
       "output_type": "stream",
       "stream": "stdout",
       "text": [
        "\n",
        "/media/alvis/Data/Term1/networksconv/caffe/imagenet_small/n02966687\n",
        "473"
       ]
      },
      {
       "output_type": "stream",
       "stream": "stdout",
       "text": [
        "\n",
        "/media/alvis/Data/Term1/networksconv/caffe/imagenet_small/n02971356\n",
        "474"
       ]
      },
      {
       "output_type": "stream",
       "stream": "stdout",
       "text": [
        "\n",
        "/media/alvis/Data/Term1/networksconv/caffe/imagenet_small/n02977058\n",
        "475"
       ]
      },
      {
       "output_type": "stream",
       "stream": "stdout",
       "text": [
        "\n",
        "/media/alvis/Data/Term1/networksconv/caffe/imagenet_small/n02978881\n",
        "476"
       ]
      },
      {
       "output_type": "stream",
       "stream": "stdout",
       "text": [
        "\n",
        "/media/alvis/Data/Term1/networksconv/caffe/imagenet_small/n02979186\n",
        "477"
       ]
      },
      {
       "output_type": "stream",
       "stream": "stdout",
       "text": [
        "\n",
        "/media/alvis/Data/Term1/networksconv/caffe/imagenet_small/n02980441\n",
        "478"
       ]
      },
      {
       "output_type": "stream",
       "stream": "stdout",
       "text": [
        "\n",
        "/media/alvis/Data/Term1/networksconv/caffe/imagenet_small/n02981792\n",
        "479"
       ]
      },
      {
       "output_type": "stream",
       "stream": "stdout",
       "text": [
        "\n",
        "/media/alvis/Data/Term1/networksconv/caffe/imagenet_small/n02988304\n",
        "480"
       ]
      },
      {
       "output_type": "stream",
       "stream": "stdout",
       "text": [
        "\n",
        "/media/alvis/Data/Term1/networksconv/caffe/imagenet_small/n02992211\n",
        "481"
       ]
      },
      {
       "output_type": "stream",
       "stream": "stdout",
       "text": [
        "\n",
        "/media/alvis/Data/Term1/networksconv/caffe/imagenet_small/n02992529\n",
        "482"
       ]
      },
      {
       "output_type": "stream",
       "stream": "stdout",
       "text": [
        "\n",
        "/media/alvis/Data/Term1/networksconv/caffe/imagenet_small/n02999410\n",
        "483"
       ]
      },
      {
       "output_type": "stream",
       "stream": "stdout",
       "text": [
        "\n",
        "/media/alvis/Data/Term1/networksconv/caffe/imagenet_small/n03000134\n",
        "484"
       ]
      },
      {
       "output_type": "stream",
       "stream": "stdout",
       "text": [
        "\n",
        "/media/alvis/Data/Term1/networksconv/caffe/imagenet_small/n03000247\n",
        "485"
       ]
      },
      {
       "output_type": "stream",
       "stream": "stdout",
       "text": [
        "\n",
        "/media/alvis/Data/Term1/networksconv/caffe/imagenet_small/n03000684\n",
        "486"
       ]
      },
      {
       "output_type": "stream",
       "stream": "stdout",
       "text": [
        "\n",
        "/media/alvis/Data/Term1/networksconv/caffe/imagenet_small/n03014705\n",
        "487"
       ]
      },
      {
       "output_type": "stream",
       "stream": "stdout",
       "text": [
        "\n",
        "/media/alvis/Data/Term1/networksconv/caffe/imagenet_small/n03016953\n",
        "488"
       ]
      },
      {
       "output_type": "stream",
       "stream": "stdout",
       "text": [
        "\n",
        "/media/alvis/Data/Term1/networksconv/caffe/imagenet_small/n03017168\n",
        "489"
       ]
      },
      {
       "output_type": "stream",
       "stream": "stdout",
       "text": [
        "\n",
        "/media/alvis/Data/Term1/networksconv/caffe/imagenet_small/n03018349\n",
        "490"
       ]
      },
      {
       "output_type": "stream",
       "stream": "stdout",
       "text": [
        "\n",
        "/media/alvis/Data/Term1/networksconv/caffe/imagenet_small/n03026506\n",
        "491"
       ]
      },
      {
       "output_type": "stream",
       "stream": "stdout",
       "text": [
        "\n",
        "/media/alvis/Data/Term1/networksconv/caffe/imagenet_small/n03028079\n",
        "492"
       ]
      },
      {
       "output_type": "stream",
       "stream": "stdout",
       "text": [
        "\n",
        "/media/alvis/Data/Term1/networksconv/caffe/imagenet_small/n03032252\n",
        "493"
       ]
      },
      {
       "output_type": "stream",
       "stream": "stdout",
       "text": [
        "\n",
        "/media/alvis/Data/Term1/networksconv/caffe/imagenet_small/n03042490\n",
        "494"
       ]
      },
      {
       "output_type": "stream",
       "stream": "stdout",
       "text": [
        "\n",
        "/media/alvis/Data/Term1/networksconv/caffe/imagenet_small/n03045698\n",
        "495"
       ]
      },
      {
       "output_type": "stream",
       "stream": "stdout",
       "text": [
        "\n",
        "/media/alvis/Data/Term1/networksconv/caffe/imagenet_small/n03047690\n",
        "496"
       ]
      },
      {
       "output_type": "stream",
       "stream": "stdout",
       "text": [
        "\n",
        "/media/alvis/Data/Term1/networksconv/caffe/imagenet_small/n03062245\n",
        "497"
       ]
      },
      {
       "output_type": "stream",
       "stream": "stdout",
       "text": [
        "\n",
        "/media/alvis/Data/Term1/networksconv/caffe/imagenet_small/n03063599\n",
        "498"
       ]
      },
      {
       "output_type": "stream",
       "stream": "stdout",
       "text": [
        "\n",
        "/media/alvis/Data/Term1/networksconv/caffe/imagenet_small/n03063689\n",
        "499"
       ]
      },
      {
       "output_type": "stream",
       "stream": "stdout",
       "text": [
        "\n",
        "/media/alvis/Data/Term1/networksconv/caffe/imagenet_small/n03065424\n",
        "500"
       ]
      },
      {
       "output_type": "stream",
       "stream": "stdout",
       "text": [
        "\n",
        "/media/alvis/Data/Term1/networksconv/caffe/imagenet_small/n03075370\n",
        "501"
       ]
      },
      {
       "output_type": "stream",
       "stream": "stdout",
       "text": [
        "\n",
        "/media/alvis/Data/Term1/networksconv/caffe/imagenet_small/n03085013\n",
        "502"
       ]
      },
      {
       "output_type": "stream",
       "stream": "stdout",
       "text": [
        "\n",
        "/media/alvis/Data/Term1/networksconv/caffe/imagenet_small/n03089624\n",
        "503"
       ]
      },
      {
       "output_type": "stream",
       "stream": "stdout",
       "text": [
        "\n",
        "/media/alvis/Data/Term1/networksconv/caffe/imagenet_small/n03095699\n",
        "504"
       ]
      },
      {
       "output_type": "stream",
       "stream": "stdout",
       "text": [
        "\n",
        "/media/alvis/Data/Term1/networksconv/caffe/imagenet_small/n03100240\n",
        "505"
       ]
      },
      {
       "output_type": "stream",
       "stream": "stdout",
       "text": [
        "\n",
        "/media/alvis/Data/Term1/networksconv/caffe/imagenet_small/n03109150\n",
        "506"
       ]
      },
      {
       "output_type": "stream",
       "stream": "stdout",
       "text": [
        "\n",
        "/media/alvis/Data/Term1/networksconv/caffe/imagenet_small/n03110669\n",
        "507"
       ]
      },
      {
       "output_type": "stream",
       "stream": "stdout",
       "text": [
        "\n",
        "/media/alvis/Data/Term1/networksconv/caffe/imagenet_small/n03124043\n",
        "508"
       ]
      },
      {
       "output_type": "stream",
       "stream": "stdout",
       "text": [
        "\n",
        "/media/alvis/Data/Term1/networksconv/caffe/imagenet_small/n03124170\n",
        "509"
       ]
      },
      {
       "output_type": "stream",
       "stream": "stdout",
       "text": [
        "\n",
        "/media/alvis/Data/Term1/networksconv/caffe/imagenet_small/n03125729\n",
        "510"
       ]
      },
      {
       "output_type": "stream",
       "stream": "stdout",
       "text": [
        "\n",
        "/media/alvis/Data/Term1/networksconv/caffe/imagenet_small/n03126707\n",
        "511"
       ]
      },
      {
       "output_type": "stream",
       "stream": "stdout",
       "text": [
        "\n",
        "/media/alvis/Data/Term1/networksconv/caffe/imagenet_small/n03127747\n",
        "512"
       ]
      },
      {
       "output_type": "stream",
       "stream": "stdout",
       "text": [
        "\n",
        "/media/alvis/Data/Term1/networksconv/caffe/imagenet_small/n03131574\n",
        "513"
       ]
      },
      {
       "output_type": "stream",
       "stream": "stdout",
       "text": [
        "\n",
        "/media/alvis/Data/Term1/networksconv/caffe/imagenet_small/n03133878\n",
        "514"
       ]
      },
      {
       "output_type": "stream",
       "stream": "stdout",
       "text": [
        "\n",
        "/media/alvis/Data/Term1/networksconv/caffe/imagenet_small/n03134739\n",
        "515"
       ]
      },
      {
       "output_type": "stream",
       "stream": "stdout",
       "text": [
        "\n",
        "/media/alvis/Data/Term1/networksconv/caffe/imagenet_small/n03141823\n",
        "516"
       ]
      },
      {
       "output_type": "stream",
       "stream": "stdout",
       "text": [
        "\n",
        "/media/alvis/Data/Term1/networksconv/caffe/imagenet_small/n03146219\n",
        "517"
       ]
      },
      {
       "output_type": "stream",
       "stream": "stdout",
       "text": [
        "\n",
        "/media/alvis/Data/Term1/networksconv/caffe/imagenet_small/n03160309\n",
        "518"
       ]
      },
      {
       "output_type": "stream",
       "stream": "stdout",
       "text": [
        "\n",
        "/media/alvis/Data/Term1/networksconv/caffe/imagenet_small/n03179701\n",
        "519"
       ]
      },
      {
       "output_type": "stream",
       "stream": "stdout",
       "text": [
        "\n",
        "/media/alvis/Data/Term1/networksconv/caffe/imagenet_small/n03180011\n",
        "520"
       ]
      },
      {
       "output_type": "stream",
       "stream": "stdout",
       "text": [
        "\n",
        "/media/alvis/Data/Term1/networksconv/caffe/imagenet_small/n03187595\n",
        "521"
       ]
      },
      {
       "output_type": "stream",
       "stream": "stdout",
       "text": [
        "\n",
        "/media/alvis/Data/Term1/networksconv/caffe/imagenet_small/n03188531\n",
        "522"
       ]
      },
      {
       "output_type": "stream",
       "stream": "stdout",
       "text": [
        "\n",
        "/media/alvis/Data/Term1/networksconv/caffe/imagenet_small/n03196217\n",
        "523"
       ]
      },
      {
       "output_type": "stream",
       "stream": "stdout",
       "text": [
        "\n",
        "/media/alvis/Data/Term1/networksconv/caffe/imagenet_small/n03197337\n",
        "524"
       ]
      },
      {
       "output_type": "stream",
       "stream": "stdout",
       "text": [
        "\n",
        "/media/alvis/Data/Term1/networksconv/caffe/imagenet_small/n03201208\n",
        "525"
       ]
      },
      {
       "output_type": "stream",
       "stream": "stdout",
       "text": [
        "\n",
        "/media/alvis/Data/Term1/networksconv/caffe/imagenet_small/n03207743\n",
        "526"
       ]
      },
      {
       "output_type": "stream",
       "stream": "stdout",
       "text": [
        "\n",
        "/media/alvis/Data/Term1/networksconv/caffe/imagenet_small/n03207941\n",
        "527"
       ]
      },
      {
       "output_type": "stream",
       "stream": "stdout",
       "text": [
        "\n",
        "/media/alvis/Data/Term1/networksconv/caffe/imagenet_small/n03208938\n",
        "528"
       ]
      },
      {
       "output_type": "stream",
       "stream": "stdout",
       "text": [
        "\n",
        "/media/alvis/Data/Term1/networksconv/caffe/imagenet_small/n03216828\n",
        "529"
       ]
      },
      {
       "output_type": "stream",
       "stream": "stdout",
       "text": [
        "\n",
        "/media/alvis/Data/Term1/networksconv/caffe/imagenet_small/n03218198\n",
        "530"
       ]
      },
      {
       "output_type": "stream",
       "stream": "stdout",
       "text": [
        "\n",
        "/media/alvis/Data/Term1/networksconv/caffe/imagenet_small/n03220513\n",
        "531"
       ]
      },
      {
       "output_type": "stream",
       "stream": "stdout",
       "text": [
        "\n",
        "/media/alvis/Data/Term1/networksconv/caffe/imagenet_small/n03240683\n",
        "532"
       ]
      },
      {
       "output_type": "stream",
       "stream": "stdout",
       "text": [
        "\n",
        "/media/alvis/Data/Term1/networksconv/caffe/imagenet_small/n03249569\n",
        "533"
       ]
      },
      {
       "output_type": "stream",
       "stream": "stdout",
       "text": [
        "\n",
        "/media/alvis/Data/Term1/networksconv/caffe/imagenet_small/n03250847\n",
        "534"
       ]
      },
      {
       "output_type": "stream",
       "stream": "stdout",
       "text": [
        "\n",
        "/media/alvis/Data/Term1/networksconv/caffe/imagenet_small/n03255030\n",
        "535"
       ]
      },
      {
       "output_type": "stream",
       "stream": "stdout",
       "text": [
        "\n",
        "/media/alvis/Data/Term1/networksconv/caffe/imagenet_small/n03259280\n",
        "536"
       ]
      },
      {
       "output_type": "stream",
       "stream": "stdout",
       "text": [
        "\n",
        "/media/alvis/Data/Term1/networksconv/caffe/imagenet_small/n03271574\n",
        "537"
       ]
      },
      {
       "output_type": "stream",
       "stream": "stdout",
       "text": [
        "\n",
        "/media/alvis/Data/Term1/networksconv/caffe/imagenet_small/n03272010\n",
        "538"
       ]
      },
      {
       "output_type": "stream",
       "stream": "stdout",
       "text": [
        "\n",
        "/media/alvis/Data/Term1/networksconv/caffe/imagenet_small/n03272562\n",
        "539"
       ]
      },
      {
       "output_type": "stream",
       "stream": "stdout",
       "text": [
        "\n",
        "/media/alvis/Data/Term1/networksconv/caffe/imagenet_small/n03290653\n",
        "540"
       ]
      },
      {
       "output_type": "stream",
       "stream": "stdout",
       "text": [
        "\n",
        "/media/alvis/Data/Term1/networksconv/caffe/imagenet_small/n03291819\n",
        "541"
       ]
      },
      {
       "output_type": "stream",
       "stream": "stdout",
       "text": [
        "\n",
        "/media/alvis/Data/Term1/networksconv/caffe/imagenet_small/n03297495\n",
        "542"
       ]
      },
      {
       "output_type": "stream",
       "stream": "stdout",
       "text": [
        "\n",
        "/media/alvis/Data/Term1/networksconv/caffe/imagenet_small/n03314780\n",
        "543"
       ]
      },
      {
       "output_type": "stream",
       "stream": "stdout",
       "text": [
        "\n",
        "/media/alvis/Data/Term1/networksconv/caffe/imagenet_small/n03325584\n",
        "544"
       ]
      },
      {
       "output_type": "stream",
       "stream": "stdout",
       "text": [
        "\n",
        "/media/alvis/Data/Term1/networksconv/caffe/imagenet_small/n03337140\n",
        "545"
       ]
      },
      {
       "output_type": "stream",
       "stream": "stdout",
       "text": [
        "\n",
        "/media/alvis/Data/Term1/networksconv/caffe/imagenet_small/n03344393\n",
        "546"
       ]
      },
      {
       "output_type": "stream",
       "stream": "stdout",
       "text": [
        "\n",
        "/media/alvis/Data/Term1/networksconv/caffe/imagenet_small/n03345487\n",
        "547"
       ]
      },
      {
       "output_type": "stream",
       "stream": "stdout",
       "text": [
        "\n",
        "/media/alvis/Data/Term1/networksconv/caffe/imagenet_small/n03347037\n",
        "548"
       ]
      },
      {
       "output_type": "stream",
       "stream": "stdout",
       "text": [
        "\n",
        "/media/alvis/Data/Term1/networksconv/caffe/imagenet_small/n03355925\n",
        "549"
       ]
      },
      {
       "output_type": "stream",
       "stream": "stdout",
       "text": [
        "\n",
        "/media/alvis/Data/Term1/networksconv/caffe/imagenet_small/n03372029\n",
        "550"
       ]
      },
      {
       "output_type": "stream",
       "stream": "stdout",
       "text": [
        "\n",
        "/media/alvis/Data/Term1/networksconv/caffe/imagenet_small/n03379051\n",
        "551"
       ]
      },
      {
       "output_type": "stream",
       "stream": "stdout",
       "text": [
        "\n",
        "/media/alvis/Data/Term1/networksconv/caffe/imagenet_small/n03384352\n",
        "552"
       ]
      },
      {
       "output_type": "stream",
       "stream": "stdout",
       "text": [
        "\n",
        "/media/alvis/Data/Term1/networksconv/caffe/imagenet_small/n03388043\n",
        "553"
       ]
      },
      {
       "output_type": "stream",
       "stream": "stdout",
       "text": [
        "\n",
        "/media/alvis/Data/Term1/networksconv/caffe/imagenet_small/n03388183\n",
        "554"
       ]
      },
      {
       "output_type": "stream",
       "stream": "stdout",
       "text": [
        "\n",
        "/media/alvis/Data/Term1/networksconv/caffe/imagenet_small/n03388549\n",
        "555"
       ]
      },
      {
       "output_type": "stream",
       "stream": "stdout",
       "text": [
        "\n",
        "/media/alvis/Data/Term1/networksconv/caffe/imagenet_small/n03393912\n",
        "556"
       ]
      },
      {
       "output_type": "stream",
       "stream": "stdout",
       "text": [
        "\n",
        "/media/alvis/Data/Term1/networksconv/caffe/imagenet_small/n03394916\n",
        "557"
       ]
      },
      {
       "output_type": "stream",
       "stream": "stdout",
       "text": [
        "\n",
        "/media/alvis/Data/Term1/networksconv/caffe/imagenet_small/n03400231\n",
        "558"
       ]
      },
      {
       "output_type": "stream",
       "stream": "stdout",
       "text": [
        "\n",
        "/media/alvis/Data/Term1/networksconv/caffe/imagenet_small/n03404251\n",
        "559"
       ]
      },
      {
       "output_type": "stream",
       "stream": "stdout",
       "text": [
        "\n",
        "/media/alvis/Data/Term1/networksconv/caffe/imagenet_small/n03417042\n",
        "560"
       ]
      },
      {
       "output_type": "stream",
       "stream": "stdout",
       "text": [
        "\n",
        "/media/alvis/Data/Term1/networksconv/caffe/imagenet_small/n03424325\n",
        "561"
       ]
      },
      {
       "output_type": "stream",
       "stream": "stdout",
       "text": [
        "\n",
        "/media/alvis/Data/Term1/networksconv/caffe/imagenet_small/n03425413\n",
        "562"
       ]
      },
      {
       "output_type": "stream",
       "stream": "stdout",
       "text": [
        "\n",
        "/media/alvis/Data/Term1/networksconv/caffe/imagenet_small/n03443371\n",
        "563"
       ]
      },
      {
       "output_type": "stream",
       "stream": "stdout",
       "text": [
        "\n",
        "/media/alvis/Data/Term1/networksconv/caffe/imagenet_small/n03444034\n",
        "564"
       ]
      },
      {
       "output_type": "stream",
       "stream": "stdout",
       "text": [
        "\n",
        "/media/alvis/Data/Term1/networksconv/caffe/imagenet_small/n03445777\n",
        "565"
       ]
      },
      {
       "output_type": "stream",
       "stream": "stdout",
       "text": [
        "\n",
        "/media/alvis/Data/Term1/networksconv/caffe/imagenet_small/n03445924\n",
        "566"
       ]
      },
      {
       "output_type": "stream",
       "stream": "stdout",
       "text": [
        "\n",
        "/media/alvis/Data/Term1/networksconv/caffe/imagenet_small/n03447447\n",
        "567"
       ]
      },
      {
       "output_type": "stream",
       "stream": "stdout",
       "text": [
        "\n",
        "/media/alvis/Data/Term1/networksconv/caffe/imagenet_small/n03447721\n",
        "568"
       ]
      },
      {
       "output_type": "stream",
       "stream": "stdout",
       "text": [
        "\n",
        "/media/alvis/Data/Term1/networksconv/caffe/imagenet_small/n03450230\n",
        "569"
       ]
      },
      {
       "output_type": "stream",
       "stream": "stdout",
       "text": [
        "\n",
        "/media/alvis/Data/Term1/networksconv/caffe/imagenet_small/n03457902\n",
        "570"
       ]
      },
      {
       "output_type": "stream",
       "stream": "stdout",
       "text": [
        "\n",
        "/media/alvis/Data/Term1/networksconv/caffe/imagenet_small/n03459775\n",
        "571"
       ]
      },
      {
       "output_type": "stream",
       "stream": "stdout",
       "text": [
        "\n",
        "/media/alvis/Data/Term1/networksconv/caffe/imagenet_small/n03461385\n",
        "572"
       ]
      },
      {
       "output_type": "stream",
       "stream": "stdout",
       "text": [
        "\n",
        "/media/alvis/Data/Term1/networksconv/caffe/imagenet_small/n03467068\n",
        "573"
       ]
      },
      {
       "output_type": "stream",
       "stream": "stdout",
       "text": [
        "\n",
        "/media/alvis/Data/Term1/networksconv/caffe/imagenet_small/n03476684\n",
        "574"
       ]
      },
      {
       "output_type": "stream",
       "stream": "stdout",
       "text": [
        "\n",
        "/media/alvis/Data/Term1/networksconv/caffe/imagenet_small/n03476991\n",
        "575"
       ]
      },
      {
       "output_type": "stream",
       "stream": "stdout",
       "text": [
        "\n",
        "/media/alvis/Data/Term1/networksconv/caffe/imagenet_small/n03478589\n",
        "576"
       ]
      },
      {
       "output_type": "stream",
       "stream": "stdout",
       "text": [
        "\n",
        "/media/alvis/Data/Term1/networksconv/caffe/imagenet_small/n03481172\n",
        "577"
       ]
      },
      {
       "output_type": "stream",
       "stream": "stdout",
       "text": [
        "\n",
        "/media/alvis/Data/Term1/networksconv/caffe/imagenet_small/n03482405\n",
        "578"
       ]
      },
      {
       "output_type": "stream",
       "stream": "stdout",
       "text": [
        "\n",
        "/media/alvis/Data/Term1/networksconv/caffe/imagenet_small/n03483316\n",
        "579"
       ]
      },
      {
       "output_type": "stream",
       "stream": "stdout",
       "text": [
        "\n",
        "/media/alvis/Data/Term1/networksconv/caffe/imagenet_small/n03485407\n",
        "580"
       ]
      },
      {
       "output_type": "stream",
       "stream": "stdout",
       "text": [
        "\n",
        "/media/alvis/Data/Term1/networksconv/caffe/imagenet_small/n03485794\n",
        "581"
       ]
      },
      {
       "output_type": "stream",
       "stream": "stdout",
       "text": [
        "\n",
        "/media/alvis/Data/Term1/networksconv/caffe/imagenet_small/n03492542\n",
        "582"
       ]
      },
      {
       "output_type": "stream",
       "stream": "stdout",
       "text": [
        "\n",
        "/media/alvis/Data/Term1/networksconv/caffe/imagenet_small/n03494278\n",
        "583"
       ]
      },
      {
       "output_type": "stream",
       "stream": "stdout",
       "text": [
        "\n",
        "/media/alvis/Data/Term1/networksconv/caffe/imagenet_small/n03495258\n",
        "584"
       ]
      },
      {
       "output_type": "stream",
       "stream": "stdout",
       "text": [
        "\n",
        "/media/alvis/Data/Term1/networksconv/caffe/imagenet_small/n03496892\n",
        "585"
       ]
      },
      {
       "output_type": "stream",
       "stream": "stdout",
       "text": [
        "\n",
        "/media/alvis/Data/Term1/networksconv/caffe/imagenet_small/n03498962\n",
        "586"
       ]
      },
      {
       "output_type": "stream",
       "stream": "stdout",
       "text": [
        "\n",
        "/media/alvis/Data/Term1/networksconv/caffe/imagenet_small/n03527444\n",
        "587"
       ]
      },
      {
       "output_type": "stream",
       "stream": "stdout",
       "text": [
        "\n",
        "/media/alvis/Data/Term1/networksconv/caffe/imagenet_small/n03529860\n",
        "588"
       ]
      },
      {
       "output_type": "stream",
       "stream": "stdout",
       "text": [
        "\n",
        "/media/alvis/Data/Term1/networksconv/caffe/imagenet_small/n03532672\n",
        "589"
       ]
      },
      {
       "output_type": "stream",
       "stream": "stdout",
       "text": [
        "\n",
        "/media/alvis/Data/Term1/networksconv/caffe/imagenet_small/n03534580\n",
        "590"
       ]
      },
      {
       "output_type": "stream",
       "stream": "stdout",
       "text": [
        "\n",
        "/media/alvis/Data/Term1/networksconv/caffe/imagenet_small/n03535780\n",
        "591"
       ]
      },
      {
       "output_type": "stream",
       "stream": "stdout",
       "text": [
        "\n",
        "/media/alvis/Data/Term1/networksconv/caffe/imagenet_small/n03538406\n",
        "592"
       ]
      },
      {
       "output_type": "stream",
       "stream": "stdout",
       "text": [
        "\n",
        "/media/alvis/Data/Term1/networksconv/caffe/imagenet_small/n03544143\n",
        "593"
       ]
      },
      {
       "output_type": "stream",
       "stream": "stdout",
       "text": [
        "\n",
        "/media/alvis/Data/Term1/networksconv/caffe/imagenet_small/n03584254\n",
        "594"
       ]
      },
      {
       "output_type": "stream",
       "stream": "stdout",
       "text": [
        "\n",
        "/media/alvis/Data/Term1/networksconv/caffe/imagenet_small/n03584829\n",
        "595"
       ]
      },
      {
       "output_type": "stream",
       "stream": "stdout",
       "text": [
        "\n",
        "/media/alvis/Data/Term1/networksconv/caffe/imagenet_small/n03590841\n",
        "596"
       ]
      },
      {
       "output_type": "stream",
       "stream": "stdout",
       "text": [
        "\n",
        "/media/alvis/Data/Term1/networksconv/caffe/imagenet_small/n03594734\n",
        "597"
       ]
      },
      {
       "output_type": "stream",
       "stream": "stdout",
       "text": [
        "\n",
        "/media/alvis/Data/Term1/networksconv/caffe/imagenet_small/n03594945\n",
        "598"
       ]
      },
      {
       "output_type": "stream",
       "stream": "stdout",
       "text": [
        "\n",
        "/media/alvis/Data/Term1/networksconv/caffe/imagenet_small/n03595614\n",
        "599"
       ]
      },
      {
       "output_type": "stream",
       "stream": "stdout",
       "text": [
        "\n",
        "/media/alvis/Data/Term1/networksconv/caffe/imagenet_small/n03598930\n",
        "600"
       ]
      },
      {
       "output_type": "stream",
       "stream": "stdout",
       "text": [
        "\n",
        "/media/alvis/Data/Term1/networksconv/caffe/imagenet_small/n03599486\n",
        "601"
       ]
      },
      {
       "output_type": "stream",
       "stream": "stdout",
       "text": [
        "\n",
        "/media/alvis/Data/Term1/networksconv/caffe/imagenet_small/n03602883\n",
        "602"
       ]
      },
      {
       "output_type": "stream",
       "stream": "stdout",
       "text": [
        "\n",
        "/media/alvis/Data/Term1/networksconv/caffe/imagenet_small/n03617480\n",
        "603"
       ]
      },
      {
       "output_type": "stream",
       "stream": "stdout",
       "text": [
        "\n",
        "/media/alvis/Data/Term1/networksconv/caffe/imagenet_small/n03623198\n",
        "604"
       ]
      },
      {
       "output_type": "stream",
       "stream": "stdout",
       "text": [
        "\n",
        "/media/alvis/Data/Term1/networksconv/caffe/imagenet_small/n03627232\n",
        "605"
       ]
      },
      {
       "output_type": "stream",
       "stream": "stdout",
       "text": [
        "\n",
        "/media/alvis/Data/Term1/networksconv/caffe/imagenet_small/n03630383\n",
        "606"
       ]
      },
      {
       "output_type": "stream",
       "stream": "stdout",
       "text": [
        "\n",
        "/media/alvis/Data/Term1/networksconv/caffe/imagenet_small/n03633091\n",
        "607"
       ]
      },
      {
       "output_type": "stream",
       "stream": "stdout",
       "text": [
        "\n",
        "/media/alvis/Data/Term1/networksconv/caffe/imagenet_small/n03642806\n",
        "608"
       ]
      },
      {
       "output_type": "stream",
       "stream": "stdout",
       "text": [
        "\n",
        "/media/alvis/Data/Term1/networksconv/caffe/imagenet_small/n03649909\n",
        "609"
       ]
      },
      {
       "output_type": "stream",
       "stream": "stdout",
       "text": [
        "\n",
        "/media/alvis/Data/Term1/networksconv/caffe/imagenet_small/n03657121\n",
        "610"
       ]
      },
      {
       "output_type": "stream",
       "stream": "stdout",
       "text": [
        "\n",
        "/media/alvis/Data/Term1/networksconv/caffe/imagenet_small/n03658185\n",
        "611"
       ]
      },
      {
       "output_type": "stream",
       "stream": "stdout",
       "text": [
        "\n",
        "/media/alvis/Data/Term1/networksconv/caffe/imagenet_small/n03661043\n",
        "612"
       ]
      },
      {
       "output_type": "stream",
       "stream": "stdout",
       "text": [
        "\n",
        "/media/alvis/Data/Term1/networksconv/caffe/imagenet_small/n03662601\n",
        "613"
       ]
      },
      {
       "output_type": "stream",
       "stream": "stdout",
       "text": [
        "\n",
        "/media/alvis/Data/Term1/networksconv/caffe/imagenet_small/n03666591\n",
        "614"
       ]
      },
      {
       "output_type": "stream",
       "stream": "stdout",
       "text": [
        "\n",
        "/media/alvis/Data/Term1/networksconv/caffe/imagenet_small/n03670208\n",
        "615"
       ]
      },
      {
       "output_type": "stream",
       "stream": "stdout",
       "text": [
        "\n",
        "/media/alvis/Data/Term1/networksconv/caffe/imagenet_small/n03673027\n",
        "616"
       ]
      },
      {
       "output_type": "stream",
       "stream": "stdout",
       "text": [
        "\n",
        "/media/alvis/Data/Term1/networksconv/caffe/imagenet_small/n03676483\n",
        "617"
       ]
      },
      {
       "output_type": "stream",
       "stream": "stdout",
       "text": [
        "\n",
        "/media/alvis/Data/Term1/networksconv/caffe/imagenet_small/n03680355\n",
        "618"
       ]
      },
      {
       "output_type": "stream",
       "stream": "stdout",
       "text": [
        "\n",
        "/media/alvis/Data/Term1/networksconv/caffe/imagenet_small/n03690938\n",
        "619"
       ]
      },
      {
       "output_type": "stream",
       "stream": "stdout",
       "text": [
        "\n",
        "/media/alvis/Data/Term1/networksconv/caffe/imagenet_small/n03691459\n",
        "620"
       ]
      },
      {
       "output_type": "stream",
       "stream": "stdout",
       "text": [
        "\n",
        "/media/alvis/Data/Term1/networksconv/caffe/imagenet_small/n03692522\n",
        "621"
       ]
      },
      {
       "output_type": "stream",
       "stream": "stdout",
       "text": [
        "\n",
        "/media/alvis/Data/Term1/networksconv/caffe/imagenet_small/n03697007\n",
        "622"
       ]
      },
      {
       "output_type": "stream",
       "stream": "stdout",
       "text": [
        "\n",
        "/media/alvis/Data/Term1/networksconv/caffe/imagenet_small/n03706229\n",
        "623"
       ]
      },
      {
       "output_type": "stream",
       "stream": "stdout",
       "text": [
        "\n",
        "/media/alvis/Data/Term1/networksconv/caffe/imagenet_small/n03709823\n",
        "624"
       ]
      },
      {
       "output_type": "stream",
       "stream": "stdout",
       "text": [
        "\n",
        "/media/alvis/Data/Term1/networksconv/caffe/imagenet_small/n03710193\n",
        "625"
       ]
      },
      {
       "output_type": "stream",
       "stream": "stdout",
       "text": [
        "\n",
        "/media/alvis/Data/Term1/networksconv/caffe/imagenet_small/n03710637\n",
        "626"
       ]
      },
      {
       "output_type": "stream",
       "stream": "stdout",
       "text": [
        "\n",
        "/media/alvis/Data/Term1/networksconv/caffe/imagenet_small/n03717622\n",
        "627"
       ]
      },
      {
       "output_type": "stream",
       "stream": "stdout",
       "text": [
        "\n",
        "/media/alvis/Data/Term1/networksconv/caffe/imagenet_small/n03720891\n",
        "628"
       ]
      },
      {
       "output_type": "stream",
       "stream": "stdout",
       "text": [
        "\n",
        "/media/alvis/Data/Term1/networksconv/caffe/imagenet_small/n03721384\n",
        "629"
       ]
      },
      {
       "output_type": "stream",
       "stream": "stdout",
       "text": [
        "\n",
        "/media/alvis/Data/Term1/networksconv/caffe/imagenet_small/n03724870\n",
        "630"
       ]
      },
      {
       "output_type": "stream",
       "stream": "stdout",
       "text": [
        "\n",
        "/media/alvis/Data/Term1/networksconv/caffe/imagenet_small/n03729826\n",
        "631"
       ]
      },
      {
       "output_type": "stream",
       "stream": "stdout",
       "text": [
        "\n",
        "/media/alvis/Data/Term1/networksconv/caffe/imagenet_small/n03733131\n",
        "632"
       ]
      },
      {
       "output_type": "stream",
       "stream": "stdout",
       "text": [
        "\n",
        "/media/alvis/Data/Term1/networksconv/caffe/imagenet_small/n03733281\n",
        "633"
       ]
      },
      {
       "output_type": "stream",
       "stream": "stdout",
       "text": [
        "\n",
        "/media/alvis/Data/Term1/networksconv/caffe/imagenet_small/n03733805\n",
        "634"
       ]
      },
      {
       "output_type": "stream",
       "stream": "stdout",
       "text": [
        "\n",
        "/media/alvis/Data/Term1/networksconv/caffe/imagenet_small/n03742115\n",
        "635"
       ]
      },
      {
       "output_type": "stream",
       "stream": "stdout",
       "text": [
        "\n",
        "/media/alvis/Data/Term1/networksconv/caffe/imagenet_small/n03743016\n",
        "636"
       ]
      },
      {
       "output_type": "stream",
       "stream": "stdout",
       "text": [
        "\n",
        "/media/alvis/Data/Term1/networksconv/caffe/imagenet_small/n03759954\n",
        "637"
       ]
      },
      {
       "output_type": "stream",
       "stream": "stdout",
       "text": [
        "\n",
        "/media/alvis/Data/Term1/networksconv/caffe/imagenet_small/n03761084\n",
        "638"
       ]
      },
      {
       "output_type": "stream",
       "stream": "stdout",
       "text": [
        "\n",
        "/media/alvis/Data/Term1/networksconv/caffe/imagenet_small/n03763968\n",
        "639"
       ]
      },
      {
       "output_type": "stream",
       "stream": "stdout",
       "text": [
        "\n",
        "/media/alvis/Data/Term1/networksconv/caffe/imagenet_small/n03764736\n",
        "640"
       ]
      },
      {
       "output_type": "stream",
       "stream": "stdout",
       "text": [
        "\n",
        "/media/alvis/Data/Term1/networksconv/caffe/imagenet_small/n03769881\n",
        "641"
       ]
      },
      {
       "output_type": "stream",
       "stream": "stdout",
       "text": [
        "\n",
        "/media/alvis/Data/Term1/networksconv/caffe/imagenet_small/n03770439\n",
        "642"
       ]
      },
      {
       "output_type": "stream",
       "stream": "stdout",
       "text": [
        "\n",
        "/media/alvis/Data/Term1/networksconv/caffe/imagenet_small/n03770679\n",
        "643"
       ]
      },
      {
       "output_type": "stream",
       "stream": "stdout",
       "text": [
        "\n",
        "/media/alvis/Data/Term1/networksconv/caffe/imagenet_small/n03773504\n",
        "644"
       ]
      },
      {
       "output_type": "stream",
       "stream": "stdout",
       "text": [
        "\n",
        "/media/alvis/Data/Term1/networksconv/caffe/imagenet_small/n03775071\n",
        "645"
       ]
      },
      {
       "output_type": "stream",
       "stream": "stdout",
       "text": [
        "\n",
        "/media/alvis/Data/Term1/networksconv/caffe/imagenet_small/n03776460\n",
        "646"
       ]
      },
      {
       "output_type": "stream",
       "stream": "stdout",
       "text": [
        "\n",
        "/media/alvis/Data/Term1/networksconv/caffe/imagenet_small/n03777568\n",
        "647"
       ]
      },
      {
       "output_type": "stream",
       "stream": "stdout",
       "text": [
        "\n",
        "/media/alvis/Data/Term1/networksconv/caffe/imagenet_small/n03777754\n",
        "648"
       ]
      },
      {
       "output_type": "stream",
       "stream": "stdout",
       "text": [
        "\n",
        "/media/alvis/Data/Term1/networksconv/caffe/imagenet_small/n03781244\n",
        "649"
       ]
      },
      {
       "output_type": "stream",
       "stream": "stdout",
       "text": [
        "\n",
        "/media/alvis/Data/Term1/networksconv/caffe/imagenet_small/n03782006\n",
        "650"
       ]
      },
      {
       "output_type": "stream",
       "stream": "stdout",
       "text": [
        "\n",
        "/media/alvis/Data/Term1/networksconv/caffe/imagenet_small/n03785016\n",
        "651"
       ]
      },
      {
       "output_type": "stream",
       "stream": "stdout",
       "text": [
        "\n",
        "/media/alvis/Data/Term1/networksconv/caffe/imagenet_small/n03786901\n",
        "652"
       ]
      },
      {
       "output_type": "stream",
       "stream": "stdout",
       "text": [
        "\n",
        "/media/alvis/Data/Term1/networksconv/caffe/imagenet_small/n03787032\n",
        "653"
       ]
      },
      {
       "output_type": "stream",
       "stream": "stdout",
       "text": [
        "\n",
        "/media/alvis/Data/Term1/networksconv/caffe/imagenet_small/n03788195\n",
        "654"
       ]
      },
      {
       "output_type": "stream",
       "stream": "stdout",
       "text": [
        "\n",
        "/media/alvis/Data/Term1/networksconv/caffe/imagenet_small/n03788365\n",
        "655"
       ]
      },
      {
       "output_type": "stream",
       "stream": "stdout",
       "text": [
        "\n",
        "/media/alvis/Data/Term1/networksconv/caffe/imagenet_small/n03791053\n",
        "656"
       ]
      },
      {
       "output_type": "stream",
       "stream": "stdout",
       "text": [
        "\n",
        "/media/alvis/Data/Term1/networksconv/caffe/imagenet_small/n03792782\n",
        "657"
       ]
      },
      {
       "output_type": "stream",
       "stream": "stdout",
       "text": [
        "\n",
        "/media/alvis/Data/Term1/networksconv/caffe/imagenet_small/n03792972\n",
        "658"
       ]
      },
      {
       "output_type": "stream",
       "stream": "stdout",
       "text": [
        "\n",
        "/media/alvis/Data/Term1/networksconv/caffe/imagenet_small/n03793489\n",
        "659"
       ]
      },
      {
       "output_type": "stream",
       "stream": "stdout",
       "text": [
        "\n",
        "/media/alvis/Data/Term1/networksconv/caffe/imagenet_small/n03794056\n",
        "660"
       ]
      },
      {
       "output_type": "stream",
       "stream": "stdout",
       "text": [
        "\n",
        "/media/alvis/Data/Term1/networksconv/caffe/imagenet_small/n03796401\n",
        "661"
       ]
      },
      {
       "output_type": "stream",
       "stream": "stdout",
       "text": [
        "\n",
        "/media/alvis/Data/Term1/networksconv/caffe/imagenet_small/n03803284\n",
        "662"
       ]
      },
      {
       "output_type": "stream",
       "stream": "stdout",
       "text": [
        "\n",
        "/media/alvis/Data/Term1/networksconv/caffe/imagenet_small/n03804744\n",
        "663"
       ]
      },
      {
       "output_type": "stream",
       "stream": "stdout",
       "text": [
        "\n",
        "/media/alvis/Data/Term1/networksconv/caffe/imagenet_small/n03814639\n",
        "664"
       ]
      },
      {
       "output_type": "stream",
       "stream": "stdout",
       "text": [
        "\n",
        "/media/alvis/Data/Term1/networksconv/caffe/imagenet_small/n03825788\n",
        "665"
       ]
      },
      {
       "output_type": "stream",
       "stream": "stdout",
       "text": [
        "\n",
        "/media/alvis/Data/Term1/networksconv/caffe/imagenet_small/n03832673\n",
        "666"
       ]
      },
      {
       "output_type": "stream",
       "stream": "stdout",
       "text": [
        "\n",
        "/media/alvis/Data/Term1/networksconv/caffe/imagenet_small/n03837869\n",
        "667"
       ]
      },
      {
       "output_type": "stream",
       "stream": "stdout",
       "text": [
        "\n",
        "/media/alvis/Data/Term1/networksconv/caffe/imagenet_small/n03838899\n",
        "668"
       ]
      },
      {
       "output_type": "stream",
       "stream": "stdout",
       "text": [
        "\n",
        "/media/alvis/Data/Term1/networksconv/caffe/imagenet_small/n03840681\n",
        "669"
       ]
      },
      {
       "output_type": "stream",
       "stream": "stdout",
       "text": [
        "\n",
        "/media/alvis/Data/Term1/networksconv/caffe/imagenet_small/n03841143\n",
        "670"
       ]
      },
      {
       "output_type": "stream",
       "stream": "stdout",
       "text": [
        "\n",
        "/media/alvis/Data/Term1/networksconv/caffe/imagenet_small/n03843555\n",
        "671"
       ]
      },
      {
       "output_type": "stream",
       "stream": "stdout",
       "text": [
        "\n",
        "/media/alvis/Data/Term1/networksconv/caffe/imagenet_small/n03854065\n",
        "672"
       ]
      },
      {
       "output_type": "stream",
       "stream": "stdout",
       "text": [
        "\n",
        "/media/alvis/Data/Term1/networksconv/caffe/imagenet_small/n03857828\n",
        "673"
       ]
      },
      {
       "output_type": "stream",
       "stream": "stdout",
       "text": [
        "\n",
        "/media/alvis/Data/Term1/networksconv/caffe/imagenet_small/n03866082\n",
        "674"
       ]
      },
      {
       "output_type": "stream",
       "stream": "stdout",
       "text": [
        "\n",
        "/media/alvis/Data/Term1/networksconv/caffe/imagenet_small/n03868242\n",
        "675"
       ]
      },
      {
       "output_type": "stream",
       "stream": "stdout",
       "text": [
        "\n",
        "/media/alvis/Data/Term1/networksconv/caffe/imagenet_small/n03868863\n",
        "676"
       ]
      },
      {
       "output_type": "stream",
       "stream": "stdout",
       "text": [
        "\n",
        "/media/alvis/Data/Term1/networksconv/caffe/imagenet_small/n03871628\n",
        "677"
       ]
      },
      {
       "output_type": "stream",
       "stream": "stdout",
       "text": [
        "\n",
        "/media/alvis/Data/Term1/networksconv/caffe/imagenet_small/n03873416\n",
        "678"
       ]
      },
      {
       "output_type": "stream",
       "stream": "stdout",
       "text": [
        "\n",
        "/media/alvis/Data/Term1/networksconv/caffe/imagenet_small/n03874293\n",
        "679"
       ]
      },
      {
       "output_type": "stream",
       "stream": "stdout",
       "text": [
        "\n",
        "/media/alvis/Data/Term1/networksconv/caffe/imagenet_small/n03874599\n",
        "680"
       ]
      },
      {
       "output_type": "stream",
       "stream": "stdout",
       "text": [
        "\n",
        "/media/alvis/Data/Term1/networksconv/caffe/imagenet_small/n03876231\n",
        "681"
       ]
      },
      {
       "output_type": "stream",
       "stream": "stdout",
       "text": [
        "\n",
        "/media/alvis/Data/Term1/networksconv/caffe/imagenet_small/n03877472\n",
        "682"
       ]
      },
      {
       "output_type": "stream",
       "stream": "stdout",
       "text": [
        "\n",
        "/media/alvis/Data/Term1/networksconv/caffe/imagenet_small/n03877845\n",
        "683"
       ]
      },
      {
       "output_type": "stream",
       "stream": "stdout",
       "text": [
        "\n",
        "/media/alvis/Data/Term1/networksconv/caffe/imagenet_small/n03887697\n",
        "684"
       ]
      },
      {
       "output_type": "stream",
       "stream": "stdout",
       "text": [
        "\n",
        "/media/alvis/Data/Term1/networksconv/caffe/imagenet_small/n03888257\n",
        "685"
       ]
      },
      {
       "output_type": "stream",
       "stream": "stdout",
       "text": [
        "\n",
        "/media/alvis/Data/Term1/networksconv/caffe/imagenet_small/n03888605\n",
        "686"
       ]
      },
      {
       "output_type": "stream",
       "stream": "stdout",
       "text": [
        "\n",
        "/media/alvis/Data/Term1/networksconv/caffe/imagenet_small/n03891251\n",
        "687"
       ]
      },
      {
       "output_type": "stream",
       "stream": "stdout",
       "text": [
        "\n",
        "/media/alvis/Data/Term1/networksconv/caffe/imagenet_small/n03891332\n",
        "688"
       ]
      },
      {
       "output_type": "stream",
       "stream": "stdout",
       "text": [
        "\n",
        "/media/alvis/Data/Term1/networksconv/caffe/imagenet_small/n03895866\n",
        "689"
       ]
      },
      {
       "output_type": "stream",
       "stream": "stdout",
       "text": [
        "\n",
        "/media/alvis/Data/Term1/networksconv/caffe/imagenet_small/n03899768\n",
        "690"
       ]
      },
      {
       "output_type": "stream",
       "stream": "stdout",
       "text": [
        "\n",
        "/media/alvis/Data/Term1/networksconv/caffe/imagenet_small/n03902125\n",
        "691"
       ]
      },
      {
       "output_type": "stream",
       "stream": "stdout",
       "text": [
        "\n",
        "/media/alvis/Data/Term1/networksconv/caffe/imagenet_small/n03903868\n",
        "692"
       ]
      },
      {
       "output_type": "stream",
       "stream": "stdout",
       "text": [
        "\n",
        "/media/alvis/Data/Term1/networksconv/caffe/imagenet_small/n03908618\n",
        "693"
       ]
      },
      {
       "output_type": "stream",
       "stream": "stdout",
       "text": [
        "\n",
        "/media/alvis/Data/Term1/networksconv/caffe/imagenet_small/n03908714\n",
        "694"
       ]
      },
      {
       "output_type": "stream",
       "stream": "stdout",
       "text": [
        "\n",
        "/media/alvis/Data/Term1/networksconv/caffe/imagenet_small/n03916031\n",
        "695"
       ]
      },
      {
       "output_type": "stream",
       "stream": "stdout",
       "text": [
        "\n",
        "/media/alvis/Data/Term1/networksconv/caffe/imagenet_small/n03920288\n",
        "696"
       ]
      },
      {
       "output_type": "stream",
       "stream": "stdout",
       "text": [
        "\n",
        "/media/alvis/Data/Term1/networksconv/caffe/imagenet_small/n03924679\n",
        "697"
       ]
      },
      {
       "output_type": "stream",
       "stream": "stdout",
       "text": [
        "\n",
        "/media/alvis/Data/Term1/networksconv/caffe/imagenet_small/n03929660\n",
        "698"
       ]
      },
      {
       "output_type": "stream",
       "stream": "stdout",
       "text": [
        "\n",
        "/media/alvis/Data/Term1/networksconv/caffe/imagenet_small/n03929855\n",
        "699"
       ]
      },
      {
       "output_type": "stream",
       "stream": "stdout",
       "text": [
        "\n",
        "/media/alvis/Data/Term1/networksconv/caffe/imagenet_small/n03930313\n",
        "700"
       ]
      },
      {
       "output_type": "stream",
       "stream": "stdout",
       "text": [
        "\n",
        "/media/alvis/Data/Term1/networksconv/caffe/imagenet_small/n03930630\n",
        "701"
       ]
      },
      {
       "output_type": "stream",
       "stream": "stdout",
       "text": [
        "\n",
        "/media/alvis/Data/Term1/networksconv/caffe/imagenet_small/n03933933\n",
        "702"
       ]
      },
      {
       "output_type": "stream",
       "stream": "stdout",
       "text": [
        "\n",
        "/media/alvis/Data/Term1/networksconv/caffe/imagenet_small/n03937543\n",
        "703"
       ]
      },
      {
       "output_type": "stream",
       "stream": "stdout",
       "text": [
        "\n",
        "/media/alvis/Data/Term1/networksconv/caffe/imagenet_small/n03938244\n",
        "704"
       ]
      },
      {
       "output_type": "stream",
       "stream": "stdout",
       "text": [
        "\n",
        "/media/alvis/Data/Term1/networksconv/caffe/imagenet_small/n03942813\n",
        "705"
       ]
      },
      {
       "output_type": "stream",
       "stream": "stdout",
       "text": [
        "\n",
        "/media/alvis/Data/Term1/networksconv/caffe/imagenet_small/n03944341\n",
        "706"
       ]
      },
      {
       "output_type": "stream",
       "stream": "stdout",
       "text": [
        "\n",
        "/media/alvis/Data/Term1/networksconv/caffe/imagenet_small/n03947888\n",
        "707"
       ]
      },
      {
       "output_type": "stream",
       "stream": "stdout",
       "text": [
        "\n",
        "/media/alvis/Data/Term1/networksconv/caffe/imagenet_small/n03950228\n",
        "708"
       ]
      },
      {
       "output_type": "stream",
       "stream": "stdout",
       "text": [
        "\n",
        "/media/alvis/Data/Term1/networksconv/caffe/imagenet_small/n03954731\n",
        "709"
       ]
      },
      {
       "output_type": "stream",
       "stream": "stdout",
       "text": [
        "\n",
        "/media/alvis/Data/Term1/networksconv/caffe/imagenet_small/n03956157\n",
        "710"
       ]
      },
      {
       "output_type": "stream",
       "stream": "stdout",
       "text": [
        "\n",
        "/media/alvis/Data/Term1/networksconv/caffe/imagenet_small/n03958227\n",
        "711"
       ]
      },
      {
       "output_type": "stream",
       "stream": "stdout",
       "text": [
        "\n",
        "/media/alvis/Data/Term1/networksconv/caffe/imagenet_small/n03961711\n",
        "712"
       ]
      },
      {
       "output_type": "stream",
       "stream": "stdout",
       "text": [
        "\n",
        "/media/alvis/Data/Term1/networksconv/caffe/imagenet_small/n03967562\n",
        "713"
       ]
      },
      {
       "output_type": "stream",
       "stream": "stdout",
       "text": [
        "\n",
        "/media/alvis/Data/Term1/networksconv/caffe/imagenet_small/n03970156\n",
        "714"
       ]
      },
      {
       "output_type": "stream",
       "stream": "stdout",
       "text": [
        "\n",
        "/media/alvis/Data/Term1/networksconv/caffe/imagenet_small/n03976467\n",
        "715"
       ]
      },
      {
       "output_type": "stream",
       "stream": "stdout",
       "text": [
        "\n",
        "/media/alvis/Data/Term1/networksconv/caffe/imagenet_small/n03976657\n",
        "716"
       ]
      },
      {
       "output_type": "stream",
       "stream": "stdout",
       "text": [
        "\n",
        "/media/alvis/Data/Term1/networksconv/caffe/imagenet_small/n03977966\n",
        "717"
       ]
      },
      {
       "output_type": "stream",
       "stream": "stdout",
       "text": [
        "\n",
        "/media/alvis/Data/Term1/networksconv/caffe/imagenet_small/n03980874\n",
        "718"
       ]
      },
      {
       "output_type": "stream",
       "stream": "stdout",
       "text": [
        "\n",
        "/media/alvis/Data/Term1/networksconv/caffe/imagenet_small/n03982430\n",
        "719"
       ]
      },
      {
       "output_type": "stream",
       "stream": "stdout",
       "text": [
        "\n",
        "/media/alvis/Data/Term1/networksconv/caffe/imagenet_small/n03983396\n",
        "720"
       ]
      },
      {
       "output_type": "stream",
       "stream": "stdout",
       "text": [
        "\n",
        "/media/alvis/Data/Term1/networksconv/caffe/imagenet_small/n03991062\n",
        "721"
       ]
      },
      {
       "output_type": "stream",
       "stream": "stdout",
       "text": [
        "\n",
        "/media/alvis/Data/Term1/networksconv/caffe/imagenet_small/n02492660\n",
        "722"
       ]
      },
      {
       "output_type": "stream",
       "stream": "stdout",
       "text": [
        "\n",
        "/media/alvis/Data/Term1/networksconv/caffe/imagenet_small/n02667093\n",
        "723"
       ]
      },
      {
       "output_type": "stream",
       "stream": "stdout",
       "text": [
        "\n",
        "/media/alvis/Data/Term1/networksconv/caffe/imagenet_small/n02786058\n",
        "724"
       ]
      },
      {
       "output_type": "stream",
       "stream": "stdout",
       "text": [
        "\n",
        "/media/alvis/Data/Term1/networksconv/caffe/imagenet_small/n02817516\n",
        "725"
       ]
      },
      {
       "output_type": "stream",
       "stream": "stdout",
       "text": [
        "\n",
        "/media/alvis/Data/Term1/networksconv/caffe/imagenet_small/n02892767\n",
        "726"
       ]
      },
      {
       "output_type": "stream",
       "stream": "stdout",
       "text": [
        "\n",
        "/media/alvis/Data/Term1/networksconv/caffe/imagenet_small/n02974003\n",
        "727"
       ]
      },
      {
       "output_type": "stream",
       "stream": "stdout",
       "text": [
        "\n",
        "/media/alvis/Data/Term1/networksconv/caffe/imagenet_small/n03041632\n",
        "728"
       ]
      },
      {
       "output_type": "stream",
       "stream": "stdout",
       "text": [
        "\n",
        "/media/alvis/Data/Term1/networksconv/caffe/imagenet_small/n03127925\n",
        "729"
       ]
      },
      {
       "output_type": "stream",
       "stream": "stdout",
       "text": [
        "\n",
        "/media/alvis/Data/Term1/networksconv/caffe/imagenet_small/n03223299\n",
        "730"
       ]
      },
      {
       "output_type": "stream",
       "stream": "stdout",
       "text": [
        "\n",
        "/media/alvis/Data/Term1/networksconv/caffe/imagenet_small/n03376595\n",
        "731"
       ]
      },
      {
       "output_type": "stream",
       "stream": "stdout",
       "text": [
        "\n",
        "/media/alvis/Data/Term1/networksconv/caffe/imagenet_small/n03452741\n",
        "732"
       ]
      },
      {
       "output_type": "stream",
       "stream": "stdout",
       "text": [
        "\n",
        "/media/alvis/Data/Term1/networksconv/caffe/imagenet_small/n03530642\n",
        "733"
       ]
      },
      {
       "output_type": "stream",
       "stream": "stdout",
       "text": [
        "\n",
        "/media/alvis/Data/Term1/networksconv/caffe/imagenet_small/n03637318\n",
        "734"
       ]
      },
      {
       "output_type": "stream",
       "stream": "stdout",
       "text": [
        "\n",
        "/media/alvis/Data/Term1/networksconv/caffe/imagenet_small/n03710721\n",
        "735"
       ]
      },
      {
       "output_type": "stream",
       "stream": "stdout",
       "text": [
        "\n",
        "/media/alvis/Data/Term1/networksconv/caffe/imagenet_small/n03775546\n",
        "736"
       ]
      },
      {
       "output_type": "stream",
       "stream": "stdout",
       "text": [
        "\n",
        "/media/alvis/Data/Term1/networksconv/caffe/imagenet_small/n03814906\n",
        "737"
       ]
      },
      {
       "output_type": "stream",
       "stream": "stdout",
       "text": [
        "\n",
        "/media/alvis/Data/Term1/networksconv/caffe/imagenet_small/n03884397\n",
        "738"
       ]
      },
      {
       "output_type": "stream",
       "stream": "stdout",
       "text": [
        "\n",
        "/media/alvis/Data/Term1/networksconv/caffe/imagenet_small/n03935335\n",
        "739"
       ]
      },
      {
       "output_type": "stream",
       "stream": "stdout",
       "text": [
        "\n",
        "/media/alvis/Data/Term1/networksconv/caffe/imagenet_small/n03992509\n",
        "740"
       ]
      },
      {
       "output_type": "stream",
       "stream": "stdout",
       "text": [
        "\n",
        "/media/alvis/Data/Term1/networksconv/caffe/imagenet_small/n04069434\n",
        "741"
       ]
      },
      {
       "output_type": "stream",
       "stream": "stdout",
       "text": [
        "\n",
        "/media/alvis/Data/Term1/networksconv/caffe/imagenet_small/n04146614\n",
        "742"
       ]
      },
      {
       "output_type": "stream",
       "stream": "stdout",
       "text": [
        "\n",
        "/media/alvis/Data/Term1/networksconv/caffe/imagenet_small/n04239074\n",
        "743"
       ]
      },
      {
       "output_type": "stream",
       "stream": "stdout",
       "text": [
        "\n",
        "/media/alvis/Data/Term1/networksconv/caffe/imagenet_small/n04296562\n",
        "744"
       ]
      },
      {
       "output_type": "stream",
       "stream": "stdout",
       "text": [
        "\n",
        "/media/alvis/Data/Term1/networksconv/caffe/imagenet_small/n04366367\n",
        "745"
       ]
      },
      {
       "output_type": "stream",
       "stream": "stdout",
       "text": [
        "\n",
        "/media/alvis/Data/Term1/networksconv/caffe/imagenet_small/n04443257\n",
        "746"
       ]
      },
      {
       "output_type": "stream",
       "stream": "stdout",
       "text": [
        "\n",
        "/media/alvis/Data/Term1/networksconv/caffe/imagenet_small/n04509417\n",
        "747"
       ]
      },
      {
       "output_type": "stream",
       "stream": "stdout",
       "text": [
        "\n",
        "/media/alvis/Data/Term1/networksconv/caffe/imagenet_small/n04562935\n",
        "748"
       ]
      },
      {
       "output_type": "stream",
       "stream": "stdout",
       "text": [
        "\n",
        "/media/alvis/Data/Term1/networksconv/caffe/imagenet_small/n06874185\n",
        "749"
       ]
      },
      {
       "output_type": "stream",
       "stream": "stdout",
       "text": [
        "\n",
        "/media/alvis/Data/Term1/networksconv/caffe/imagenet_small/n07716906\n",
        "750"
       ]
      },
      {
       "output_type": "stream",
       "stream": "stdout",
       "text": [
        "\n",
        "/media/alvis/Data/Term1/networksconv/caffe/imagenet_small/n07836838\n",
        "751"
       ]
      },
      {
       "output_type": "stream",
       "stream": "stdout",
       "text": [
        "\n",
        "/media/alvis/Data/Term1/networksconv/caffe/imagenet_small/n09472597\n",
        "752"
       ]
      },
      {
       "output_type": "stream",
       "stream": "stdout",
       "text": [
        "\n",
        "/media/alvis/Data/Term1/networksconv/caffe/imagenet_small/n03995372\n",
        "753"
       ]
      },
      {
       "output_type": "stream",
       "stream": "stdout",
       "text": [
        "\n",
        "/media/alvis/Data/Term1/networksconv/caffe/imagenet_small/n03998194\n",
        "754"
       ]
      },
      {
       "output_type": "stream",
       "stream": "stdout",
       "text": [
        "\n",
        "/media/alvis/Data/Term1/networksconv/caffe/imagenet_small/n04004767\n",
        "755"
       ]
      },
      {
       "output_type": "stream",
       "stream": "stdout",
       "text": [
        "\n",
        "/media/alvis/Data/Term1/networksconv/caffe/imagenet_small/n04005630\n",
        "756"
       ]
      },
      {
       "output_type": "stream",
       "stream": "stdout",
       "text": [
        "\n",
        "/media/alvis/Data/Term1/networksconv/caffe/imagenet_small/n04008634\n",
        "757"
       ]
      },
      {
       "output_type": "stream",
       "stream": "stdout",
       "text": [
        "\n",
        "/media/alvis/Data/Term1/networksconv/caffe/imagenet_small/n04009552\n",
        "758"
       ]
      },
      {
       "output_type": "stream",
       "stream": "stdout",
       "text": [
        "\n",
        "/media/alvis/Data/Term1/networksconv/caffe/imagenet_small/n04019541\n",
        "759"
       ]
      },
      {
       "output_type": "stream",
       "stream": "stdout",
       "text": [
        "\n",
        "/media/alvis/Data/Term1/networksconv/caffe/imagenet_small/n04023962\n",
        "760"
       ]
      },
      {
       "output_type": "stream",
       "stream": "stdout",
       "text": [
        "\n",
        "/media/alvis/Data/Term1/networksconv/caffe/imagenet_small/n04026417\n",
        "761"
       ]
      },
      {
       "output_type": "stream",
       "stream": "stdout",
       "text": [
        "\n",
        "/media/alvis/Data/Term1/networksconv/caffe/imagenet_small/n04033901\n",
        "762"
       ]
      },
      {
       "output_type": "stream",
       "stream": "stdout",
       "text": [
        "\n",
        "/media/alvis/Data/Term1/networksconv/caffe/imagenet_small/n04033995\n",
        "763"
       ]
      },
      {
       "output_type": "stream",
       "stream": "stdout",
       "text": [
        "\n",
        "/media/alvis/Data/Term1/networksconv/caffe/imagenet_small/n04037443\n",
        "764"
       ]
      },
      {
       "output_type": "stream",
       "stream": "stdout",
       "text": [
        "\n",
        "/media/alvis/Data/Term1/networksconv/caffe/imagenet_small/n04039381\n",
        "765"
       ]
      },
      {
       "output_type": "stream",
       "stream": "stdout",
       "text": [
        "\n",
        "/media/alvis/Data/Term1/networksconv/caffe/imagenet_small/n04040759\n",
        "766"
       ]
      },
      {
       "output_type": "stream",
       "stream": "stdout",
       "text": [
        "\n",
        "/media/alvis/Data/Term1/networksconv/caffe/imagenet_small/n04041544\n",
        "767"
       ]
      },
      {
       "output_type": "stream",
       "stream": "stdout",
       "text": [
        "\n",
        "/media/alvis/Data/Term1/networksconv/caffe/imagenet_small/n04044716\n",
        "768"
       ]
      },
      {
       "output_type": "stream",
       "stream": "stdout",
       "text": [
        "\n",
        "/media/alvis/Data/Term1/networksconv/caffe/imagenet_small/n04049303\n",
        "769"
       ]
      },
      {
       "output_type": "stream",
       "stream": "stdout",
       "text": [
        "\n",
        "/media/alvis/Data/Term1/networksconv/caffe/imagenet_small/n04065272\n",
        "770"
       ]
      },
      {
       "output_type": "stream",
       "stream": "stdout",
       "text": [
        "\n",
        "/media/alvis/Data/Term1/networksconv/caffe/imagenet_small/n04067472\n",
        "771"
       ]
      },
      {
       "output_type": "stream",
       "stream": "stdout",
       "text": [
        "\n",
        "/media/alvis/Data/Term1/networksconv/caffe/imagenet_small/n04070727\n",
        "772"
       ]
      },
      {
       "output_type": "stream",
       "stream": "stdout",
       "text": [
        "\n",
        "/media/alvis/Data/Term1/networksconv/caffe/imagenet_small/n04074963\n",
        "773"
       ]
      },
      {
       "output_type": "stream",
       "stream": "stdout",
       "text": [
        "\n",
        "/media/alvis/Data/Term1/networksconv/caffe/imagenet_small/n04081281\n",
        "774"
       ]
      },
      {
       "output_type": "stream",
       "stream": "stdout",
       "text": [
        "\n",
        "/media/alvis/Data/Term1/networksconv/caffe/imagenet_small/n04086273\n",
        "775"
       ]
      },
      {
       "output_type": "stream",
       "stream": "stdout",
       "text": [
        "\n",
        "/media/alvis/Data/Term1/networksconv/caffe/imagenet_small/n04090263\n",
        "776"
       ]
      },
      {
       "output_type": "stream",
       "stream": "stdout",
       "text": [
        "\n",
        "/media/alvis/Data/Term1/networksconv/caffe/imagenet_small/n04099969\n",
        "777"
       ]
      },
      {
       "output_type": "stream",
       "stream": "stdout",
       "text": [
        "\n",
        "/media/alvis/Data/Term1/networksconv/caffe/imagenet_small/n04111531\n",
        "778"
       ]
      },
      {
       "output_type": "stream",
       "stream": "stdout",
       "text": [
        "\n",
        "/media/alvis/Data/Term1/networksconv/caffe/imagenet_small/n04116512\n",
        "779"
       ]
      },
      {
       "output_type": "stream",
       "stream": "stdout",
       "text": [
        "\n",
        "/media/alvis/Data/Term1/networksconv/caffe/imagenet_small/n04118538\n",
        "780"
       ]
      },
      {
       "output_type": "stream",
       "stream": "stdout",
       "text": [
        "\n",
        "/media/alvis/Data/Term1/networksconv/caffe/imagenet_small/n04118776\n",
        "781"
       ]
      },
      {
       "output_type": "stream",
       "stream": "stdout",
       "text": [
        "\n",
        "/media/alvis/Data/Term1/networksconv/caffe/imagenet_small/n04120489\n",
        "782"
       ]
      },
      {
       "output_type": "stream",
       "stream": "stdout",
       "text": [
        "\n",
        "/media/alvis/Data/Term1/networksconv/caffe/imagenet_small/n04125021\n",
        "783"
       ]
      },
      {
       "output_type": "stream",
       "stream": "stdout",
       "text": [
        "\n",
        "/media/alvis/Data/Term1/networksconv/caffe/imagenet_small/n04127249\n",
        "784"
       ]
      },
      {
       "output_type": "stream",
       "stream": "stdout",
       "text": [
        "\n",
        "/media/alvis/Data/Term1/networksconv/caffe/imagenet_small/n04131690\n",
        "785"
       ]
      },
      {
       "output_type": "stream",
       "stream": "stdout",
       "text": [
        "\n",
        "/media/alvis/Data/Term1/networksconv/caffe/imagenet_small/n04133789\n",
        "786"
       ]
      },
      {
       "output_type": "stream",
       "stream": "stdout",
       "text": [
        "\n",
        "/media/alvis/Data/Term1/networksconv/caffe/imagenet_small/n04136333\n",
        "787"
       ]
      },
      {
       "output_type": "stream",
       "stream": "stdout",
       "text": [
        "\n",
        "/media/alvis/Data/Term1/networksconv/caffe/imagenet_small/n04141076\n",
        "788"
       ]
      },
      {
       "output_type": "stream",
       "stream": "stdout",
       "text": [
        "\n",
        "/media/alvis/Data/Term1/networksconv/caffe/imagenet_small/n04141327\n",
        "789"
       ]
      },
      {
       "output_type": "stream",
       "stream": "stdout",
       "text": [
        "\n",
        "/media/alvis/Data/Term1/networksconv/caffe/imagenet_small/n04141975\n",
        "790"
       ]
      },
      {
       "output_type": "stream",
       "stream": "stdout",
       "text": [
        "\n",
        "/media/alvis/Data/Term1/networksconv/caffe/imagenet_small/n04147183\n",
        "791"
       ]
      },
      {
       "output_type": "stream",
       "stream": "stdout",
       "text": [
        "\n",
        "/media/alvis/Data/Term1/networksconv/caffe/imagenet_small/n04149813\n",
        "792"
       ]
      },
      {
       "output_type": "stream",
       "stream": "stdout",
       "text": [
        "\n",
        "/media/alvis/Data/Term1/networksconv/caffe/imagenet_small/n04152593\n",
        "793"
       ]
      },
      {
       "output_type": "stream",
       "stream": "stdout",
       "text": [
        "\n",
        "/media/alvis/Data/Term1/networksconv/caffe/imagenet_small/n04153751\n",
        "794"
       ]
      },
      {
       "output_type": "stream",
       "stream": "stdout",
       "text": [
        "\n",
        "/media/alvis/Data/Term1/networksconv/caffe/imagenet_small/n04154565\n",
        "795"
       ]
      },
      {
       "output_type": "stream",
       "stream": "stdout",
       "text": [
        "\n",
        "/media/alvis/Data/Term1/networksconv/caffe/imagenet_small/n04162706\n",
        "796"
       ]
      },
      {
       "output_type": "stream",
       "stream": "stdout",
       "text": [
        "\n",
        "/media/alvis/Data/Term1/networksconv/caffe/imagenet_small/n04179913\n",
        "797"
       ]
      },
      {
       "output_type": "stream",
       "stream": "stdout",
       "text": [
        "\n",
        "/media/alvis/Data/Term1/networksconv/caffe/imagenet_small/n04192698\n",
        "798"
       ]
      },
      {
       "output_type": "stream",
       "stream": "stdout",
       "text": [
        "\n",
        "/media/alvis/Data/Term1/networksconv/caffe/imagenet_small/n04200800\n",
        "799"
       ]
      },
      {
       "output_type": "stream",
       "stream": "stdout",
       "text": [
        "\n",
        "/media/alvis/Data/Term1/networksconv/caffe/imagenet_small/n04201297\n",
        "800"
       ]
      },
      {
       "output_type": "stream",
       "stream": "stdout",
       "text": [
        "\n",
        "/media/alvis/Data/Term1/networksconv/caffe/imagenet_small/n04204238\n",
        "801"
       ]
      },
      {
       "output_type": "stream",
       "stream": "stdout",
       "text": [
        "\n",
        "/media/alvis/Data/Term1/networksconv/caffe/imagenet_small/n04204347\n",
        "802"
       ]
      },
      {
       "output_type": "stream",
       "stream": "stdout",
       "text": [
        "\n",
        "/media/alvis/Data/Term1/networksconv/caffe/imagenet_small/n04208210\n",
        "803"
       ]
      },
      {
       "output_type": "stream",
       "stream": "stdout",
       "text": [
        "\n",
        "/media/alvis/Data/Term1/networksconv/caffe/imagenet_small/n04209133\n",
        "804"
       ]
      },
      {
       "output_type": "stream",
       "stream": "stdout",
       "text": [
        "\n",
        "/media/alvis/Data/Term1/networksconv/caffe/imagenet_small/n04209239\n",
        "805"
       ]
      },
      {
       "output_type": "stream",
       "stream": "stdout",
       "text": [
        "\n",
        "/media/alvis/Data/Term1/networksconv/caffe/imagenet_small/n04228054\n",
        "806"
       ]
      },
      {
       "output_type": "stream",
       "stream": "stdout",
       "text": [
        "\n",
        "/media/alvis/Data/Term1/networksconv/caffe/imagenet_small/n04229816\n",
        "807"
       ]
      },
      {
       "output_type": "stream",
       "stream": "stdout",
       "text": [
        "\n",
        "/media/alvis/Data/Term1/networksconv/caffe/imagenet_small/n04235860\n",
        "808"
       ]
      },
      {
       "output_type": "stream",
       "stream": "stdout",
       "text": [
        "\n",
        "/media/alvis/Data/Term1/networksconv/caffe/imagenet_small/n04238763\n",
        "809"
       ]
      },
      {
       "output_type": "stream",
       "stream": "stdout",
       "text": [
        "\n",
        "/media/alvis/Data/Term1/networksconv/caffe/imagenet_small/n04243546\n",
        "810"
       ]
      },
      {
       "output_type": "stream",
       "stream": "stdout",
       "text": [
        "\n",
        "/media/alvis/Data/Term1/networksconv/caffe/imagenet_small/n04251144\n",
        "811"
       ]
      },
      {
       "output_type": "stream",
       "stream": "stdout",
       "text": [
        "\n",
        "/media/alvis/Data/Term1/networksconv/caffe/imagenet_small/n04252077\n",
        "812"
       ]
      },
      {
       "output_type": "stream",
       "stream": "stdout",
       "text": [
        "\n",
        "/media/alvis/Data/Term1/networksconv/caffe/imagenet_small/n04252225\n",
        "813"
       ]
      },
      {
       "output_type": "stream",
       "stream": "stdout",
       "text": [
        "\n",
        "/media/alvis/Data/Term1/networksconv/caffe/imagenet_small/n04254120\n",
        "814"
       ]
      },
      {
       "output_type": "stream",
       "stream": "stdout",
       "text": [
        "\n",
        "/media/alvis/Data/Term1/networksconv/caffe/imagenet_small/n04254680\n",
        "815"
       ]
      },
      {
       "output_type": "stream",
       "stream": "stdout",
       "text": [
        "\n",
        "/media/alvis/Data/Term1/networksconv/caffe/imagenet_small/n04254777\n",
        "816"
       ]
      },
      {
       "output_type": "stream",
       "stream": "stdout",
       "text": [
        "\n",
        "/media/alvis/Data/Term1/networksconv/caffe/imagenet_small/n04258138\n",
        "817"
       ]
      },
      {
       "output_type": "stream",
       "stream": "stdout",
       "text": [
        "\n",
        "/media/alvis/Data/Term1/networksconv/caffe/imagenet_small/n04259630\n",
        "818"
       ]
      },
      {
       "output_type": "stream",
       "stream": "stdout",
       "text": [
        "\n",
        "/media/alvis/Data/Term1/networksconv/caffe/imagenet_small/n04263257\n",
        "819"
       ]
      },
      {
       "output_type": "stream",
       "stream": "stdout",
       "text": [
        "\n",
        "/media/alvis/Data/Term1/networksconv/caffe/imagenet_small/n04264628\n",
        "820"
       ]
      },
      {
       "output_type": "stream",
       "stream": "stdout",
       "text": [
        "\n",
        "/media/alvis/Data/Term1/networksconv/caffe/imagenet_small/n04265275\n",
        "821"
       ]
      },
      {
       "output_type": "stream",
       "stream": "stdout",
       "text": [
        "\n",
        "/media/alvis/Data/Term1/networksconv/caffe/imagenet_small/n04266014\n",
        "822"
       ]
      },
      {
       "output_type": "stream",
       "stream": "stdout",
       "text": [
        "\n",
        "/media/alvis/Data/Term1/networksconv/caffe/imagenet_small/n04270147\n",
        "823"
       ]
      },
      {
       "output_type": "stream",
       "stream": "stdout",
       "text": [
        "\n",
        "/media/alvis/Data/Term1/networksconv/caffe/imagenet_small/n04273569\n",
        "824"
       ]
      },
      {
       "output_type": "stream",
       "stream": "stdout",
       "text": [
        "\n",
        "/media/alvis/Data/Term1/networksconv/caffe/imagenet_small/n04275548\n",
        "825"
       ]
      },
      {
       "output_type": "stream",
       "stream": "stdout",
       "text": [
        "\n",
        "/media/alvis/Data/Term1/networksconv/caffe/imagenet_small/n04277352\n",
        "826"
       ]
      },
      {
       "output_type": "stream",
       "stream": "stdout",
       "text": [
        "\n",
        "/media/alvis/Data/Term1/networksconv/caffe/imagenet_small/n04285008\n",
        "827"
       ]
      },
      {
       "output_type": "stream",
       "stream": "stdout",
       "text": [
        "\n",
        "/media/alvis/Data/Term1/networksconv/caffe/imagenet_small/n04286575\n",
        "828"
       ]
      },
      {
       "output_type": "stream",
       "stream": "stdout",
       "text": [
        "\n",
        "/media/alvis/Data/Term1/networksconv/caffe/imagenet_small/n04310018\n",
        "829"
       ]
      },
      {
       "output_type": "stream",
       "stream": "stdout",
       "text": [
        "\n",
        "/media/alvis/Data/Term1/networksconv/caffe/imagenet_small/n04311004\n",
        "830"
       ]
      },
      {
       "output_type": "stream",
       "stream": "stdout",
       "text": [
        "\n",
        "/media/alvis/Data/Term1/networksconv/caffe/imagenet_small/n04311174\n",
        "831"
       ]
      },
      {
       "output_type": "stream",
       "stream": "stdout",
       "text": [
        "\n",
        "/media/alvis/Data/Term1/networksconv/caffe/imagenet_small/n04317175\n",
        "832"
       ]
      },
      {
       "output_type": "stream",
       "stream": "stdout",
       "text": [
        "\n",
        "/media/alvis/Data/Term1/networksconv/caffe/imagenet_small/n04325704\n",
        "833"
       ]
      },
      {
       "output_type": "stream",
       "stream": "stdout",
       "text": [
        "\n",
        "/media/alvis/Data/Term1/networksconv/caffe/imagenet_small/n04326547\n",
        "834"
       ]
      },
      {
       "output_type": "stream",
       "stream": "stdout",
       "text": [
        "\n",
        "/media/alvis/Data/Term1/networksconv/caffe/imagenet_small/n04328186\n",
        "835"
       ]
      },
      {
       "output_type": "stream",
       "stream": "stdout",
       "text": [
        "\n",
        "/media/alvis/Data/Term1/networksconv/caffe/imagenet_small/n04330267\n",
        "836"
       ]
      },
      {
       "output_type": "stream",
       "stream": "stdout",
       "text": [
        "\n",
        "/media/alvis/Data/Term1/networksconv/caffe/imagenet_small/n04332243\n",
        "837"
       ]
      },
      {
       "output_type": "stream",
       "stream": "stdout",
       "text": [
        "\n",
        "/media/alvis/Data/Term1/networksconv/caffe/imagenet_small/n04335435\n",
        "838"
       ]
      },
      {
       "output_type": "stream",
       "stream": "stdout",
       "text": [
        "\n",
        "/media/alvis/Data/Term1/networksconv/caffe/imagenet_small/n04336792\n",
        "839"
       ]
      },
      {
       "output_type": "stream",
       "stream": "stdout",
       "text": [
        "\n",
        "/media/alvis/Data/Term1/networksconv/caffe/imagenet_small/n04344873\n",
        "840"
       ]
      },
      {
       "output_type": "stream",
       "stream": "stdout",
       "text": [
        "\n",
        "/media/alvis/Data/Term1/networksconv/caffe/imagenet_small/n04346328\n",
        "841"
       ]
      },
      {
       "output_type": "stream",
       "stream": "stdout",
       "text": [
        "\n",
        "/media/alvis/Data/Term1/networksconv/caffe/imagenet_small/n04347754\n",
        "842"
       ]
      },
      {
       "output_type": "stream",
       "stream": "stdout",
       "text": [
        "\n",
        "/media/alvis/Data/Term1/networksconv/caffe/imagenet_small/n04350905\n",
        "843"
       ]
      },
      {
       "output_type": "stream",
       "stream": "stdout",
       "text": [
        "\n",
        "/media/alvis/Data/Term1/networksconv/caffe/imagenet_small/n04355338\n",
        "844"
       ]
      },
      {
       "output_type": "stream",
       "stream": "stdout",
       "text": [
        "\n",
        "/media/alvis/Data/Term1/networksconv/caffe/imagenet_small/n04355933\n",
        "845"
       ]
      },
      {
       "output_type": "stream",
       "stream": "stdout",
       "text": [
        "\n",
        "/media/alvis/Data/Term1/networksconv/caffe/imagenet_small/n04356056\n",
        "846"
       ]
      },
      {
       "output_type": "stream",
       "stream": "stdout",
       "text": [
        "\n",
        "/media/alvis/Data/Term1/networksconv/caffe/imagenet_small/n04357314\n",
        "847"
       ]
      },
      {
       "output_type": "stream",
       "stream": "stdout",
       "text": [
        "\n",
        "/media/alvis/Data/Term1/networksconv/caffe/imagenet_small/n04367480\n",
        "848"
       ]
      },
      {
       "output_type": "stream",
       "stream": "stdout",
       "text": [
        "\n",
        "/media/alvis/Data/Term1/networksconv/caffe/imagenet_small/n04370456\n",
        "849"
       ]
      },
      {
       "output_type": "stream",
       "stream": "stdout",
       "text": [
        "\n",
        "/media/alvis/Data/Term1/networksconv/caffe/imagenet_small/n04371430\n",
        "850"
       ]
      },
      {
       "output_type": "stream",
       "stream": "stdout",
       "text": [
        "\n",
        "/media/alvis/Data/Term1/networksconv/caffe/imagenet_small/n04371774\n",
        "851"
       ]
      },
      {
       "output_type": "stream",
       "stream": "stdout",
       "text": [
        "\n",
        "/media/alvis/Data/Term1/networksconv/caffe/imagenet_small/n04372370\n",
        "852"
       ]
      },
      {
       "output_type": "stream",
       "stream": "stdout",
       "text": [
        "\n",
        "/media/alvis/Data/Term1/networksconv/caffe/imagenet_small/n04376876\n",
        "853"
       ]
      },
      {
       "output_type": "stream",
       "stream": "stdout",
       "text": [
        "\n",
        "/media/alvis/Data/Term1/networksconv/caffe/imagenet_small/n04380533\n",
        "854"
       ]
      },
      {
       "output_type": "stream",
       "stream": "stdout",
       "text": [
        "\n",
        "/media/alvis/Data/Term1/networksconv/caffe/imagenet_small/n04389033\n",
        "855"
       ]
      },
      {
       "output_type": "stream",
       "stream": "stdout",
       "text": [
        "\n",
        "/media/alvis/Data/Term1/networksconv/caffe/imagenet_small/n04392985\n",
        "856"
       ]
      },
      {
       "output_type": "stream",
       "stream": "stdout",
       "text": [
        "\n",
        "/media/alvis/Data/Term1/networksconv/caffe/imagenet_small/n04398044\n",
        "857"
       ]
      },
      {
       "output_type": "stream",
       "stream": "stdout",
       "text": [
        "\n",
        "/media/alvis/Data/Term1/networksconv/caffe/imagenet_small/n04404412\n",
        "858"
       ]
      },
      {
       "output_type": "stream",
       "stream": "stdout",
       "text": [
        "\n",
        "/media/alvis/Data/Term1/networksconv/caffe/imagenet_small/n04409515\n",
        "859"
       ]
      },
      {
       "output_type": "stream",
       "stream": "stdout",
       "text": [
        "\n",
        "/media/alvis/Data/Term1/networksconv/caffe/imagenet_small/n04417672\n",
        "860"
       ]
      },
      {
       "output_type": "stream",
       "stream": "stdout",
       "text": [
        "\n",
        "/media/alvis/Data/Term1/networksconv/caffe/imagenet_small/n04418357\n",
        "861"
       ]
      },
      {
       "output_type": "stream",
       "stream": "stdout",
       "text": [
        "\n",
        "/media/alvis/Data/Term1/networksconv/caffe/imagenet_small/n04423845\n",
        "862"
       ]
      },
      {
       "output_type": "stream",
       "stream": "stdout",
       "text": [
        "\n",
        "/media/alvis/Data/Term1/networksconv/caffe/imagenet_small/n04428191\n",
        "863"
       ]
      },
      {
       "output_type": "stream",
       "stream": "stdout",
       "text": [
        "\n",
        "/media/alvis/Data/Term1/networksconv/caffe/imagenet_small/n04429376\n",
        "864"
       ]
      },
      {
       "output_type": "stream",
       "stream": "stdout",
       "text": [
        "\n",
        "/media/alvis/Data/Term1/networksconv/caffe/imagenet_small/n04435653\n",
        "865"
       ]
      },
      {
       "output_type": "stream",
       "stream": "stdout",
       "text": [
        "\n",
        "/media/alvis/Data/Term1/networksconv/caffe/imagenet_small/n04442312\n",
        "866"
       ]
      },
      {
       "output_type": "stream",
       "stream": "stdout",
       "text": [
        "\n",
        "/media/alvis/Data/Term1/networksconv/caffe/imagenet_small/n04447861\n",
        "867"
       ]
      },
      {
       "output_type": "stream",
       "stream": "stdout",
       "text": [
        "\n",
        "/media/alvis/Data/Term1/networksconv/caffe/imagenet_small/n04456115\n",
        "868"
       ]
      },
      {
       "output_type": "stream",
       "stream": "stdout",
       "text": [
        "\n",
        "/media/alvis/Data/Term1/networksconv/caffe/imagenet_small/n04458633\n",
        "869"
       ]
      },
      {
       "output_type": "stream",
       "stream": "stdout",
       "text": [
        "\n",
        "/media/alvis/Data/Term1/networksconv/caffe/imagenet_small/n04461696\n",
        "870"
       ]
      },
      {
       "output_type": "stream",
       "stream": "stdout",
       "text": [
        "\n",
        "/media/alvis/Data/Term1/networksconv/caffe/imagenet_small/n04462240\n",
        "871"
       ]
      },
      {
       "output_type": "stream",
       "stream": "stdout",
       "text": [
        "\n",
        "/media/alvis/Data/Term1/networksconv/caffe/imagenet_small/n04465501\n",
        "872"
       ]
      },
      {
       "output_type": "stream",
       "stream": "stdout",
       "text": [
        "\n",
        "/media/alvis/Data/Term1/networksconv/caffe/imagenet_small/n04467665\n",
        "873"
       ]
      },
      {
       "output_type": "stream",
       "stream": "stdout",
       "text": [
        "\n",
        "/media/alvis/Data/Term1/networksconv/caffe/imagenet_small/n04476259\n",
        "874"
       ]
      },
      {
       "output_type": "stream",
       "stream": "stdout",
       "text": [
        "\n",
        "/media/alvis/Data/Term1/networksconv/caffe/imagenet_small/n04479046\n",
        "875"
       ]
      },
      {
       "output_type": "stream",
       "stream": "stdout",
       "text": [
        "\n",
        "/media/alvis/Data/Term1/networksconv/caffe/imagenet_small/n04482393\n",
        "876"
       ]
      },
      {
       "output_type": "stream",
       "stream": "stdout",
       "text": [
        "\n",
        "/media/alvis/Data/Term1/networksconv/caffe/imagenet_small/n04483307\n",
        "877"
       ]
      },
      {
       "output_type": "stream",
       "stream": "stdout",
       "text": [
        "\n",
        "/media/alvis/Data/Term1/networksconv/caffe/imagenet_small/n04485082\n",
        "878"
       ]
      },
      {
       "output_type": "stream",
       "stream": "stdout",
       "text": [
        "\n",
        "/media/alvis/Data/Term1/networksconv/caffe/imagenet_small/n04486054\n",
        "879"
       ]
      },
      {
       "output_type": "stream",
       "stream": "stdout",
       "text": [
        "\n",
        "/media/alvis/Data/Term1/networksconv/caffe/imagenet_small/n04487081\n",
        "880"
       ]
      },
      {
       "output_type": "stream",
       "stream": "stdout",
       "text": [
        "\n",
        "/media/alvis/Data/Term1/networksconv/caffe/imagenet_small/n04487394\n",
        "881"
       ]
      },
      {
       "output_type": "stream",
       "stream": "stdout",
       "text": [
        "\n",
        "/media/alvis/Data/Term1/networksconv/caffe/imagenet_small/n04493381\n",
        "882"
       ]
      },
      {
       "output_type": "stream",
       "stream": "stdout",
       "text": [
        "\n",
        "/media/alvis/Data/Term1/networksconv/caffe/imagenet_small/n04501370\n",
        "883"
       ]
      },
      {
       "output_type": "stream",
       "stream": "stdout",
       "text": [
        "\n",
        "/media/alvis/Data/Term1/networksconv/caffe/imagenet_small/n04505470\n",
        "884"
       ]
      },
      {
       "output_type": "stream",
       "stream": "stdout",
       "text": [
        "\n",
        "/media/alvis/Data/Term1/networksconv/caffe/imagenet_small/n04507155\n",
        "885"
       ]
      },
      {
       "output_type": "stream",
       "stream": "stdout",
       "text": [
        "\n",
        "/media/alvis/Data/Term1/networksconv/caffe/imagenet_small/n04515003\n",
        "886"
       ]
      },
      {
       "output_type": "stream",
       "stream": "stdout",
       "text": [
        "\n",
        "/media/alvis/Data/Term1/networksconv/caffe/imagenet_small/n04517823\n",
        "887"
       ]
      },
      {
       "output_type": "stream",
       "stream": "stdout",
       "text": [
        "\n",
        "/media/alvis/Data/Term1/networksconv/caffe/imagenet_small/n04522168\n",
        "888"
       ]
      },
      {
       "output_type": "stream",
       "stream": "stdout",
       "text": [
        "\n",
        "/media/alvis/Data/Term1/networksconv/caffe/imagenet_small/n04523525\n",
        "889"
       ]
      },
      {
       "output_type": "stream",
       "stream": "stdout",
       "text": [
        "\n",
        "/media/alvis/Data/Term1/networksconv/caffe/imagenet_small/n04525038\n",
        "890"
       ]
      },
      {
       "output_type": "stream",
       "stream": "stdout",
       "text": [
        "\n",
        "/media/alvis/Data/Term1/networksconv/caffe/imagenet_small/n04525305\n",
        "891"
       ]
      },
      {
       "output_type": "stream",
       "stream": "stdout",
       "text": [
        "\n",
        "/media/alvis/Data/Term1/networksconv/caffe/imagenet_small/n04532106\n",
        "892"
       ]
      },
      {
       "output_type": "stream",
       "stream": "stdout",
       "text": [
        "\n",
        "/media/alvis/Data/Term1/networksconv/caffe/imagenet_small/n04532670\n",
        "893"
       ]
      },
      {
       "output_type": "stream",
       "stream": "stdout",
       "text": [
        "\n",
        "/media/alvis/Data/Term1/networksconv/caffe/imagenet_small/n04536866\n",
        "894"
       ]
      },
      {
       "output_type": "stream",
       "stream": "stdout",
       "text": [
        "\n",
        "/media/alvis/Data/Term1/networksconv/caffe/imagenet_small/n04540053\n",
        "895"
       ]
      },
      {
       "output_type": "stream",
       "stream": "stdout",
       "text": [
        "\n",
        "/media/alvis/Data/Term1/networksconv/caffe/imagenet_small/n04542943\n",
        "896"
       ]
      },
      {
       "output_type": "stream",
       "stream": "stdout",
       "text": [
        "\n",
        "/media/alvis/Data/Term1/networksconv/caffe/imagenet_small/n04548280\n",
        "897"
       ]
      },
      {
       "output_type": "stream",
       "stream": "stdout",
       "text": [
        "\n",
        "/media/alvis/Data/Term1/networksconv/caffe/imagenet_small/n04548362\n",
        "898"
       ]
      },
      {
       "output_type": "stream",
       "stream": "stdout",
       "text": [
        "\n",
        "/media/alvis/Data/Term1/networksconv/caffe/imagenet_small/n04550184\n",
        "899"
       ]
      },
      {
       "output_type": "stream",
       "stream": "stdout",
       "text": [
        "\n",
        "/media/alvis/Data/Term1/networksconv/caffe/imagenet_small/n04552348\n",
        "900"
       ]
      },
      {
       "output_type": "stream",
       "stream": "stdout",
       "text": [
        "\n",
        "/media/alvis/Data/Term1/networksconv/caffe/imagenet_small/n04553703\n",
        "901"
       ]
      },
      {
       "output_type": "stream",
       "stream": "stdout",
       "text": [
        "\n",
        "/media/alvis/Data/Term1/networksconv/caffe/imagenet_small/n04554684\n",
        "902"
       ]
      },
      {
       "output_type": "stream",
       "stream": "stdout",
       "text": [
        "\n",
        "/media/alvis/Data/Term1/networksconv/caffe/imagenet_small/n04557648\n",
        "903"
       ]
      },
      {
       "output_type": "stream",
       "stream": "stdout",
       "text": [
        "\n",
        "/media/alvis/Data/Term1/networksconv/caffe/imagenet_small/n04560804\n",
        "904"
       ]
      },
      {
       "output_type": "stream",
       "stream": "stdout",
       "text": [
        "\n",
        "/media/alvis/Data/Term1/networksconv/caffe/imagenet_small/n04579145\n",
        "905"
       ]
      },
      {
       "output_type": "stream",
       "stream": "stdout",
       "text": [
        "\n",
        "/media/alvis/Data/Term1/networksconv/caffe/imagenet_small/n04579432\n",
        "906"
       ]
      },
      {
       "output_type": "stream",
       "stream": "stdout",
       "text": [
        "\n",
        "/media/alvis/Data/Term1/networksconv/caffe/imagenet_small/n04584207\n",
        "907"
       ]
      },
      {
       "output_type": "stream",
       "stream": "stdout",
       "text": [
        "\n",
        "/media/alvis/Data/Term1/networksconv/caffe/imagenet_small/n04589890\n",
        "908"
       ]
      },
      {
       "output_type": "stream",
       "stream": "stdout",
       "text": [
        "\n",
        "/media/alvis/Data/Term1/networksconv/caffe/imagenet_small/n04590129\n",
        "909"
       ]
      },
      {
       "output_type": "stream",
       "stream": "stdout",
       "text": [
        "\n",
        "/media/alvis/Data/Term1/networksconv/caffe/imagenet_small/n04591157\n",
        "910"
       ]
      },
      {
       "output_type": "stream",
       "stream": "stdout",
       "text": [
        "\n",
        "/media/alvis/Data/Term1/networksconv/caffe/imagenet_small/n04591713\n",
        "911"
       ]
      },
      {
       "output_type": "stream",
       "stream": "stdout",
       "text": [
        "\n",
        "/media/alvis/Data/Term1/networksconv/caffe/imagenet_small/n04592741\n",
        "912"
       ]
      },
      {
       "output_type": "stream",
       "stream": "stdout",
       "text": [
        "\n",
        "/media/alvis/Data/Term1/networksconv/caffe/imagenet_small/n04596742\n",
        "913"
       ]
      },
      {
       "output_type": "stream",
       "stream": "stdout",
       "text": [
        "\n",
        "/media/alvis/Data/Term1/networksconv/caffe/imagenet_small/n04597913\n",
        "914"
       ]
      },
      {
       "output_type": "stream",
       "stream": "stdout",
       "text": [
        "\n",
        "/media/alvis/Data/Term1/networksconv/caffe/imagenet_small/n04599235\n",
        "915"
       ]
      },
      {
       "output_type": "stream",
       "stream": "stdout",
       "text": [
        "\n",
        "/media/alvis/Data/Term1/networksconv/caffe/imagenet_small/n04604644\n",
        "916"
       ]
      },
      {
       "output_type": "stream",
       "stream": "stdout",
       "text": [
        "\n",
        "/media/alvis/Data/Term1/networksconv/caffe/imagenet_small/n04606251\n",
        "917"
       ]
      },
      {
       "output_type": "stream",
       "stream": "stdout",
       "text": [
        "\n",
        "/media/alvis/Data/Term1/networksconv/caffe/imagenet_small/n04612504\n",
        "918"
       ]
      },
      {
       "output_type": "stream",
       "stream": "stdout",
       "text": [
        "\n",
        "/media/alvis/Data/Term1/networksconv/caffe/imagenet_small/n04613696\n",
        "919"
       ]
      },
      {
       "output_type": "stream",
       "stream": "stdout",
       "text": [
        "\n",
        "/media/alvis/Data/Term1/networksconv/caffe/imagenet_small/n06359193\n",
        "920"
       ]
      },
      {
       "output_type": "stream",
       "stream": "stdout",
       "text": [
        "\n",
        "/media/alvis/Data/Term1/networksconv/caffe/imagenet_small/n06596364\n",
        "921"
       ]
      },
      {
       "output_type": "stream",
       "stream": "stdout",
       "text": [
        "\n",
        "/media/alvis/Data/Term1/networksconv/caffe/imagenet_small/n06785654\n",
        "922"
       ]
      },
      {
       "output_type": "stream",
       "stream": "stdout",
       "text": [
        "\n",
        "/media/alvis/Data/Term1/networksconv/caffe/imagenet_small/n06794110\n",
        "923"
       ]
      },
      {
       "output_type": "stream",
       "stream": "stdout",
       "text": [
        "\n",
        "/media/alvis/Data/Term1/networksconv/caffe/imagenet_small/n07248320\n",
        "924"
       ]
      },
      {
       "output_type": "stream",
       "stream": "stdout",
       "text": [
        "\n",
        "/media/alvis/Data/Term1/networksconv/caffe/imagenet_small/n07565083\n",
        "925"
       ]
      },
      {
       "output_type": "stream",
       "stream": "stdout",
       "text": [
        "\n",
        "/media/alvis/Data/Term1/networksconv/caffe/imagenet_small/n07579787\n",
        "926"
       ]
      },
      {
       "output_type": "stream",
       "stream": "stdout",
       "text": [
        "\n",
        "/media/alvis/Data/Term1/networksconv/caffe/imagenet_small/n07583066\n",
        "927"
       ]
      },
      {
       "output_type": "stream",
       "stream": "stdout",
       "text": [
        "\n",
        "/media/alvis/Data/Term1/networksconv/caffe/imagenet_small/n07584110\n",
        "928"
       ]
      },
      {
       "output_type": "stream",
       "stream": "stdout",
       "text": [
        "\n",
        "/media/alvis/Data/Term1/networksconv/caffe/imagenet_small/n07590611\n",
        "929"
       ]
      },
      {
       "output_type": "stream",
       "stream": "stdout",
       "text": [
        "\n",
        "/media/alvis/Data/Term1/networksconv/caffe/imagenet_small/n07613480\n",
        "930"
       ]
      },
      {
       "output_type": "stream",
       "stream": "stdout",
       "text": [
        "\n",
        "/media/alvis/Data/Term1/networksconv/caffe/imagenet_small/n07614500\n",
        "931"
       ]
      },
      {
       "output_type": "stream",
       "stream": "stdout",
       "text": [
        "\n",
        "/media/alvis/Data/Term1/networksconv/caffe/imagenet_small/n07615774\n",
        "932"
       ]
      },
      {
       "output_type": "stream",
       "stream": "stdout",
       "text": [
        "\n",
        "/media/alvis/Data/Term1/networksconv/caffe/imagenet_small/n07684084\n",
        "933"
       ]
      },
      {
       "output_type": "stream",
       "stream": "stdout",
       "text": [
        "\n",
        "/media/alvis/Data/Term1/networksconv/caffe/imagenet_small/n07693725\n",
        "934"
       ]
      },
      {
       "output_type": "stream",
       "stream": "stdout",
       "text": [
        "\n",
        "/media/alvis/Data/Term1/networksconv/caffe/imagenet_small/n07695742\n",
        "935"
       ]
      },
      {
       "output_type": "stream",
       "stream": "stdout",
       "text": [
        "\n",
        "/media/alvis/Data/Term1/networksconv/caffe/imagenet_small/n07697313\n",
        "936"
       ]
      },
      {
       "output_type": "stream",
       "stream": "stdout",
       "text": [
        "\n",
        "/media/alvis/Data/Term1/networksconv/caffe/imagenet_small/n07697537\n",
        "937"
       ]
      },
      {
       "output_type": "stream",
       "stream": "stdout",
       "text": [
        "\n",
        "/media/alvis/Data/Term1/networksconv/caffe/imagenet_small/n07711569\n",
        "938"
       ]
      },
      {
       "output_type": "stream",
       "stream": "stdout",
       "text": [
        "\n",
        "/media/alvis/Data/Term1/networksconv/caffe/imagenet_small/n07714571\n",
        "939"
       ]
      },
      {
       "output_type": "stream",
       "stream": "stdout",
       "text": [
        "\n",
        "/media/alvis/Data/Term1/networksconv/caffe/imagenet_small/n07714990\n",
        "940"
       ]
      },
      {
       "output_type": "stream",
       "stream": "stdout",
       "text": [
        "\n",
        "/media/alvis/Data/Term1/networksconv/caffe/imagenet_small/n07715103\n",
        "941"
       ]
      },
      {
       "output_type": "stream",
       "stream": "stdout",
       "text": [
        "\n",
        "/media/alvis/Data/Term1/networksconv/caffe/imagenet_small/n07716358\n",
        "942"
       ]
      },
      {
       "output_type": "stream",
       "stream": "stdout",
       "text": [
        "\n",
        "/media/alvis/Data/Term1/networksconv/caffe/imagenet_small/n07717410\n",
        "943"
       ]
      },
      {
       "output_type": "stream",
       "stream": "stdout",
       "text": [
        "\n",
        "/media/alvis/Data/Term1/networksconv/caffe/imagenet_small/n07717556\n",
        "944"
       ]
      },
      {
       "output_type": "stream",
       "stream": "stdout",
       "text": [
        "\n",
        "/media/alvis/Data/Term1/networksconv/caffe/imagenet_small/n07718472\n",
        "945"
       ]
      },
      {
       "output_type": "stream",
       "stream": "stdout",
       "text": [
        "\n",
        "/media/alvis/Data/Term1/networksconv/caffe/imagenet_small/n07718747\n",
        "946"
       ]
      },
      {
       "output_type": "stream",
       "stream": "stdout",
       "text": [
        "\n",
        "/media/alvis/Data/Term1/networksconv/caffe/imagenet_small/n07720875\n",
        "947"
       ]
      },
      {
       "output_type": "stream",
       "stream": "stdout",
       "text": [
        "\n",
        "/media/alvis/Data/Term1/networksconv/caffe/imagenet_small/n07730033\n",
        "948"
       ]
      },
      {
       "output_type": "stream",
       "stream": "stdout",
       "text": [
        "\n",
        "/media/alvis/Data/Term1/networksconv/caffe/imagenet_small/n07734744\n",
        "949"
       ]
      },
      {
       "output_type": "stream",
       "stream": "stdout",
       "text": [
        "\n",
        "/media/alvis/Data/Term1/networksconv/caffe/imagenet_small/n07742313\n",
        "950"
       ]
      },
      {
       "output_type": "stream",
       "stream": "stdout",
       "text": [
        "\n",
        "/media/alvis/Data/Term1/networksconv/caffe/imagenet_small/n07745940\n",
        "951"
       ]
      },
      {
       "output_type": "stream",
       "stream": "stdout",
       "text": [
        "\n",
        "/media/alvis/Data/Term1/networksconv/caffe/imagenet_small/n07747607\n",
        "952"
       ]
      },
      {
       "output_type": "stream",
       "stream": "stdout",
       "text": [
        "\n",
        "/media/alvis/Data/Term1/networksconv/caffe/imagenet_small/n07749582\n",
        "953"
       ]
      },
      {
       "output_type": "stream",
       "stream": "stdout",
       "text": [
        "\n",
        "/media/alvis/Data/Term1/networksconv/caffe/imagenet_small/n07753113\n",
        "954"
       ]
      },
      {
       "output_type": "stream",
       "stream": "stdout",
       "text": [
        "\n",
        "/media/alvis/Data/Term1/networksconv/caffe/imagenet_small/n07753275\n",
        "955"
       ]
      },
      {
       "output_type": "stream",
       "stream": "stdout",
       "text": [
        "\n",
        "/media/alvis/Data/Term1/networksconv/caffe/imagenet_small/n07753592\n",
        "956"
       ]
      },
      {
       "output_type": "stream",
       "stream": "stdout",
       "text": [
        "\n",
        "/media/alvis/Data/Term1/networksconv/caffe/imagenet_small/n07754684\n",
        "957"
       ]
      },
      {
       "output_type": "stream",
       "stream": "stdout",
       "text": [
        "\n",
        "/media/alvis/Data/Term1/networksconv/caffe/imagenet_small/n07760859\n",
        "958"
       ]
      },
      {
       "output_type": "stream",
       "stream": "stdout",
       "text": [
        "\n",
        "/media/alvis/Data/Term1/networksconv/caffe/imagenet_small/n07768694\n",
        "959"
       ]
      },
      {
       "output_type": "stream",
       "stream": "stdout",
       "text": [
        "\n",
        "/media/alvis/Data/Term1/networksconv/caffe/imagenet_small/n07802026\n",
        "960"
       ]
      },
      {
       "output_type": "stream",
       "stream": "stdout",
       "text": [
        "\n",
        "/media/alvis/Data/Term1/networksconv/caffe/imagenet_small/n07831146\n",
        "961"
       ]
      },
      {
       "output_type": "stream",
       "stream": "stdout",
       "text": [
        "\n",
        "/media/alvis/Data/Term1/networksconv/caffe/imagenet_small/n07860988\n",
        "962"
       ]
      },
      {
       "output_type": "stream",
       "stream": "stdout",
       "text": [
        "\n",
        "/media/alvis/Data/Term1/networksconv/caffe/imagenet_small/n07871810\n",
        "963"
       ]
      },
      {
       "output_type": "stream",
       "stream": "stdout",
       "text": [
        "\n",
        "/media/alvis/Data/Term1/networksconv/caffe/imagenet_small/n07873807\n",
        "964"
       ]
      },
      {
       "output_type": "stream",
       "stream": "stdout",
       "text": [
        "\n",
        "/media/alvis/Data/Term1/networksconv/caffe/imagenet_small/n07875152\n",
        "965"
       ]
      },
      {
       "output_type": "stream",
       "stream": "stdout",
       "text": [
        "\n",
        "/media/alvis/Data/Term1/networksconv/caffe/imagenet_small/n07880968\n",
        "966"
       ]
      },
      {
       "output_type": "stream",
       "stream": "stdout",
       "text": [
        "\n",
        "/media/alvis/Data/Term1/networksconv/caffe/imagenet_small/n07892512\n",
        "967"
       ]
      },
      {
       "output_type": "stream",
       "stream": "stdout",
       "text": [
        "\n",
        "/media/alvis/Data/Term1/networksconv/caffe/imagenet_small/n07920052\n",
        "968"
       ]
      },
      {
       "output_type": "stream",
       "stream": "stdout",
       "text": [
        "\n",
        "/media/alvis/Data/Term1/networksconv/caffe/imagenet_small/n07930864\n",
        "969"
       ]
      },
      {
       "output_type": "stream",
       "stream": "stdout",
       "text": [
        "\n",
        "/media/alvis/Data/Term1/networksconv/caffe/imagenet_small/n07932039\n",
        "970"
       ]
      },
      {
       "output_type": "stream",
       "stream": "stdout",
       "text": [
        "\n",
        "/media/alvis/Data/Term1/networksconv/caffe/imagenet_small/n09193705\n",
        "971"
       ]
      },
      {
       "output_type": "stream",
       "stream": "stdout",
       "text": [
        "\n",
        "/media/alvis/Data/Term1/networksconv/caffe/imagenet_small/n09229709\n",
        "972"
       ]
      },
      {
       "output_type": "stream",
       "stream": "stdout",
       "text": [
        "\n",
        "/media/alvis/Data/Term1/networksconv/caffe/imagenet_small/n09246464\n",
        "973"
       ]
      },
      {
       "output_type": "stream",
       "stream": "stdout",
       "text": [
        "\n",
        "/media/alvis/Data/Term1/networksconv/caffe/imagenet_small/n09256479\n",
        "974"
       ]
      },
      {
       "output_type": "stream",
       "stream": "stdout",
       "text": [
        "\n",
        "/media/alvis/Data/Term1/networksconv/caffe/imagenet_small/n09288635\n",
        "975"
       ]
      },
      {
       "output_type": "stream",
       "stream": "stdout",
       "text": [
        "\n",
        "/media/alvis/Data/Term1/networksconv/caffe/imagenet_small/n09332890\n",
        "976"
       ]
      },
      {
       "output_type": "stream",
       "stream": "stdout",
       "text": [
        "\n",
        "/media/alvis/Data/Term1/networksconv/caffe/imagenet_small/n09399592\n",
        "977"
       ]
      },
      {
       "output_type": "stream",
       "stream": "stdout",
       "text": [
        "\n",
        "/media/alvis/Data/Term1/networksconv/caffe/imagenet_small/n09421951\n",
        "978"
       ]
      },
      {
       "output_type": "stream",
       "stream": "stdout",
       "text": [
        "\n",
        "/media/alvis/Data/Term1/networksconv/caffe/imagenet_small/n09428293\n",
        "979"
       ]
      },
      {
       "output_type": "stream",
       "stream": "stdout",
       "text": [
        "\n",
        "/media/alvis/Data/Term1/networksconv/caffe/imagenet_small/n09468604\n",
        "980"
       ]
      },
      {
       "output_type": "stream",
       "stream": "stdout",
       "text": [
        "\n",
        "/media/alvis/Data/Term1/networksconv/caffe/imagenet_small/n09835506\n",
        "981"
       ]
      },
      {
       "output_type": "stream",
       "stream": "stdout",
       "text": [
        "\n",
        "/media/alvis/Data/Term1/networksconv/caffe/imagenet_small/n10148035\n",
        "982"
       ]
      },
      {
       "output_type": "stream",
       "stream": "stdout",
       "text": [
        "\n",
        "/media/alvis/Data/Term1/networksconv/caffe/imagenet_small/n10565667\n",
        "983"
       ]
      },
      {
       "output_type": "stream",
       "stream": "stdout",
       "text": [
        "\n",
        "/media/alvis/Data/Term1/networksconv/caffe/imagenet_small/n11879895\n",
        "984"
       ]
      },
      {
       "output_type": "stream",
       "stream": "stdout",
       "text": [
        "\n",
        "/media/alvis/Data/Term1/networksconv/caffe/imagenet_small/n11939491\n",
        "985"
       ]
      },
      {
       "output_type": "stream",
       "stream": "stdout",
       "text": [
        "\n",
        "/media/alvis/Data/Term1/networksconv/caffe/imagenet_small/n12057211\n",
        "986"
       ]
      },
      {
       "output_type": "stream",
       "stream": "stdout",
       "text": [
        "\n",
        "/media/alvis/Data/Term1/networksconv/caffe/imagenet_small/n12144580\n",
        "987"
       ]
      },
      {
       "output_type": "stream",
       "stream": "stdout",
       "text": [
        "\n",
        "/media/alvis/Data/Term1/networksconv/caffe/imagenet_small/n12267677\n",
        "988"
       ]
      },
      {
       "output_type": "stream",
       "stream": "stdout",
       "text": [
        "\n",
        "/media/alvis/Data/Term1/networksconv/caffe/imagenet_small/n12620546\n",
        "989"
       ]
      },
      {
       "output_type": "stream",
       "stream": "stdout",
       "text": [
        "\n",
        "/media/alvis/Data/Term1/networksconv/caffe/imagenet_small/n12768682\n",
        "990"
       ]
      },
      {
       "output_type": "stream",
       "stream": "stdout",
       "text": [
        "\n",
        "/media/alvis/Data/Term1/networksconv/caffe/imagenet_small/n12985857\n",
        "991"
       ]
      },
      {
       "output_type": "stream",
       "stream": "stdout",
       "text": [
        "\n",
        "/media/alvis/Data/Term1/networksconv/caffe/imagenet_small/n12998815\n",
        "992"
       ]
      },
      {
       "output_type": "stream",
       "stream": "stdout",
       "text": [
        "\n",
        "/media/alvis/Data/Term1/networksconv/caffe/imagenet_small/n13037406\n",
        "993"
       ]
      },
      {
       "output_type": "stream",
       "stream": "stdout",
       "text": [
        "\n",
        "/media/alvis/Data/Term1/networksconv/caffe/imagenet_small/n13040303\n",
        "994"
       ]
      },
      {
       "output_type": "stream",
       "stream": "stdout",
       "text": [
        "\n",
        "/media/alvis/Data/Term1/networksconv/caffe/imagenet_small/n13044778\n",
        "995"
       ]
      },
      {
       "output_type": "stream",
       "stream": "stdout",
       "text": [
        "\n",
        "/media/alvis/Data/Term1/networksconv/caffe/imagenet_small/n13052670\n",
        "996"
       ]
      },
      {
       "output_type": "stream",
       "stream": "stdout",
       "text": [
        "\n",
        "/media/alvis/Data/Term1/networksconv/caffe/imagenet_small/n13054560\n",
        "997"
       ]
      },
      {
       "output_type": "stream",
       "stream": "stdout",
       "text": [
        "\n",
        "/media/alvis/Data/Term1/networksconv/caffe/imagenet_small/n13133613\n",
        "998"
       ]
      },
      {
       "output_type": "stream",
       "stream": "stdout",
       "text": [
        "\n",
        "/media/alvis/Data/Term1/networksconv/caffe/imagenet_small/n15075141\n"
       ]
      }
     ],
     "prompt_number": 3
    },
    {
     "cell_type": "code",
     "collapsed": false,
     "input": [
      "print 1.0*result/allpics"
     ],
     "language": "python",
     "metadata": {},
     "outputs": [
      {
       "output_type": "stream",
       "stream": "stdout",
       "text": [
        "0.692384769539\n"
       ]
      }
     ],
     "prompt_number": 4
    },
    {
     "cell_type": "code",
     "collapsed": false,
     "input": [],
     "language": "python",
     "metadata": {},
     "outputs": []
    }
   ],
   "metadata": {}
  }
 ]
}